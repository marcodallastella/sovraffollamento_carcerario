{
 "cells": [
  {
   "cell_type": "markdown",
   "metadata": {},
   "source": [
    "# Scraper institutes\n",
    "This notebook is a monthly scraper used to retrieve information about condition in detention centers in Italy. To do so, it uses the id numbers of the various detention centers to navigate to the dedicated webpages with Selenium, store locally the html code of the page and then parse it using BeautifuSoup. The information is then stored in a pandas dataframe and saved as a csv file."
   ]
  },
  {
   "cell_type": "code",
   "execution_count": 1,
   "metadata": {
    "execution": {
     "iopub.execute_input": "2024-10-21T06:04:31.773934Z",
     "iopub.status.busy": "2024-10-21T06:04:31.773738Z",
     "iopub.status.idle": "2024-10-21T06:04:32.206624Z",
     "shell.execute_reply": "2024-10-21T06:04:32.205976Z"
    }
   },
   "outputs": [],
   "source": [
    "import pandas as pd\n",
    "import requests\n",
    "import datetime\n",
    "from bs4 import BeautifulSoup\n",
    "import asyncio\n",
    "from playwright.async_api import async_playwright\n",
    "from time import sleep\n",
    "from pathlib import Path"
   ]
  },
  {
   "cell_type": "code",
   "execution_count": 2,
   "metadata": {
    "execution": {
     "iopub.execute_input": "2024-10-21T06:04:32.209173Z",
     "iopub.status.busy": "2024-10-21T06:04:32.208688Z",
     "iopub.status.idle": "2024-10-21T06:04:32.211866Z",
     "shell.execute_reply": "2024-10-21T06:04:32.211353Z"
    }
   },
   "outputs": [],
   "source": [
    "# Get current date\n",
    "current_month = datetime.datetime.now().strftime(\"%Y-%m\")\n",
    "current_day = datetime.datetime.now().strftime(\"%Y-%m-%d\")"
   ]
  },
  {
   "cell_type": "code",
   "execution_count": 3,
   "metadata": {
    "execution": {
     "iopub.execute_input": "2024-10-21T06:04:32.213864Z",
     "iopub.status.busy": "2024-10-21T06:04:32.213484Z",
     "iopub.status.idle": "2024-10-21T06:04:32.219925Z",
     "shell.execute_reply": "2024-10-21T06:04:32.219291Z"
    }
   },
   "outputs": [],
   "source": [
    "# Collect institutes id numbers\n",
    "df_institutes = pd.read_csv(f'../outputs/clean/institutes_info.csv')\n",
    "prison_ids = df_institutes['id_istituto'].tolist()"
   ]
  },
  {
   "cell_type": "code",
   "execution_count": 4,
   "metadata": {
    "execution": {
     "iopub.execute_input": "2024-10-21T06:04:32.222140Z",
     "iopub.status.busy": "2024-10-21T06:04:32.221795Z",
     "iopub.status.idle": "2024-10-21T06:04:32.225509Z",
     "shell.execute_reply": "2024-10-21T06:04:32.224977Z"
    }
   },
   "outputs": [],
   "source": [
    "# Function to grab the html code of the page\n",
    "async def get_html(prison_id, current_day):\n",
    "\n",
    "    # dest = Path(f\"../outputs/raw/snapshots/{current_day}_{prison_id}.html\")\n",
    "\n",
    "    # if dest.exists() : #... load it from file\n",
    "    #     print(f\"Already have {dest}, loading!\")\n",
    "    #     page_html = open(dest).read()\n",
    "    # else:\n",
    "\n",
    "\n",
    "    # try:\n",
    "    await page.goto(f\"{BASE_URL}{prison_id}\")\n",
    "    print(\"Fetching \" + f\"{BASE_URL}{prison_id}\")\n",
    "    page_html = await page.content()\n",
    "        \n",
    "        # Stores html code in dest\n",
    "        # dest.write_text(page_html)\n",
    "    # finally:\n",
    "        # await browser.close()\n",
    "        # await playwright.stop()\n",
    "    \n",
    "    return page_html"
   ]
  },
  {
   "cell_type": "code",
   "execution_count": 5,
   "metadata": {
    "execution": {
     "iopub.execute_input": "2024-10-21T06:04:32.227483Z",
     "iopub.status.busy": "2024-10-21T06:04:32.227289Z",
     "iopub.status.idle": "2024-10-21T06:04:32.236654Z",
     "shell.execute_reply": "2024-10-21T06:04:32.236137Z"
    }
   },
   "outputs": [],
   "source": [
    "# Function to extract institute name and type\n",
    "def extract_institute_details(soup):\n",
    "    institute_name = soup.find('h1', {'class': 'titoloIstituto'}).text.strip()\n",
    "    institute_type = soup.find('h3', {'class': 'titoloIstituto'}).text.strip()\n",
    "    return institute_name, institute_type\n",
    "\n",
    "# Function to extract capacity table data\n",
    "def extract_capacity_data(soup):\n",
    "    table_capienze = soup.find_all('table')[0]\n",
    "    rows = table_capienze.find_all('tr')\n",
    "    if len(rows) > 1:  # Ensure there are rows in the table\n",
    "        cells = rows[1].find_all('td') \n",
    "        posti_regolamentari = int(cells[0].text.strip())\n",
    "        posti_non_disponibili = int(cells[1].text.strip())\n",
    "        totale_detenuti = int(cells[2].text.strip())\n",
    "    else:\n",
    "        posti_regolamentari = posti_non_disponibili = totale_detenuti = 0\n",
    "    return posti_regolamentari, posti_non_disponibili, totale_detenuti\n",
    "\n",
    "# Function to extract updated date\n",
    "def extract_updated_date(soup, header_text):\n",
    "    target_span = soup.find('h2', text=header_text)\n",
    "    if target_span:\n",
    "        span = target_span.find_next_sibling('span')\n",
    "        return span.text.strip() if span else 'NA'\n",
    "    return 'NA'\n",
    "\n",
    "def extract_personnel_details(soup, header_text):\n",
    "    target_span = soup.find('h2', text=header_text)\n",
    "    if target_span:\n",
    "        try:\n",
    "            div = target_span.find_next('div', {'class': 'listaContenutiComplessi'})\n",
    "            spans = div.find_all('span', {'class': 'valoreSottocampo'})\n",
    "            return spans[0].text.strip(), spans[1].text.strip(), spans[2].text.strip()\n",
    "        except:\n",
    "            return 'NA', 'NA', 'NA'\n",
    "    return 'NA', 'NA', 'NA'\n",
    "\n",
    "# Function to extract staff table data\n",
    "def extract_staff_data(soup):\n",
    "    table_staff = soup.find_all('table')[1]\n",
    "    cells = table_staff.find_all('td')\n",
    "    polizia_penitenziaria_effettivi = int(cells[0].text.strip())\n",
    "    polizia_penitenziaria_previsti = int(cells[1].text.strip())\n",
    "    amministrativi_effettivi = int(cells[2].text.strip())\n",
    "    amministrativi_previsti = int(cells[3].text.strip())\n",
    "    educatori_effettivi = int(cells[4].text.strip())\n",
    "    educatori_previsti = int(cells[5].text.strip())\n",
    "    return (polizia_penitenziaria_effettivi, polizia_penitenziaria_previsti,\n",
    "            amministrativi_effettivi, amministrativi_previsti,\n",
    "            educatori_effettivi, educatori_previsti)\n",
    "\n",
    "# Function to extract last update date\n",
    "def extract_date_of_last_update(soup):\n",
    "    # Police staff\n",
    "    target_span= soup.find('h2', text='personale polizia penitenziaria aggiornato al')\n",
    "    try:\n",
    "        span = target_span.find_next_sibling('span')\n",
    "        personale_polizia_aggiornato_al = span.text.strip()\n",
    "    except:\n",
    "        personale_polizia_aggiornato_al = 'NA'\n",
    "\n",
    "    # Administrative staff\n",
    "    target_span= soup.find('h2', text='personale amministrativo aggiornato al')\n",
    "    try:\n",
    "        span = target_span.find_next_sibling('span')\n",
    "        personale_amministrativo_aggiornato_al = span.text.strip()\n",
    "    except:\n",
    "        personale_amministrativo_aggiornato_al = 'NA'\n",
    "\n",
    "    return personale_polizia_aggiornato_al, personale_amministrativo_aggiornato_al\n",
    "    "
   ]
  },
  {
   "cell_type": "code",
   "execution_count": 6,
   "metadata": {
    "execution": {
     "iopub.execute_input": "2024-10-21T06:04:32.238567Z",
     "iopub.status.busy": "2024-10-21T06:04:32.238375Z",
     "iopub.status.idle": "2024-10-21T06:04:32.243485Z",
     "shell.execute_reply": "2024-10-21T06:04:32.242947Z"
    }
   },
   "outputs": [],
   "source": [
    "# Function to extract institute data\n",
    "def get_prison_data(soup, current_day):\n",
    "\n",
    "    institute_name, institute_type = extract_institute_details(soup)\n",
    "    posti_regolamentari, posti_non_disponibili, totale_detenuti = extract_capacity_data(soup)\n",
    "    dati_aggiornati_al = extract_updated_date(soup, 'dati aggiornati al ')\n",
    "    asl, first_name_asl, last_name_asl = extract_personnel_details(soup, 'Responsabile ASL per il carcere')\n",
    "    first_name, last_name, role = extract_personnel_details(soup, 'Direttore')\n",
    "    (polizia_penitenziaria_effettivi, polizia_penitenziaria_previsti, amministrativi_effettivi, amministrativi_previsti, educatori_effettivi, educatori_previsti) = extract_staff_data(soup)\n",
    "    personale_polizia_aggiornato_al, personale_amministrativo_aggiornato_al = extract_date_of_last_update(soup)\n",
    "\n",
    "    prison_data = {\n",
    "            'id': prison_id,\n",
    "            'nome': institute_name,\n",
    "            'tipo': institute_type,\n",
    "            'posti_regolamentari': posti_regolamentari,\n",
    "            'posti_non_disponibili': posti_non_disponibili,\n",
    "            'posti_occupati': totale_detenuti,\n",
    "            'posti_aggiornati_al': dati_aggiornati_al,\n",
    "            'asl': asl,\n",
    "            'nome_responsabile_asl': first_name_asl,\n",
    "            'cognome_responsabile_asl': last_name_asl,\n",
    "            'nome_direttore': first_name,\n",
    "            'cognome_direttore': last_name,\n",
    "            'ruolo_direttore': role,\n",
    "            'personale_polizia_effettivi': polizia_penitenziaria_effettivi,\n",
    "            'personale_polizia_previsti': polizia_penitenziaria_previsti,\n",
    "            'personale_amministrativi_effettivi': amministrativi_effettivi,\n",
    "            'personale_amministrativi_previsti': amministrativi_previsti,\n",
    "            'personale_educatori_effettivi': educatori_effettivi,\n",
    "            'personale_educatori_previsti': educatori_previsti,\n",
    "            'personale_polizia_aggiornato_a': personale_polizia_aggiornato_al,\n",
    "            'personale_amministrativo_aggiornato_al': personale_amministrativo_aggiornato_al,\n",
    "        }\n",
    "        \n",
    "    return prison_data"
   ]
  },
  {
   "cell_type": "code",
   "execution_count": 7,
   "metadata": {
    "execution": {
     "iopub.execute_input": "2024-10-21T06:04:32.245331Z",
     "iopub.status.busy": "2024-10-21T06:04:32.245137Z",
     "iopub.status.idle": "2024-10-21T07:00:55.606299Z",
     "shell.execute_reply": "2024-10-21T07:00:55.605701Z"
    }
   },
   "outputs": [
    {
     "name": "stdout",
     "output_type": "stream",
     "text": [
      "Attempt 1 failed for prison_id MII179988. Error: Page.goto: Timeout 30000ms exceeded.\n",
      "Call log:\n",
      "navigating to \"https://www.giustizia.it/giustizia/it/dettaglio_scheda.page?s=MII179988\", waiting until \"load\"\n",
      "\n",
      "Reinitializing browser...\n"
     ]
    },
    {
     "name": "stdout",
     "output_type": "stream",
     "text": [
      "Fetching https://www.giustizia.it/giustizia/it/dettaglio_scheda.page?s=MII179988\n"
     ]
    },
    {
     "name": "stderr",
     "output_type": "stream",
     "text": [
      "/tmp/ipykernel_3042/3915262977.py:22: DeprecationWarning: The 'text' argument to find()-type methods is deprecated. Use 'string' instead.\n",
      "  target_span = soup.find('h2', text=header_text)\n",
      "/tmp/ipykernel_3042/3915262977.py:29: DeprecationWarning: The 'text' argument to find()-type methods is deprecated. Use 'string' instead.\n",
      "  target_span = soup.find('h2', text=header_text)\n",
      "/tmp/ipykernel_3042/3915262977.py:56: DeprecationWarning: The 'text' argument to find()-type methods is deprecated. Use 'string' instead.\n",
      "  target_span= soup.find('h2', text='personale polizia penitenziaria aggiornato al')\n",
      "/tmp/ipykernel_3042/3915262977.py:64: DeprecationWarning: The 'text' argument to find()-type methods is deprecated. Use 'string' instead.\n",
      "  target_span= soup.find('h2', text='personale amministrativo aggiornato al')\n"
     ]
    },
    {
     "name": "stdout",
     "output_type": "stream",
     "text": [
      "Fetching https://www.giustizia.it/giustizia/it/dettaglio_scheda.page?s=MII172610\n"
     ]
    },
    {
     "name": "stdout",
     "output_type": "stream",
     "text": [
      "Attempt 1 failed for prison_id MII172320. Error: Page.goto: Timeout 30000ms exceeded.\n",
      "Call log:\n",
      "navigating to \"https://www.giustizia.it/giustizia/it/dettaglio_scheda.page?s=MII172320\", waiting until \"load\"\n",
      "\n",
      "Reinitializing browser...\n"
     ]
    },
    {
     "name": "stdout",
     "output_type": "stream",
     "text": [
      "Fetching https://www.giustizia.it/giustizia/it/dettaglio_scheda.page?s=MII172320\n"
     ]
    },
    {
     "name": "stdout",
     "output_type": "stream",
     "text": [
      "Fetching https://www.giustizia.it/giustizia/it/dettaglio_scheda.page?s=MII173712\n"
     ]
    },
    {
     "name": "stdout",
     "output_type": "stream",
     "text": [
      "Fetching https://www.giustizia.it/giustizia/it/dettaglio_scheda.page?s=MII173747\n"
     ]
    },
    {
     "name": "stdout",
     "output_type": "stream",
     "text": [
      "Fetching https://www.giustizia.it/giustizia/it/dettaglio_scheda.page?s=MII177436\n"
     ]
    },
    {
     "name": "stdout",
     "output_type": "stream",
     "text": [
      "Fetching https://www.giustizia.it/giustizia/it/dettaglio_scheda.page?s=MII178027\n"
     ]
    },
    {
     "name": "stdout",
     "output_type": "stream",
     "text": [
      "Fetching https://www.giustizia.it/giustizia/it/dettaglio_scheda.page?s=MII178072\n"
     ]
    },
    {
     "name": "stdout",
     "output_type": "stream",
     "text": [
      "Fetching https://www.giustizia.it/giustizia/it/dettaglio_scheda.page?s=MII178659\n"
     ]
    },
    {
     "name": "stdout",
     "output_type": "stream",
     "text": [
      "Fetching https://www.giustizia.it/giustizia/it/dettaglio_scheda.page?s=MII182910\n"
     ]
    },
    {
     "name": "stdout",
     "output_type": "stream",
     "text": [
      "Fetching https://www.giustizia.it/giustizia/it/dettaglio_scheda.page?s=MII181346\n"
     ]
    },
    {
     "name": "stdout",
     "output_type": "stream",
     "text": [
      "Fetching https://www.giustizia.it/giustizia/it/dettaglio_scheda.page?s=MII181703\n"
     ]
    },
    {
     "name": "stdout",
     "output_type": "stream",
     "text": [
      "Fetching https://www.giustizia.it/giustizia/it/dettaglio_scheda.page?s=MII179733\n"
     ]
    },
    {
     "name": "stdout",
     "output_type": "stream",
     "text": [
      "Fetching https://www.giustizia.it/giustizia/it/dettaglio_scheda.page?s=MII173311\n"
     ]
    },
    {
     "name": "stdout",
     "output_type": "stream",
     "text": [
      "Attempt 1 failed for prison_id MII173324. Error: Page.goto: Timeout 30000ms exceeded.\n",
      "Call log:\n",
      "navigating to \"https://www.giustizia.it/giustizia/it/dettaglio_scheda.page?s=MII173324\", waiting until \"load\"\n",
      "\n",
      "Reinitializing browser...\n"
     ]
    },
    {
     "name": "stdout",
     "output_type": "stream",
     "text": [
      "Fetching https://www.giustizia.it/giustizia/it/dettaglio_scheda.page?s=MII173324\n"
     ]
    },
    {
     "name": "stdout",
     "output_type": "stream",
     "text": [
      "Fetching https://www.giustizia.it/giustizia/it/dettaglio_scheda.page?s=MII179342\n"
     ]
    },
    {
     "name": "stdout",
     "output_type": "stream",
     "text": [
      "Fetching https://www.giustizia.it/giustizia/it/dettaglio_scheda.page?s=MII179353\n"
     ]
    },
    {
     "name": "stdout",
     "output_type": "stream",
     "text": [
      "Fetching https://www.giustizia.it/giustizia/it/dettaglio_scheda.page?s=MII180415\n"
     ]
    },
    {
     "name": "stdout",
     "output_type": "stream",
     "text": [
      "Fetching https://www.giustizia.it/giustizia/it/dettaglio_scheda.page?s=MII181908\n"
     ]
    },
    {
     "name": "stdout",
     "output_type": "stream",
     "text": [
      "Attempt 1 failed for prison_id MII159053. Error: Page.goto: Timeout 30000ms exceeded.\n",
      "Call log:\n",
      "navigating to \"https://www.giustizia.it/giustizia/it/dettaglio_scheda.page?s=MII159053\", waiting until \"load\"\n",
      "\n",
      "Reinitializing browser...\n"
     ]
    },
    {
     "name": "stdout",
     "output_type": "stream",
     "text": [
      "Attempt 2 failed for prison_id MII159053. Error: Page.goto: Timeout 30000ms exceeded.\n",
      "Call log:\n",
      "navigating to \"https://www.giustizia.it/giustizia/it/dettaglio_scheda.page?s=MII159053\", waiting until \"load\"\n",
      "\n",
      "Reinitializing browser...\n"
     ]
    },
    {
     "name": "stdout",
     "output_type": "stream",
     "text": [
      "Fetching https://www.giustizia.it/giustizia/it/dettaglio_scheda.page?s=MII159053\n"
     ]
    },
    {
     "name": "stdout",
     "output_type": "stream",
     "text": [
      "Fetching https://www.giustizia.it/giustizia/it/dettaglio_scheda.page?s=MII172187\n"
     ]
    },
    {
     "name": "stdout",
     "output_type": "stream",
     "text": [
      "Fetching https://www.giustizia.it/giustizia/it/dettaglio_scheda.page?s=MII173101\n"
     ]
    },
    {
     "name": "stdout",
     "output_type": "stream",
     "text": [
      "Fetching https://www.giustizia.it/giustizia/it/dettaglio_scheda.page?s=MII173784\n"
     ]
    },
    {
     "name": "stdout",
     "output_type": "stream",
     "text": [
      "Fetching https://www.giustizia.it/giustizia/it/dettaglio_scheda.page?s=MII172580\n"
     ]
    },
    {
     "name": "stdout",
     "output_type": "stream",
     "text": [
      "Fetching https://www.giustizia.it/giustizia/it/dettaglio_scheda.page?s=MII176719\n"
     ]
    },
    {
     "name": "stdout",
     "output_type": "stream",
     "text": [
      "Fetching https://www.giustizia.it/giustizia/it/dettaglio_scheda.page?s=MII179290\n"
     ]
    },
    {
     "name": "stdout",
     "output_type": "stream",
     "text": [
      "Fetching https://www.giustizia.it/giustizia/it/dettaglio_scheda.page?s=MII180487\n"
     ]
    },
    {
     "name": "stdout",
     "output_type": "stream",
     "text": [
      "Fetching https://www.giustizia.it/giustizia/it/dettaglio_scheda.page?s=MII179913\n"
     ]
    },
    {
     "name": "stdout",
     "output_type": "stream",
     "text": [
      "Fetching https://www.giustizia.it/giustizia/it/dettaglio_scheda.page?s=MII180424\n"
     ]
    },
    {
     "name": "stdout",
     "output_type": "stream",
     "text": [
      "Fetching https://www.giustizia.it/giustizia/it/dettaglio_scheda.page?s=MII159065\n"
     ]
    },
    {
     "name": "stdout",
     "output_type": "stream",
     "text": [
      "Fetching https://www.giustizia.it/giustizia/it/dettaglio_scheda.page?s=MII173237\n"
     ]
    },
    {
     "name": "stdout",
     "output_type": "stream",
     "text": [
      "Fetching https://www.giustizia.it/giustizia/it/dettaglio_scheda.page?s=MII174501\n"
     ]
    },
    {
     "name": "stdout",
     "output_type": "stream",
     "text": [
      "Fetching https://www.giustizia.it/giustizia/it/dettaglio_scheda.page?s=MII181645\n"
     ]
    },
    {
     "name": "stdout",
     "output_type": "stream",
     "text": [
      "Fetching https://www.giustizia.it/giustizia/it/dettaglio_scheda.page?s=MII176424\n"
     ]
    },
    {
     "name": "stdout",
     "output_type": "stream",
     "text": [
      "Fetching https://www.giustizia.it/giustizia/it/dettaglio_scheda.page?s=MII181661\n"
     ]
    },
    {
     "name": "stdout",
     "output_type": "stream",
     "text": [
      "Fetching https://www.giustizia.it/giustizia/it/dettaglio_scheda.page?s=MII181672\n"
     ]
    },
    {
     "name": "stdout",
     "output_type": "stream",
     "text": [
      "Fetching https://www.giustizia.it/giustizia/it/dettaglio_scheda.page?s=MII179818\n"
     ]
    },
    {
     "name": "stdout",
     "output_type": "stream",
     "text": [
      "Fetching https://www.giustizia.it/giustizia/it/dettaglio_scheda.page?s=MII181863\n"
     ]
    },
    {
     "name": "stdout",
     "output_type": "stream",
     "text": [
      "Fetching https://www.giustizia.it/giustizia/it/dettaglio_scheda.page?s=MII181847\n"
     ]
    },
    {
     "name": "stdout",
     "output_type": "stream",
     "text": [
      "Fetching https://www.giustizia.it/giustizia/it/dettaglio_scheda.page?s=MII181891\n"
     ]
    },
    {
     "name": "stdout",
     "output_type": "stream",
     "text": [
      "Fetching https://www.giustizia.it/giustizia/it/dettaglio_scheda.page?s=MII182440\n"
     ]
    },
    {
     "name": "stdout",
     "output_type": "stream",
     "text": [
      "Attempt 1 failed for prison_id MII173088. Error: Page.goto: Timeout 30000ms exceeded.\n",
      "Call log:\n",
      "navigating to \"https://www.giustizia.it/giustizia/it/dettaglio_scheda.page?s=MII173088\", waiting until \"load\"\n",
      "\n",
      "Reinitializing browser...\n"
     ]
    },
    {
     "name": "stdout",
     "output_type": "stream",
     "text": [
      "Fetching https://www.giustizia.it/giustizia/it/dettaglio_scheda.page?s=MII173088\n"
     ]
    },
    {
     "name": "stdout",
     "output_type": "stream",
     "text": [
      "Attempt 1 failed for prison_id MII157783. Error: Page.goto: Timeout 30000ms exceeded.\n",
      "Call log:\n",
      "navigating to \"https://www.giustizia.it/giustizia/it/dettaglio_scheda.page?s=MII157783\", waiting until \"load\"\n",
      "\n",
      "Reinitializing browser...\n"
     ]
    },
    {
     "name": "stdout",
     "output_type": "stream",
     "text": [
      "Fetching https://www.giustizia.it/giustizia/it/dettaglio_scheda.page?s=MII157783\n"
     ]
    },
    {
     "name": "stdout",
     "output_type": "stream",
     "text": [
      "Fetching https://www.giustizia.it/giustizia/it/dettaglio_scheda.page?s=MII173114\n"
     ]
    },
    {
     "name": "stdout",
     "output_type": "stream",
     "text": [
      "Fetching https://www.giustizia.it/giustizia/it/dettaglio_scheda.page?s=MII173364\n"
     ]
    },
    {
     "name": "stdout",
     "output_type": "stream",
     "text": [
      "Fetching https://www.giustizia.it/giustizia/it/dettaglio_scheda.page?s=MII159069\n"
     ]
    },
    {
     "name": "stdout",
     "output_type": "stream",
     "text": [
      "Fetching https://www.giustizia.it/giustizia/it/dettaglio_scheda.page?s=MII173688\n"
     ]
    },
    {
     "name": "stdout",
     "output_type": "stream",
     "text": [
      "Fetching https://www.giustizia.it/giustizia/it/dettaglio_scheda.page?s=MII173356\n"
     ]
    },
    {
     "name": "stdout",
     "output_type": "stream",
     "text": [
      "Fetching https://www.giustizia.it/giustizia/it/dettaglio_scheda.page?s=MII176437\n"
     ]
    },
    {
     "name": "stdout",
     "output_type": "stream",
     "text": [
      "Fetching https://www.giustizia.it/giustizia/it/dettaglio_scheda.page?s=MII173764\n"
     ]
    },
    {
     "name": "stdout",
     "output_type": "stream",
     "text": [
      "Fetching https://www.giustizia.it/giustizia/it/dettaglio_scheda.page?s=MII181636\n"
     ]
    },
    {
     "name": "stdout",
     "output_type": "stream",
     "text": [
      "Fetching https://www.giustizia.it/giustizia/it/dettaglio_scheda.page?s=MII172814\n"
     ]
    },
    {
     "name": "stdout",
     "output_type": "stream",
     "text": [
      "Fetching https://www.giustizia.it/giustizia/it/dettaglio_scheda.page?s=MII176759\n"
     ]
    },
    {
     "name": "stdout",
     "output_type": "stream",
     "text": [
      "Fetching https://www.giustizia.it/giustizia/it/dettaglio_scheda.page?s=MII176703\n"
     ]
    },
    {
     "name": "stdout",
     "output_type": "stream",
     "text": [
      "Attempt 1 failed for prison_id MII177323. Error: Page.goto: Timeout 30000ms exceeded.\n",
      "Call log:\n",
      "navigating to \"https://www.giustizia.it/giustizia/it/dettaglio_scheda.page?s=MII177323\", waiting until \"load\"\n",
      "\n",
      "Reinitializing browser...\n"
     ]
    },
    {
     "name": "stdout",
     "output_type": "stream",
     "text": [
      "Fetching https://www.giustizia.it/giustizia/it/dettaglio_scheda.page?s=MII177323\n"
     ]
    },
    {
     "name": "stdout",
     "output_type": "stream",
     "text": [
      "Fetching https://www.giustizia.it/giustizia/it/dettaglio_scheda.page?s=MII176749\n"
     ]
    },
    {
     "name": "stdout",
     "output_type": "stream",
     "text": [
      "Fetching https://www.giustizia.it/giustizia/it/dettaglio_scheda.page?s=MII176781\n"
     ]
    },
    {
     "name": "stdout",
     "output_type": "stream",
     "text": [
      "Attempt 1 failed for prison_id MII179331. Error: Page.goto: Timeout 30000ms exceeded.\n",
      "Call log:\n",
      "navigating to \"https://www.giustizia.it/giustizia/it/dettaglio_scheda.page?s=MII179331\", waiting until \"load\"\n",
      "\n",
      "Reinitializing browser...\n"
     ]
    },
    {
     "name": "stdout",
     "output_type": "stream",
     "text": [
      "Fetching https://www.giustizia.it/giustizia/it/dettaglio_scheda.page?s=MII179331\n"
     ]
    },
    {
     "name": "stdout",
     "output_type": "stream",
     "text": [
      "Attempt 1 failed for prison_id MII176788. Error: Page.goto: Timeout 30000ms exceeded.\n",
      "Call log:\n",
      "navigating to \"https://www.giustizia.it/giustizia/it/dettaglio_scheda.page?s=MII176788\", waiting until \"load\"\n",
      "\n",
      "Reinitializing browser...\n"
     ]
    },
    {
     "name": "stdout",
     "output_type": "stream",
     "text": [
      "Fetching https://www.giustizia.it/giustizia/it/dettaglio_scheda.page?s=MII176788\n"
     ]
    },
    {
     "name": "stdout",
     "output_type": "stream",
     "text": [
      "Fetching https://www.giustizia.it/giustizia/it/dettaglio_scheda.page?s=MII169535\n"
     ]
    },
    {
     "name": "stdout",
     "output_type": "stream",
     "text": [
      "Fetching https://www.giustizia.it/giustizia/it/dettaglio_scheda.page?s=MII180401\n"
     ]
    },
    {
     "name": "stdout",
     "output_type": "stream",
     "text": [
      "Fetching https://www.giustizia.it/giustizia/it/dettaglio_scheda.page?s=MII180437\n"
     ]
    },
    {
     "name": "stdout",
     "output_type": "stream",
     "text": [
      "Fetching https://www.giustizia.it/giustizia/it/dettaglio_scheda.page?s=MII180380\n"
     ]
    },
    {
     "name": "stdout",
     "output_type": "stream",
     "text": [
      "Fetching https://www.giustizia.it/giustizia/it/dettaglio_scheda.page?s=MII180356\n"
     ]
    },
    {
     "name": "stdout",
     "output_type": "stream",
     "text": [
      "Fetching https://www.giustizia.it/giustizia/it/dettaglio_scheda.page?s=MII180348\n"
     ]
    },
    {
     "name": "stdout",
     "output_type": "stream",
     "text": [
      "Fetching https://www.giustizia.it/giustizia/it/dettaglio_scheda.page?s=MII181870\n"
     ]
    },
    {
     "name": "stdout",
     "output_type": "stream",
     "text": [
      "Fetching https://www.giustizia.it/giustizia/it/dettaglio_scheda.page?s=MII179299\n"
     ]
    },
    {
     "name": "stdout",
     "output_type": "stream",
     "text": [
      "Fetching https://www.giustizia.it/giustizia/it/dettaglio_scheda.page?s=MII181371\n"
     ]
    },
    {
     "name": "stdout",
     "output_type": "stream",
     "text": [
      "Attempt 1 failed for prison_id MII181820. Error: Page.goto: Timeout 30000ms exceeded.\n",
      "Call log:\n",
      "navigating to \"https://www.giustizia.it/giustizia/it/dettaglio_scheda.page?s=MII181820\", waiting until \"load\"\n",
      "\n",
      "Reinitializing browser...\n"
     ]
    },
    {
     "name": "stdout",
     "output_type": "stream",
     "text": [
      "Fetching https://www.giustizia.it/giustizia/it/dettaglio_scheda.page?s=MII181820\n"
     ]
    },
    {
     "name": "stdout",
     "output_type": "stream",
     "text": [
      "Fetching https://www.giustizia.it/giustizia/it/dettaglio_scheda.page?s=MII181839\n"
     ]
    },
    {
     "name": "stdout",
     "output_type": "stream",
     "text": [
      "Fetching https://www.giustizia.it/giustizia/it/dettaglio_scheda.page?s=MII181424\n"
     ]
    },
    {
     "name": "stdout",
     "output_type": "stream",
     "text": [
      "Fetching https://www.giustizia.it/giustizia/it/dettaglio_scheda.page?s=MII158919\n"
     ]
    },
    {
     "name": "stdout",
     "output_type": "stream",
     "text": [
      "Fetching https://www.giustizia.it/giustizia/it/dettaglio_scheda.page?s=MII179995\n"
     ]
    },
    {
     "name": "stdout",
     "output_type": "stream",
     "text": [
      "Fetching https://www.giustizia.it/giustizia/it/dettaglio_scheda.page?s=MII158924\n"
     ]
    },
    {
     "name": "stdout",
     "output_type": "stream",
     "text": [
      "Attempt 1 failed for prison_id MII172277. Error: Page.goto: Timeout 30000ms exceeded.\n",
      "Call log:\n",
      "navigating to \"https://www.giustizia.it/giustizia/it/dettaglio_scheda.page?s=MII172277\", waiting until \"load\"\n",
      "\n",
      "Reinitializing browser...\n"
     ]
    },
    {
     "name": "stdout",
     "output_type": "stream",
     "text": [
      "Fetching https://www.giustizia.it/giustizia/it/dettaglio_scheda.page?s=MII172277\n"
     ]
    },
    {
     "name": "stdout",
     "output_type": "stream",
     "text": [
      "Attempt 1 failed for prison_id MII158948. Error: Page.goto: Timeout 30000ms exceeded.\n",
      "Call log:\n",
      "navigating to \"https://www.giustizia.it/giustizia/it/dettaglio_scheda.page?s=MII158948\", waiting until \"load\"\n",
      "\n",
      "Reinitializing browser...\n"
     ]
    },
    {
     "name": "stdout",
     "output_type": "stream",
     "text": [
      "Fetching https://www.giustizia.it/giustizia/it/dettaglio_scheda.page?s=MII158948\n"
     ]
    },
    {
     "name": "stdout",
     "output_type": "stream",
     "text": [
      "Fetching https://www.giustizia.it/giustizia/it/dettaglio_scheda.page?s=MII181678\n"
     ]
    },
    {
     "name": "stdout",
     "output_type": "stream",
     "text": [
      "Fetching https://www.giustizia.it/giustizia/it/dettaglio_scheda.page?s=MII174720\n"
     ]
    },
    {
     "name": "stdout",
     "output_type": "stream",
     "text": [
      "Attempt 1 failed for prison_id MII172623. Error: Page.goto: Timeout 30000ms exceeded.\n",
      "Call log:\n",
      "navigating to \"https://www.giustizia.it/giustizia/it/dettaglio_scheda.page?s=MII172623\", waiting until \"load\"\n",
      "\n",
      "Reinitializing browser...\n"
     ]
    },
    {
     "name": "stdout",
     "output_type": "stream",
     "text": [
      "Attempt 2 failed for prison_id MII172623. Error: Page.goto: Timeout 30000ms exceeded.\n",
      "Call log:\n",
      "navigating to \"https://www.giustizia.it/giustizia/it/dettaglio_scheda.page?s=MII172623\", waiting until \"load\"\n",
      "\n",
      "Reinitializing browser...\n"
     ]
    },
    {
     "name": "stdout",
     "output_type": "stream",
     "text": [
      "Fetching https://www.giustizia.it/giustizia/it/dettaglio_scheda.page?s=MII172623\n"
     ]
    },
    {
     "name": "stdout",
     "output_type": "stream",
     "text": [
      "Fetching https://www.giustizia.it/giustizia/it/dettaglio_scheda.page?s=MII176743\n"
     ]
    },
    {
     "name": "stdout",
     "output_type": "stream",
     "text": [
      "Fetching https://www.giustizia.it/giustizia/it/dettaglio_scheda.page?s=MII176375\n"
     ]
    },
    {
     "name": "stdout",
     "output_type": "stream",
     "text": [
      "Fetching https://www.giustizia.it/giustizia/it/dettaglio_scheda.page?s=MII177498\n"
     ]
    },
    {
     "name": "stdout",
     "output_type": "stream",
     "text": [
      "Fetching https://www.giustizia.it/giustizia/it/dettaglio_scheda.page?s=MII177463\n"
     ]
    },
    {
     "name": "stdout",
     "output_type": "stream",
     "text": [
      "Fetching https://www.giustizia.it/giustizia/it/dettaglio_scheda.page?s=MII178035\n"
     ]
    },
    {
     "name": "stdout",
     "output_type": "stream",
     "text": [
      "Fetching https://www.giustizia.it/giustizia/it/dettaglio_scheda.page?s=MII178124\n"
     ]
    },
    {
     "name": "stdout",
     "output_type": "stream",
     "text": [
      "Fetching https://www.giustizia.it/giustizia/it/dettaglio_scheda.page?s=MII178141\n"
     ]
    },
    {
     "name": "stdout",
     "output_type": "stream",
     "text": [
      "Fetching https://www.giustizia.it/giustizia/it/dettaglio_scheda.page?s=MII179938\n"
     ]
    },
    {
     "name": "stdout",
     "output_type": "stream",
     "text": [
      "Fetching https://www.giustizia.it/giustizia/it/dettaglio_scheda.page?s=MII179280\n"
     ]
    },
    {
     "name": "stdout",
     "output_type": "stream",
     "text": [
      "Fetching https://www.giustizia.it/giustizia/it/dettaglio_scheda.page?s=MII180476\n"
     ]
    },
    {
     "name": "stdout",
     "output_type": "stream",
     "text": [
      "Fetching https://www.giustizia.it/giustizia/it/dettaglio_scheda.page?s=MII181434\n"
     ]
    },
    {
     "name": "stdout",
     "output_type": "stream",
     "text": [
      "Fetching https://www.giustizia.it/giustizia/it/dettaglio_scheda.page?s=MII182919\n"
     ]
    },
    {
     "name": "stdout",
     "output_type": "stream",
     "text": [
      "Fetching https://www.giustizia.it/giustizia/it/dettaglio_scheda.page?s=MII181681\n"
     ]
    },
    {
     "name": "stdout",
     "output_type": "stream",
     "text": [
      "Fetching https://www.giustizia.it/giustizia/it/dettaglio_scheda.page?s=MII179896\n"
     ]
    },
    {
     "name": "stdout",
     "output_type": "stream",
     "text": [
      "Attempt 1 failed for prison_id MII158935. Error: Page.goto: Timeout 30000ms exceeded.\n",
      "Call log:\n",
      "navigating to \"https://www.giustizia.it/giustizia/it/dettaglio_scheda.page?s=MII158935\", waiting until \"load\"\n",
      "\n",
      "Reinitializing browser...\n"
     ]
    },
    {
     "name": "stdout",
     "output_type": "stream",
     "text": [
      "Fetching https://www.giustizia.it/giustizia/it/dettaglio_scheda.page?s=MII158935\n"
     ]
    },
    {
     "name": "stdout",
     "output_type": "stream",
     "text": [
      "Fetching https://www.giustizia.it/giustizia/it/dettaglio_scheda.page?s=MII179958\n"
     ]
    },
    {
     "name": "stdout",
     "output_type": "stream",
     "text": [
      "Fetching https://www.giustizia.it/giustizia/it/dettaglio_scheda.page?s=MII158945\n"
     ]
    },
    {
     "name": "stdout",
     "output_type": "stream",
     "text": [
      "Fetching https://www.giustizia.it/giustizia/it/dettaglio_scheda.page?s=MII180458\n"
     ]
    },
    {
     "name": "stdout",
     "output_type": "stream",
     "text": [
      "Fetching https://www.giustizia.it/giustizia/it/dettaglio_scheda.page?s=MII181115\n"
     ]
    },
    {
     "name": "stdout",
     "output_type": "stream",
     "text": [
      "Fetching https://www.giustizia.it/giustizia/it/dettaglio_scheda.page?s=MII181358\n"
     ]
    },
    {
     "name": "stdout",
     "output_type": "stream",
     "text": [
      "Fetching https://www.giustizia.it/giustizia/it/dettaglio_scheda.page?s=MII172835\n"
     ]
    },
    {
     "name": "stdout",
     "output_type": "stream",
     "text": [
      "Fetching https://www.giustizia.it/giustizia/it/dettaglio_scheda.page?s=MII158910\n"
     ]
    },
    {
     "name": "stdout",
     "output_type": "stream",
     "text": [
      "Attempt 1 failed for prison_id MII177118. Error: Page.goto: Timeout 30000ms exceeded.\n",
      "Call log:\n",
      "navigating to \"https://www.giustizia.it/giustizia/it/dettaglio_scheda.page?s=MII177118\", waiting until \"load\"\n",
      "\n",
      "Reinitializing browser...\n"
     ]
    },
    {
     "name": "stdout",
     "output_type": "stream",
     "text": [
      "Fetching https://www.giustizia.it/giustizia/it/dettaglio_scheda.page?s=MII177118\n"
     ]
    },
    {
     "name": "stdout",
     "output_type": "stream",
     "text": [
      "Attempt 1 failed for prison_id MII179224. Error: Page.goto: Timeout 30000ms exceeded.\n",
      "Call log:\n",
      "navigating to \"https://www.giustizia.it/giustizia/it/dettaglio_scheda.page?s=MII179224\", waiting until \"load\"\n",
      "\n",
      "Reinitializing browser...\n"
     ]
    },
    {
     "name": "stdout",
     "output_type": "stream",
     "text": [
      "Fetching https://www.giustizia.it/giustizia/it/dettaglio_scheda.page?s=MII179224\n"
     ]
    },
    {
     "name": "stdout",
     "output_type": "stream",
     "text": [
      "Attempt 1 failed for prison_id MII172222. Error: Page.goto: Timeout 30000ms exceeded.\n",
      "Call log:\n",
      "navigating to \"https://www.giustizia.it/giustizia/it/dettaglio_scheda.page?s=MII172222\", waiting until \"load\"\n",
      "\n",
      "Reinitializing browser...\n"
     ]
    },
    {
     "name": "stdout",
     "output_type": "stream",
     "text": [
      "Fetching https://www.giustizia.it/giustizia/it/dettaglio_scheda.page?s=MII172222\n"
     ]
    },
    {
     "name": "stdout",
     "output_type": "stream",
     "text": [
      "Fetching https://www.giustizia.it/giustizia/it/dettaglio_scheda.page?s=MII178003\n"
     ]
    },
    {
     "name": "stdout",
     "output_type": "stream",
     "text": [
      "Fetching https://www.giustizia.it/giustizia/it/dettaglio_scheda.page?s=MII179274\n"
     ]
    },
    {
     "name": "stdout",
     "output_type": "stream",
     "text": [
      "Fetching https://www.giustizia.it/giustizia/it/dettaglio_scheda.page?s=MII181385\n",
      "Attempt 1 failed for prison_id MII181385. Error: list index out of range\n",
      "Reinitializing browser...\n"
     ]
    },
    {
     "name": "stdout",
     "output_type": "stream",
     "text": [
      "Fetching https://www.giustizia.it/giustizia/it/dettaglio_scheda.page?s=MII181385\n",
      "Attempt 2 failed for prison_id MII181385. Error: list index out of range\n",
      "Reinitializing browser...\n"
     ]
    },
    {
     "name": "stdout",
     "output_type": "stream",
     "text": [
      "Fetching https://www.giustizia.it/giustizia/it/dettaglio_scheda.page?s=MII181385\n",
      "Attempt 3 failed for prison_id MII181385. Error: list index out of range\n",
      "Reinitializing browser...\n"
     ]
    },
    {
     "name": "stdout",
     "output_type": "stream",
     "text": [
      "Fetching https://www.giustizia.it/giustizia/it/dettaglio_scheda.page?s=MII181385\n",
      "Attempt 4 failed for prison_id MII181385. Error: list index out of range\n",
      "Reinitializing browser...\n"
     ]
    },
    {
     "name": "stdout",
     "output_type": "stream",
     "text": [
      "Fetching https://www.giustizia.it/giustizia/it/dettaglio_scheda.page?s=MII181385\n",
      "Attempt 5 failed for prison_id MII181385. Error: list index out of range\n",
      "Reinitializing browser...\n"
     ]
    },
    {
     "name": "stdout",
     "output_type": "stream",
     "text": [
      "Failed to fetch data for prison_id MII181385 after 5 attempts.\n"
     ]
    },
    {
     "name": "stdout",
     "output_type": "stream",
     "text": [
      "Fetching https://www.giustizia.it/giustizia/it/dettaglio_scheda.page?s=MII179965\n"
     ]
    },
    {
     "name": "stdout",
     "output_type": "stream",
     "text": [
      "Fetching https://www.giustizia.it/giustizia/it/dettaglio_scheda.page?s=MII181109\n"
     ]
    },
    {
     "name": "stdout",
     "output_type": "stream",
     "text": [
      "Fetching https://www.giustizia.it/giustizia/it/dettaglio_scheda.page?s=MII178666\n"
     ]
    },
    {
     "name": "stdout",
     "output_type": "stream",
     "text": [
      "Fetching https://www.giustizia.it/giustizia/it/dettaglio_scheda.page?s=MII178672\n"
     ]
    },
    {
     "name": "stdout",
     "output_type": "stream",
     "text": [
      "Fetching https://www.giustizia.it/giustizia/it/dettaglio_scheda.page?s=MII172592\n"
     ]
    },
    {
     "name": "stdout",
     "output_type": "stream",
     "text": [
      "Fetching https://www.giustizia.it/giustizia/it/dettaglio_scheda.page?s=MII158895\n"
     ]
    },
    {
     "name": "stdout",
     "output_type": "stream",
     "text": [
      "Fetching https://www.giustizia.it/giustizia/it/dettaglio_scheda.page?s=MII178501\n"
     ]
    },
    {
     "name": "stdout",
     "output_type": "stream",
     "text": [
      "Fetching https://www.giustizia.it/giustizia/it/dettaglio_scheda.page?s=MII174825\n"
     ]
    },
    {
     "name": "stdout",
     "output_type": "stream",
     "text": [
      "Fetching https://www.giustizia.it/giustizia/it/dettaglio_scheda.page?s=MII179932\n"
     ]
    },
    {
     "name": "stdout",
     "output_type": "stream",
     "text": [
      "Fetching https://www.giustizia.it/giustizia/it/dettaglio_scheda.page?s=MII181407\n"
     ]
    },
    {
     "name": "stdout",
     "output_type": "stream",
     "text": [
      "Fetching https://www.giustizia.it/giustizia/it/dettaglio_scheda.page?s=MII180465\n"
     ]
    },
    {
     "name": "stdout",
     "output_type": "stream",
     "text": [
      "Fetching https://www.giustizia.it/giustizia/it/dettaglio_scheda.page?s=MII158944\n"
     ]
    },
    {
     "name": "stdout",
     "output_type": "stream",
     "text": [
      "Fetching https://www.giustizia.it/giustizia/it/dettaglio_scheda.page?s=MII158941\n"
     ]
    },
    {
     "name": "stdout",
     "output_type": "stream",
     "text": [
      "Fetching https://www.giustizia.it/giustizia/it/dettaglio_scheda.page?s=MII172011\n",
      "Attempt 1 failed for prison_id MII172011. Error: 'NoneType' object has no attribute 'text'\n",
      "Reinitializing browser...\n"
     ]
    },
    {
     "name": "stdout",
     "output_type": "stream",
     "text": [
      "Fetching https://www.giustizia.it/giustizia/it/dettaglio_scheda.page?s=MII172011\n"
     ]
    },
    {
     "name": "stdout",
     "output_type": "stream",
     "text": [
      "Fetching https://www.giustizia.it/giustizia/it/dettaglio_scheda.page?s=MII181392\n"
     ]
    },
    {
     "name": "stdout",
     "output_type": "stream",
     "text": [
      "Fetching https://www.giustizia.it/giustizia/it/dettaglio_scheda.page?s=MII181918\n"
     ]
    },
    {
     "name": "stdout",
     "output_type": "stream",
     "text": [
      "Fetching https://www.giustizia.it/giustizia/it/dettaglio_scheda.page?s=MII178085\n"
     ]
    },
    {
     "name": "stdout",
     "output_type": "stream",
     "text": [
      "Fetching https://www.giustizia.it/giustizia/it/dettaglio_scheda.page?s=MII178115\n"
     ]
    },
    {
     "name": "stdout",
     "output_type": "stream",
     "text": [
      "Fetching https://www.giustizia.it/giustizia/it/dettaglio_scheda.page?s=MII177420\n"
     ]
    },
    {
     "name": "stdout",
     "output_type": "stream",
     "text": [
      "Fetching https://www.giustizia.it/giustizia/it/dettaglio_scheda.page?s=MII179830\n"
     ]
    },
    {
     "name": "stdout",
     "output_type": "stream",
     "text": [
      "Fetching https://www.giustizia.it/giustizia/it/dettaglio_scheda.page?s=MII179945\n"
     ]
    },
    {
     "name": "stdout",
     "output_type": "stream",
     "text": [
      "Fetching https://www.giustizia.it/giustizia/it/dettaglio_scheda.page?s=MII177346\n"
     ]
    },
    {
     "name": "stdout",
     "output_type": "stream",
     "text": [
      "Fetching https://www.giustizia.it/giustizia/it/dettaglio_scheda.page?s=MII181440\n"
     ]
    },
    {
     "name": "stdout",
     "output_type": "stream",
     "text": [
      "Fetching https://www.giustizia.it/giustizia/it/dettaglio_scheda.page?s=MII159314\n"
     ]
    },
    {
     "name": "stdout",
     "output_type": "stream",
     "text": [
      "Attempt 1 failed for prison_id MII173006. Error: Page.goto: Timeout 30000ms exceeded.\n",
      "Call log:\n",
      "navigating to \"https://www.giustizia.it/giustizia/it/dettaglio_scheda.page?s=MII173006\", waiting until \"load\"\n",
      "\n",
      "Reinitializing browser...\n"
     ]
    },
    {
     "name": "stdout",
     "output_type": "stream",
     "text": [
      "Fetching https://www.giustizia.it/giustizia/it/dettaglio_scheda.page?s=MII173006\n"
     ]
    },
    {
     "name": "stdout",
     "output_type": "stream",
     "text": [
      "Attempt 1 failed for prison_id MII173259. Error: Page.goto: Timeout 30000ms exceeded.\n",
      "Call log:\n",
      "navigating to \"https://www.giustizia.it/giustizia/it/dettaglio_scheda.page?s=MII173259\", waiting until \"load\"\n",
      "\n",
      "Reinitializing browser...\n"
     ]
    },
    {
     "name": "stdout",
     "output_type": "stream",
     "text": [
      "Fetching https://www.giustizia.it/giustizia/it/dettaglio_scheda.page?s=MII173259\n"
     ]
    },
    {
     "name": "stdout",
     "output_type": "stream",
     "text": [
      "Fetching https://www.giustizia.it/giustizia/it/dettaglio_scheda.page?s=MII173301\n"
     ]
    },
    {
     "name": "stdout",
     "output_type": "stream",
     "text": [
      "Fetching https://www.giustizia.it/giustizia/it/dettaglio_scheda.page?s=MII173813\n"
     ]
    },
    {
     "name": "stdout",
     "output_type": "stream",
     "text": [
      "Fetching https://www.giustizia.it/giustizia/it/dettaglio_scheda.page?s=MII173994\n"
     ]
    },
    {
     "name": "stdout",
     "output_type": "stream",
     "text": [
      "Fetching https://www.giustizia.it/giustizia/it/dettaglio_scheda.page?s=MII176451\n"
     ]
    },
    {
     "name": "stdout",
     "output_type": "stream",
     "text": [
      "Fetching https://www.giustizia.it/giustizia/it/dettaglio_scheda.page?s=MII176714\n"
     ]
    },
    {
     "name": "stdout",
     "output_type": "stream",
     "text": [
      "Attempt 1 failed for prison_id MII178681. Error: Page.goto: Timeout 30000ms exceeded.\n",
      "Call log:\n",
      "navigating to \"https://www.giustizia.it/giustizia/it/dettaglio_scheda.page?s=MII178681\", waiting until \"load\"\n",
      "\n",
      "Reinitializing browser...\n"
     ]
    },
    {
     "name": "stdout",
     "output_type": "stream",
     "text": [
      "Fetching https://www.giustizia.it/giustizia/it/dettaglio_scheda.page?s=MII178681\n"
     ]
    },
    {
     "name": "stdout",
     "output_type": "stream",
     "text": [
      "Attempt 1 failed for prison_id MII180451. Error: Page.goto: Timeout 30000ms exceeded.\n",
      "Call log:\n",
      "navigating to \"https://www.giustizia.it/giustizia/it/dettaglio_scheda.page?s=MII180451\", waiting until \"load\"\n",
      "\n",
      "Reinitializing browser...\n"
     ]
    },
    {
     "name": "stdout",
     "output_type": "stream",
     "text": [
      "Fetching https://www.giustizia.it/giustizia/it/dettaglio_scheda.page?s=MII180451\n"
     ]
    },
    {
     "name": "stdout",
     "output_type": "stream",
     "text": [
      "Fetching https://www.giustizia.it/giustizia/it/dettaglio_scheda.page?s=MII181401\n"
     ]
    },
    {
     "name": "stdout",
     "output_type": "stream",
     "text": [
      "Fetching https://www.giustizia.it/giustizia/it/dettaglio_scheda.page?s=MII181625\n"
     ]
    },
    {
     "name": "stdout",
     "output_type": "stream",
     "text": [
      "Fetching https://www.giustizia.it/giustizia/it/dettaglio_scheda.page?s=MII172332\n"
     ]
    },
    {
     "name": "stdout",
     "output_type": "stream",
     "text": [
      "Fetching https://www.giustizia.it/giustizia/it/dettaglio_scheda.page?s=MII179876\n"
     ]
    },
    {
     "name": "stdout",
     "output_type": "stream",
     "text": [
      "Attempt 1 failed for prison_id MII172208. Error: Page.goto: Timeout 30000ms exceeded.\n",
      "Call log:\n",
      "navigating to \"https://www.giustizia.it/giustizia/it/dettaglio_scheda.page?s=MII172208\", waiting until \"load\"\n",
      "\n",
      "Reinitializing browser...\n"
     ]
    },
    {
     "name": "stdout",
     "output_type": "stream",
     "text": [
      "Fetching https://www.giustizia.it/giustizia/it/dettaglio_scheda.page?s=MII172208\n"
     ]
    },
    {
     "name": "stdout",
     "output_type": "stream",
     "text": [
      "Fetching https://www.giustizia.it/giustizia/it/dettaglio_scheda.page?s=MII181417\n"
     ]
    },
    {
     "name": "stdout",
     "output_type": "stream",
     "text": [
      "Fetching https://www.giustizia.it/giustizia/it/dettaglio_scheda.page?s=MII173063\n"
     ]
    },
    {
     "name": "stdout",
     "output_type": "stream",
     "text": [
      "Fetching https://www.giustizia.it/giustizia/it/dettaglio_scheda.page?s=MII158901\n"
     ]
    },
    {
     "name": "stdout",
     "output_type": "stream",
     "text": [
      "Fetching https://www.giustizia.it/giustizia/it/dettaglio_scheda.page?s=MII173341\n"
     ]
    },
    {
     "name": "stdout",
     "output_type": "stream",
     "text": [
      "Fetching https://www.giustizia.it/giustizia/it/dettaglio_scheda.page?s=MII172344\n"
     ]
    },
    {
     "name": "stdout",
     "output_type": "stream",
     "text": [
      "Fetching https://www.giustizia.it/giustizia/it/dettaglio_scheda.page?s=MII181691\n"
     ]
    },
    {
     "name": "stdout",
     "output_type": "stream",
     "text": [
      "Fetching https://www.giustizia.it/giustizia/it/dettaglio_scheda.page?s=MII160204\n"
     ]
    },
    {
     "name": "stdout",
     "output_type": "stream",
     "text": [
      "Fetching https://www.giustizia.it/giustizia/it/dettaglio_scheda.page?s=MII181934\n"
     ]
    },
    {
     "name": "stdout",
     "output_type": "stream",
     "text": [
      "Fetching https://www.giustizia.it/giustizia/it/dettaglio_scheda.page?s=MII172827\n"
     ]
    },
    {
     "name": "stdout",
     "output_type": "stream",
     "text": [
      "Fetching https://www.giustizia.it/giustizia/it/dettaglio_scheda.page?s=MII176771\n"
     ]
    },
    {
     "name": "stdout",
     "output_type": "stream",
     "text": [
      "Attempt 1 failed for prison_id MII159060. Error: Page.goto: Timeout 30000ms exceeded.\n",
      "Call log:\n",
      "navigating to \"https://www.giustizia.it/giustizia/it/dettaglio_scheda.page?s=MII159060\", waiting until \"load\"\n",
      "\n",
      "Reinitializing browser...\n"
     ]
    },
    {
     "name": "stdout",
     "output_type": "stream",
     "text": [
      "Attempt 2 failed for prison_id MII159060. Error: Page.goto: Timeout 30000ms exceeded.\n",
      "Call log:\n",
      "navigating to \"https://www.giustizia.it/giustizia/it/dettaglio_scheda.page?s=MII159060\", waiting until \"load\"\n",
      "\n",
      "Reinitializing browser...\n"
     ]
    },
    {
     "name": "stdout",
     "output_type": "stream",
     "text": [
      "Fetching https://www.giustizia.it/giustizia/it/dettaglio_scheda.page?s=MII159060\n"
     ]
    },
    {
     "name": "stdout",
     "output_type": "stream",
     "text": [
      "Fetching https://www.giustizia.it/giustizia/it/dettaglio_scheda.page?s=MII177134\n"
     ]
    },
    {
     "name": "stdout",
     "output_type": "stream",
     "text": [
      "Fetching https://www.giustizia.it/giustizia/it/dettaglio_scheda.page?s=MII178700\n",
      "Attempt 1 failed for prison_id MII178700. Error: 'NoneType' object has no attribute 'text'\n",
      "Reinitializing browser...\n"
     ]
    },
    {
     "name": "stdout",
     "output_type": "stream",
     "text": [
      "Fetching https://www.giustizia.it/giustizia/it/dettaglio_scheda.page?s=MII178700\n"
     ]
    },
    {
     "name": "stdout",
     "output_type": "stream",
     "text": [
      "Fetching https://www.giustizia.it/giustizia/it/dettaglio_scheda.page?s=MII178148\n"
     ]
    },
    {
     "name": "stdout",
     "output_type": "stream",
     "text": [
      "Fetching https://www.giustizia.it/giustizia/it/dettaglio_scheda.page?s=MII173285\n"
     ]
    },
    {
     "name": "stdout",
     "output_type": "stream",
     "text": [
      "Fetching https://www.giustizia.it/giustizia/it/dettaglio_scheda.page?s=MII181079\n"
     ]
    },
    {
     "name": "stdout",
     "output_type": "stream",
     "text": [
      "Fetching https://www.giustizia.it/giustizia/it/dettaglio_scheda.page?s=MII177384\n"
     ]
    },
    {
     "name": "stdout",
     "output_type": "stream",
     "text": [
      "Attempt 1 failed for prison_id MII179324. Error: Page.goto: Timeout 30000ms exceeded.\n",
      "Call log:\n",
      "navigating to \"https://www.giustizia.it/giustizia/it/dettaglio_scheda.page?s=MII179324\", waiting until \"load\"\n",
      "\n",
      "Reinitializing browser...\n"
     ]
    },
    {
     "name": "stdout",
     "output_type": "stream",
     "text": [
      "Fetching https://www.giustizia.it/giustizia/it/dettaglio_scheda.page?s=MII179324\n"
     ]
    },
    {
     "name": "stdout",
     "output_type": "stream",
     "text": [
      "Fetching https://www.giustizia.it/giustizia/it/dettaglio_scheda.page?s=MII181091\n"
     ]
    },
    {
     "name": "stdout",
     "output_type": "stream",
     "text": [
      "Fetching https://www.giustizia.it/giustizia/it/dettaglio_scheda.page?s=MII179781\n"
     ]
    },
    {
     "name": "stdout",
     "output_type": "stream",
     "text": [
      "Fetching https://www.giustizia.it/giustizia/it/dettaglio_scheda.page?s=MII181880\n"
     ]
    },
    {
     "name": "stdout",
     "output_type": "stream",
     "text": [
      "Fetching https://www.giustizia.it/giustizia/it/dettaglio_scheda.page?s=MII181924\n"
     ]
    },
    {
     "name": "stdout",
     "output_type": "stream",
     "text": [
      "Fetching https://www.giustizia.it/giustizia/it/dettaglio_scheda.page?s=MII177996\n"
     ]
    },
    {
     "name": "stdout",
     "output_type": "stream",
     "text": [
      "Fetching https://www.giustizia.it/giustizia/it/dettaglio_scheda.page?s=MII180370\n"
     ]
    },
    {
     "name": "stdout",
     "output_type": "stream",
     "text": [
      "Fetching https://www.giustizia.it/giustizia/it/dettaglio_scheda.page?s=MII173265\n"
     ]
    },
    {
     "name": "stdout",
     "output_type": "stream",
     "text": [
      "Fetching https://www.giustizia.it/giustizia/it/dettaglio_scheda.page?s=MII178045\n"
     ]
    },
    {
     "name": "stdout",
     "output_type": "stream",
     "text": [
      "Fetching https://www.giustizia.it/giustizia/it/dettaglio_scheda.page?s=MII177332\n"
     ]
    },
    {
     "name": "stdout",
     "output_type": "stream",
     "text": [
      "Attempt 1 failed for prison_id MII179856. Error: Page.goto: Timeout 30000ms exceeded.\n",
      "Call log:\n",
      "navigating to \"https://www.giustizia.it/giustizia/it/dettaglio_scheda.page?s=MII179856\", waiting until \"load\"\n",
      "\n",
      "Reinitializing browser...\n"
     ]
    },
    {
     "name": "stdout",
     "output_type": "stream",
     "text": [
      "Fetching https://www.giustizia.it/giustizia/it/dettaglio_scheda.page?s=MII179856\n"
     ]
    },
    {
     "name": "stdout",
     "output_type": "stream",
     "text": [
      "Fetching https://www.giustizia.it/giustizia/it/dettaglio_scheda.page?s=MII177107\n"
     ]
    },
    {
     "name": "stdout",
     "output_type": "stream",
     "text": [
      "Fetching https://www.giustizia.it/giustizia/it/dettaglio_scheda.page?s=MII179306\n"
     ]
    },
    {
     "name": "stdout",
     "output_type": "stream",
     "text": [
      "Fetching https://www.giustizia.it/giustizia/it/dettaglio_scheda.page?s=MII180426\n"
     ]
    },
    {
     "name": "stdout",
     "output_type": "stream",
     "text": [
      "Fetching https://www.giustizia.it/giustizia/it/dettaglio_scheda.page?s=MII181377\n"
     ]
    },
    {
     "name": "stdout",
     "output_type": "stream",
     "text": [
      "Fetching https://www.giustizia.it/giustizia/it/dettaglio_scheda.page?s=MII176414\n"
     ]
    },
    {
     "name": "stdout",
     "output_type": "stream",
     "text": [
      "Fetching https://www.giustizia.it/giustizia/it/dettaglio_scheda.page?s=MII179237\n"
     ]
    },
    {
     "name": "stdout",
     "output_type": "stream",
     "text": [
      "Fetching https://www.giustizia.it/giustizia/it/dettaglio_scheda.page?s=MII152284\n"
     ]
    },
    {
     "name": "stdout",
     "output_type": "stream",
     "text": [
      "Fetching https://www.giustizia.it/giustizia/it/dettaglio_scheda.page?s=MII182339\n"
     ]
    },
    {
     "name": "stdout",
     "output_type": "stream",
     "text": [
      "Fetching https://www.giustizia.it/giustizia/it/dettaglio_scheda.page?s=MII180001\n"
     ]
    },
    {
     "name": "stdout",
     "output_type": "stream",
     "text": [
      "Attempt 1 failed for prison_id MII174686. Error: Page.goto: Timeout 30000ms exceeded.\n",
      "Call log:\n",
      "navigating to \"https://www.giustizia.it/giustizia/it/dettaglio_scheda.page?s=MII174686\", waiting until \"load\"\n",
      "\n",
      "Reinitializing browser...\n"
     ]
    },
    {
     "name": "stdout",
     "output_type": "stream",
     "text": [
      "Fetching https://www.giustizia.it/giustizia/it/dettaglio_scheda.page?s=MII174686\n"
     ]
    },
    {
     "name": "stdout",
     "output_type": "stream",
     "text": [
      "Fetching https://www.giustizia.it/giustizia/it/dettaglio_scheda.page?s=MII179842\n"
     ]
    },
    {
     "name": "stdout",
     "output_type": "stream",
     "text": [
      "Fetching https://www.giustizia.it/giustizia/it/dettaglio_scheda.page?s=MII172508\n"
     ]
    },
    {
     "name": "stdout",
     "output_type": "stream",
     "text": [
      "Fetching https://www.giustizia.it/giustizia/it/dettaglio_scheda.page?s=MII179981\n"
     ]
    },
    {
     "name": "stdout",
     "output_type": "stream",
     "text": [
      "Fetching https://www.giustizia.it/giustizia/it/dettaglio_scheda.page?s=MII179364\n"
     ]
    },
    {
     "name": "stdout",
     "output_type": "stream",
     "text": [
      "Fetching https://www.giustizia.it/giustizia/it/dettaglio_scheda.page?s=MII176403\n"
     ]
    },
    {
     "name": "stdout",
     "output_type": "stream",
     "text": [
      "Fetching https://www.giustizia.it/giustizia/it/dettaglio_scheda.page?s=MII178638\n"
     ]
    },
    {
     "name": "stdout",
     "output_type": "stream",
     "text": [
      "Fetching https://www.giustizia.it/giustizia/it/dettaglio_scheda.page?s=MII181125\n"
     ]
    }
   ],
   "source": [
    "data = []\n",
    "\n",
    "BASE_URL = \"https://www.giustizia.it/giustizia/it/dettaglio_scheda.page?s=\"\n",
    "playwright = await async_playwright().start()\n",
    "browser = await playwright.firefox.launch()\n",
    "context = await browser.new_context(viewport={'width': 1280, 'height': 800})\n",
    "page = await context.new_page()\n",
    "\n",
    "\n",
    "\n",
    "for prison_id in prison_ids:\n",
    "    success = False\n",
    "    for attempt in range(5):\n",
    "        try:\n",
    "            html_content = await get_html(prison_id, current_month)\n",
    "            # Parse the html with BeautifulSoup\n",
    "            soup = BeautifulSoup(html_content, 'html.parser')\n",
    "            prison_data = get_prison_data(soup, current_day)\n",
    "\n",
    "            # Append prison_data to data list\n",
    "            data.append(prison_data)\n",
    "\n",
    "            success = True\n",
    "            break  # Break the retry loop if successful\n",
    "\n",
    "        except Exception as e:\n",
    "            print(f\"Attempt {attempt+1} failed for prison_id {prison_id}. Error: {e}\")\n",
    "            if attempt < 5:  # If not the last attempt, sleep for 10 seconds before retrying\n",
    "                print(\"Reinitializing browser...\")\n",
    "                await browser.close()\n",
    "                sleep(10)\n",
    "                browser = await playwright.firefox.launch()\n",
    "                context = await browser.new_context(viewport={'width': 1280, 'height': 800})\n",
    "                page = await context.new_page()\n",
    "\n",
    "\n",
    "    if not success:\n",
    "        print(f\"Failed to fetch data for prison_id {prison_id} after 5 attempts.\")\n",
    "    # Sleep for 5 seconds before making the next request\n",
    "    sleep(5)\n",
    "\n",
    "await browser.close()\n",
    "\n",
    "# Convert prison_data_list to a Pandas DataFrame\n",
    "data_df = pd.DataFrame(data)"
   ]
  },
  {
   "cell_type": "code",
   "execution_count": 8,
   "metadata": {
    "execution": {
     "iopub.execute_input": "2024-10-21T07:00:55.608797Z",
     "iopub.status.busy": "2024-10-21T07:00:55.608368Z",
     "iopub.status.idle": "2024-10-21T07:00:55.615187Z",
     "shell.execute_reply": "2024-10-21T07:00:55.614517Z"
    }
   },
   "outputs": [
    {
     "data": {
      "text/plain": [
       "189"
      ]
     },
     "execution_count": 8,
     "metadata": {},
     "output_type": "execute_result"
    }
   ],
   "source": [
    "len(data_df)"
   ]
  },
  {
   "cell_type": "code",
   "execution_count": 9,
   "metadata": {
    "execution": {
     "iopub.execute_input": "2024-10-21T07:00:55.617444Z",
     "iopub.status.busy": "2024-10-21T07:00:55.617055Z",
     "iopub.status.idle": "2024-10-21T07:00:55.647567Z",
     "shell.execute_reply": "2024-10-21T07:00:55.646909Z"
    }
   },
   "outputs": [],
   "source": [
    "old_data_path = Path('../outputs/raw/institutes_raw.csv')\n",
    "\n",
    "if old_data_path.exists():\n",
    "  old_data = pd.read_csv('../outputs/raw/institutes_raw.csv')\n",
    "  combined_data = pd.concat([old_data, data_df], ignore_index=True)\n",
    "  combined_data.drop_duplicates(inplace=True)\n",
    "else:\n",
    "  combined_data = data_df\n",
    "  combined_data.drop_duplicates(inplace=True)\n",
    "\n",
    "combined_data.to_csv('../outputs/raw/institutes_raw.csv', index=False)"
   ]
  },
  {
   "cell_type": "markdown",
   "metadata": {},
   "source": [
    "### Institutes - Totals"
   ]
  },
  {
   "cell_type": "markdown",
   "metadata": {},
   "source": [
    "Some basic cleaning for the dates"
   ]
  },
  {
   "cell_type": "code",
   "execution_count": 10,
   "metadata": {
    "execution": {
     "iopub.execute_input": "2024-10-21T07:00:55.650168Z",
     "iopub.status.busy": "2024-10-21T07:00:55.649786Z",
     "iopub.status.idle": "2024-10-21T07:00:55.663800Z",
     "shell.execute_reply": "2024-10-21T07:00:55.663178Z"
    }
   },
   "outputs": [
    {
     "data": {
      "text/html": [
       "<div>\n",
       "<style scoped>\n",
       "    .dataframe tbody tr th:only-of-type {\n",
       "        vertical-align: middle;\n",
       "    }\n",
       "\n",
       "    .dataframe tbody tr th {\n",
       "        vertical-align: top;\n",
       "    }\n",
       "\n",
       "    .dataframe thead th {\n",
       "        text-align: right;\n",
       "    }\n",
       "</style>\n",
       "<table border=\"1\" class=\"dataframe\">\n",
       "  <thead>\n",
       "    <tr style=\"text-align: right;\">\n",
       "      <th></th>\n",
       "      <th>id</th>\n",
       "      <th>nome</th>\n",
       "      <th>tipo</th>\n",
       "      <th>posti_regolamentari</th>\n",
       "      <th>posti_non_disponibili</th>\n",
       "      <th>posti_occupati</th>\n",
       "      <th>posti_aggiornati_al</th>\n",
       "      <th>asl</th>\n",
       "      <th>nome_responsabile_asl</th>\n",
       "      <th>cognome_responsabile_asl</th>\n",
       "      <th>...</th>\n",
       "      <th>cognome_direttore</th>\n",
       "      <th>ruolo_direttore</th>\n",
       "      <th>personale_polizia_effettivi</th>\n",
       "      <th>personale_polizia_previsti</th>\n",
       "      <th>personale_amministrativi_effettivi</th>\n",
       "      <th>personale_amministrativi_previsti</th>\n",
       "      <th>personale_educatori_effettivi</th>\n",
       "      <th>personale_educatori_previsti</th>\n",
       "      <th>personale_polizia_aggiornato_a</th>\n",
       "      <th>personale_amministrativo_aggiornato_al</th>\n",
       "    </tr>\n",
       "  </thead>\n",
       "  <tbody>\n",
       "    <tr>\n",
       "      <th>0</th>\n",
       "      <td>MII179988</td>\n",
       "      <td>Reggio Calabria Arghillà</td>\n",
       "      <td>Casa circondariale</td>\n",
       "      <td>294</td>\n",
       "      <td>0</td>\n",
       "      <td>319</td>\n",
       "      <td>05/10/2024</td>\n",
       "      <td>5 Reggio Calabria</td>\n",
       "      <td>Luciano</td>\n",
       "      <td>Lucania</td>\n",
       "      <td>...</td>\n",
       "      <td>Stendardo</td>\n",
       "      <td>Titolare</td>\n",
       "      <td>131</td>\n",
       "      <td>164</td>\n",
       "      <td>12</td>\n",
       "      <td>32</td>\n",
       "      <td>5</td>\n",
       "      <td>8</td>\n",
       "      <td>31/07/2024</td>\n",
       "      <td>31/07/2024</td>\n",
       "    </tr>\n",
       "    <tr>\n",
       "      <th>1</th>\n",
       "      <td>MII172610</td>\n",
       "      <td>Brescia Verziano</td>\n",
       "      <td>Casa di reclusione</td>\n",
       "      <td>71</td>\n",
       "      <td>0</td>\n",
       "      <td>119</td>\n",
       "      <td>05/10/2024</td>\n",
       "      <td>Spedali Civili di Brescia</td>\n",
       "      <td>Luigi</td>\n",
       "      <td>Leone</td>\n",
       "      <td>...</td>\n",
       "      <td>NaN</td>\n",
       "      <td>NaN</td>\n",
       "      <td>79</td>\n",
       "      <td>95</td>\n",
       "      <td>2</td>\n",
       "      <td>0</td>\n",
       "      <td>1</td>\n",
       "      <td>0</td>\n",
       "      <td>31/07/2024</td>\n",
       "      <td>31/07/2024</td>\n",
       "    </tr>\n",
       "    <tr>\n",
       "      <th>2</th>\n",
       "      <td>MII172320</td>\n",
       "      <td>Busto Arsizio</td>\n",
       "      <td>Casa circondariale</td>\n",
       "      <td>240</td>\n",
       "      <td>14</td>\n",
       "      <td>431</td>\n",
       "      <td>05/10/2024</td>\n",
       "      <td>Busto Arsizio</td>\n",
       "      <td>Ezia</td>\n",
       "      <td>Iorio</td>\n",
       "      <td>...</td>\n",
       "      <td>Pitaniello</td>\n",
       "      <td>Titolare</td>\n",
       "      <td>193</td>\n",
       "      <td>190</td>\n",
       "      <td>16</td>\n",
       "      <td>21</td>\n",
       "      <td>5</td>\n",
       "      <td>5</td>\n",
       "      <td>31/07/2024</td>\n",
       "      <td>31/07/2024</td>\n",
       "    </tr>\n",
       "    <tr>\n",
       "      <th>3</th>\n",
       "      <td>MII173712</td>\n",
       "      <td>Como</td>\n",
       "      <td>Casa circondariale</td>\n",
       "      <td>226</td>\n",
       "      <td>1</td>\n",
       "      <td>426</td>\n",
       "      <td>05/10/2024</td>\n",
       "      <td>Como</td>\n",
       "      <td>Giuseppe</td>\n",
       "      <td>Carrano</td>\n",
       "      <td>...</td>\n",
       "      <td>Rinaldi</td>\n",
       "      <td>Titolare</td>\n",
       "      <td>208</td>\n",
       "      <td>216</td>\n",
       "      <td>18</td>\n",
       "      <td>23</td>\n",
       "      <td>6</td>\n",
       "      <td>6</td>\n",
       "      <td>31/07/2024</td>\n",
       "      <td>31/07/2024</td>\n",
       "    </tr>\n",
       "    <tr>\n",
       "      <th>4</th>\n",
       "      <td>MII173747</td>\n",
       "      <td>Cremona</td>\n",
       "      <td>Casa circondariale</td>\n",
       "      <td>394</td>\n",
       "      <td>10</td>\n",
       "      <td>586</td>\n",
       "      <td>05/10/2024</td>\n",
       "      <td>CREMONA</td>\n",
       "      <td>Rossano</td>\n",
       "      <td>Botto</td>\n",
       "      <td>...</td>\n",
       "      <td>Padula</td>\n",
       "      <td>Titolare</td>\n",
       "      <td>188</td>\n",
       "      <td>202</td>\n",
       "      <td>15</td>\n",
       "      <td>23</td>\n",
       "      <td>5</td>\n",
       "      <td>6</td>\n",
       "      <td>31/07/2024</td>\n",
       "      <td>31/07/2024</td>\n",
       "    </tr>\n",
       "  </tbody>\n",
       "</table>\n",
       "<p>5 rows × 21 columns</p>\n",
       "</div>"
      ],
      "text/plain": [
       "          id                      nome                tipo  \\\n",
       "0  MII179988  Reggio Calabria Arghillà  Casa circondariale   \n",
       "1  MII172610          Brescia Verziano  Casa di reclusione   \n",
       "2  MII172320             Busto Arsizio  Casa circondariale   \n",
       "3  MII173712                      Como  Casa circondariale   \n",
       "4  MII173747                   Cremona  Casa circondariale   \n",
       "\n",
       "   posti_regolamentari  posti_non_disponibili  posti_occupati  \\\n",
       "0                  294                      0             319   \n",
       "1                   71                      0             119   \n",
       "2                  240                     14             431   \n",
       "3                  226                      1             426   \n",
       "4                  394                     10             586   \n",
       "\n",
       "  posti_aggiornati_al                        asl nome_responsabile_asl  \\\n",
       "0          05/10/2024          5 Reggio Calabria               Luciano   \n",
       "1          05/10/2024  Spedali Civili di Brescia                 Luigi   \n",
       "2          05/10/2024              Busto Arsizio                  Ezia   \n",
       "3          05/10/2024                       Como              Giuseppe   \n",
       "4          05/10/2024                    CREMONA               Rossano   \n",
       "\n",
       "  cognome_responsabile_asl  ... cognome_direttore ruolo_direttore  \\\n",
       "0                  Lucania  ...         Stendardo        Titolare   \n",
       "1                    Leone  ...               NaN             NaN   \n",
       "2                    Iorio  ...        Pitaniello        Titolare   \n",
       "3                  Carrano  ...           Rinaldi        Titolare   \n",
       "4                    Botto  ...            Padula        Titolare   \n",
       "\n",
       "  personale_polizia_effettivi  personale_polizia_previsti  \\\n",
       "0                         131                         164   \n",
       "1                          79                          95   \n",
       "2                         193                         190   \n",
       "3                         208                         216   \n",
       "4                         188                         202   \n",
       "\n",
       "   personale_amministrativi_effettivi  personale_amministrativi_previsti  \\\n",
       "0                                  12                                 32   \n",
       "1                                   2                                  0   \n",
       "2                                  16                                 21   \n",
       "3                                  18                                 23   \n",
       "4                                  15                                 23   \n",
       "\n",
       "   personale_educatori_effettivi  personale_educatori_previsti  \\\n",
       "0                              5                             8   \n",
       "1                              1                             0   \n",
       "2                              5                             5   \n",
       "3                              6                             6   \n",
       "4                              5                             6   \n",
       "\n",
       "   personale_polizia_aggiornato_a personale_amministrativo_aggiornato_al  \n",
       "0                      31/07/2024                             31/07/2024  \n",
       "1                      31/07/2024                             31/07/2024  \n",
       "2                      31/07/2024                             31/07/2024  \n",
       "3                      31/07/2024                             31/07/2024  \n",
       "4                      31/07/2024                             31/07/2024  \n",
       "\n",
       "[5 rows x 21 columns]"
      ]
     },
     "execution_count": 10,
     "metadata": {},
     "output_type": "execute_result"
    }
   ],
   "source": [
    "combined_data.head()"
   ]
  },
  {
   "cell_type": "code",
   "execution_count": 11,
   "metadata": {
    "execution": {
     "iopub.execute_input": "2024-10-21T07:00:55.665797Z",
     "iopub.status.busy": "2024-10-21T07:00:55.665608Z",
     "iopub.status.idle": "2024-10-21T07:00:55.677876Z",
     "shell.execute_reply": "2024-10-21T07:00:55.677264Z"
    }
   },
   "outputs": [],
   "source": [
    "# Fixing dates\n",
    "combined_data['posti_aggiornati_al'] = pd.to_datetime(combined_data['posti_aggiornati_al'], dayfirst=True)\n",
    "\n",
    "combined_data['posti_aggiornati_al'] = combined_data['posti_aggiornati_al'].dt.strftime('%Y-%m-%d')\n",
    "\n",
    "combined_data['personale_polizia_aggiornato_a'] = pd.to_datetime(combined_data['personale_polizia_aggiornato_a'], format='%d/%m/%Y', errors='coerce').dt.strftime('%Y-%m-%d')\n",
    "combined_data['personale_amministrativo_aggiornato_al'] = pd.to_datetime(combined_data['personale_amministrativo_aggiornato_al'], format='%d-%m-%Y', errors='coerce').dt.strftime('%Y-%m-%d')"
   ]
  },
  {
   "cell_type": "code",
   "execution_count": 12,
   "metadata": {
    "execution": {
     "iopub.execute_input": "2024-10-21T07:00:55.679972Z",
     "iopub.status.busy": "2024-10-21T07:00:55.679594Z",
     "iopub.status.idle": "2024-10-21T07:00:55.694271Z",
     "shell.execute_reply": "2024-10-21T07:00:55.693580Z"
    }
   },
   "outputs": [
    {
     "data": {
      "text/html": [
       "<div>\n",
       "<style scoped>\n",
       "    .dataframe tbody tr th:only-of-type {\n",
       "        vertical-align: middle;\n",
       "    }\n",
       "\n",
       "    .dataframe tbody tr th {\n",
       "        vertical-align: top;\n",
       "    }\n",
       "\n",
       "    .dataframe thead th {\n",
       "        text-align: right;\n",
       "    }\n",
       "</style>\n",
       "<table border=\"1\" class=\"dataframe\">\n",
       "  <thead>\n",
       "    <tr style=\"text-align: right;\">\n",
       "      <th></th>\n",
       "      <th>id</th>\n",
       "      <th>nome</th>\n",
       "      <th>tipo</th>\n",
       "      <th>posti_regolamentari</th>\n",
       "      <th>posti_non_disponibili</th>\n",
       "      <th>posti_occupati</th>\n",
       "      <th>posti_aggiornati_al</th>\n",
       "      <th>asl</th>\n",
       "      <th>nome_responsabile_asl</th>\n",
       "      <th>cognome_responsabile_asl</th>\n",
       "      <th>...</th>\n",
       "      <th>cognome_direttore</th>\n",
       "      <th>ruolo_direttore</th>\n",
       "      <th>personale_polizia_effettivi</th>\n",
       "      <th>personale_polizia_previsti</th>\n",
       "      <th>personale_amministrativi_effettivi</th>\n",
       "      <th>personale_amministrativi_previsti</th>\n",
       "      <th>personale_educatori_effettivi</th>\n",
       "      <th>personale_educatori_previsti</th>\n",
       "      <th>personale_polizia_aggiornato_a</th>\n",
       "      <th>personale_amministrativo_aggiornato_al</th>\n",
       "    </tr>\n",
       "  </thead>\n",
       "  <tbody>\n",
       "    <tr>\n",
       "      <th>2463</th>\n",
       "      <td>MII179981</td>\n",
       "      <td>Ravenna</td>\n",
       "      <td>Casa circondariale</td>\n",
       "      <td>49</td>\n",
       "      <td>0</td>\n",
       "      <td>73</td>\n",
       "      <td>2024-10-20</td>\n",
       "      <td>Romagna</td>\n",
       "      <td>Maurizio</td>\n",
       "      <td>Serra</td>\n",
       "      <td>...</td>\n",
       "      <td>Di Lena</td>\n",
       "      <td>Titolare</td>\n",
       "      <td>69</td>\n",
       "      <td>74</td>\n",
       "      <td>17</td>\n",
       "      <td>14</td>\n",
       "      <td>5</td>\n",
       "      <td>3</td>\n",
       "      <td>2024-09-30</td>\n",
       "      <td>NaN</td>\n",
       "    </tr>\n",
       "    <tr>\n",
       "      <th>2464</th>\n",
       "      <td>MII179364</td>\n",
       "      <td>Parma</td>\n",
       "      <td>Casa di reclusione</td>\n",
       "      <td>655</td>\n",
       "      <td>30</td>\n",
       "      <td>723</td>\n",
       "      <td>2024-10-20</td>\n",
       "      <td>PARMA</td>\n",
       "      <td>Choroma</td>\n",
       "      <td>FAISSAL</td>\n",
       "      <td>...</td>\n",
       "      <td>NA</td>\n",
       "      <td>NA</td>\n",
       "      <td>368</td>\n",
       "      <td>423</td>\n",
       "      <td>1</td>\n",
       "      <td>0</td>\n",
       "      <td>0</td>\n",
       "      <td>0</td>\n",
       "      <td>2024-09-30</td>\n",
       "      <td>NaN</td>\n",
       "    </tr>\n",
       "    <tr>\n",
       "      <th>2465</th>\n",
       "      <td>MII176403</td>\n",
       "      <td>Forlì</td>\n",
       "      <td>Casa circondariale</td>\n",
       "      <td>144</td>\n",
       "      <td>12</td>\n",
       "      <td>152</td>\n",
       "      <td>2024-10-20</td>\n",
       "      <td>Romagna</td>\n",
       "      <td>Alfonso</td>\n",
       "      <td>Casadei</td>\n",
       "      <td>...</td>\n",
       "      <td>De Lorenzo</td>\n",
       "      <td>Titolare</td>\n",
       "      <td>103</td>\n",
       "      <td>120</td>\n",
       "      <td>14</td>\n",
       "      <td>18</td>\n",
       "      <td>4</td>\n",
       "      <td>4</td>\n",
       "      <td>2024-09-30</td>\n",
       "      <td>NaN</td>\n",
       "    </tr>\n",
       "    <tr>\n",
       "      <th>2466</th>\n",
       "      <td>MII178638</td>\n",
       "      <td>Modena</td>\n",
       "      <td>Casa circondariale</td>\n",
       "      <td>372</td>\n",
       "      <td>3</td>\n",
       "      <td>564</td>\n",
       "      <td>2024-10-20</td>\n",
       "      <td>MODENA</td>\n",
       "      <td>Stefano</td>\n",
       "      <td>Petrella</td>\n",
       "      <td>...</td>\n",
       "      <td>Sorrentini</td>\n",
       "      <td>Titolare</td>\n",
       "      <td>223</td>\n",
       "      <td>222</td>\n",
       "      <td>23</td>\n",
       "      <td>27</td>\n",
       "      <td>6</td>\n",
       "      <td>6</td>\n",
       "      <td>2024-09-30</td>\n",
       "      <td>NaN</td>\n",
       "    </tr>\n",
       "    <tr>\n",
       "      <th>2467</th>\n",
       "      <td>MII181125</td>\n",
       "      <td>Siracusa</td>\n",
       "      <td>Casa circondariale</td>\n",
       "      <td>545</td>\n",
       "      <td>0</td>\n",
       "      <td>667</td>\n",
       "      <td>2024-10-20</td>\n",
       "      <td>NA</td>\n",
       "      <td>NA</td>\n",
       "      <td>NA</td>\n",
       "      <td>...</td>\n",
       "      <td>Tiralongo</td>\n",
       "      <td>Titolare</td>\n",
       "      <td>240</td>\n",
       "      <td>234</td>\n",
       "      <td>21</td>\n",
       "      <td>29</td>\n",
       "      <td>6</td>\n",
       "      <td>6</td>\n",
       "      <td>2024-09-30</td>\n",
       "      <td>NaN</td>\n",
       "    </tr>\n",
       "  </tbody>\n",
       "</table>\n",
       "<p>5 rows × 21 columns</p>\n",
       "</div>"
      ],
      "text/plain": [
       "             id      nome                tipo  posti_regolamentari  \\\n",
       "2463  MII179981   Ravenna  Casa circondariale                   49   \n",
       "2464  MII179364     Parma  Casa di reclusione                  655   \n",
       "2465  MII176403     Forlì  Casa circondariale                  144   \n",
       "2466  MII178638    Modena  Casa circondariale                  372   \n",
       "2467  MII181125  Siracusa  Casa circondariale                  545   \n",
       "\n",
       "      posti_non_disponibili  posti_occupati posti_aggiornati_al      asl  \\\n",
       "2463                      0              73          2024-10-20  Romagna   \n",
       "2464                     30             723          2024-10-20    PARMA   \n",
       "2465                     12             152          2024-10-20  Romagna   \n",
       "2466                      3             564          2024-10-20   MODENA   \n",
       "2467                      0             667          2024-10-20       NA   \n",
       "\n",
       "     nome_responsabile_asl cognome_responsabile_asl  ... cognome_direttore  \\\n",
       "2463              Maurizio                    Serra  ...           Di Lena   \n",
       "2464               Choroma                  FAISSAL  ...                NA   \n",
       "2465               Alfonso                  Casadei  ...        De Lorenzo   \n",
       "2466               Stefano                 Petrella  ...        Sorrentini   \n",
       "2467                    NA                       NA  ...         Tiralongo   \n",
       "\n",
       "     ruolo_direttore personale_polizia_effettivi  personale_polizia_previsti  \\\n",
       "2463        Titolare                          69                          74   \n",
       "2464              NA                         368                         423   \n",
       "2465        Titolare                         103                         120   \n",
       "2466        Titolare                         223                         222   \n",
       "2467        Titolare                         240                         234   \n",
       "\n",
       "      personale_amministrativi_effettivi  personale_amministrativi_previsti  \\\n",
       "2463                                  17                                 14   \n",
       "2464                                   1                                  0   \n",
       "2465                                  14                                 18   \n",
       "2466                                  23                                 27   \n",
       "2467                                  21                                 29   \n",
       "\n",
       "      personale_educatori_effettivi  personale_educatori_previsti  \\\n",
       "2463                              5                             3   \n",
       "2464                              0                             0   \n",
       "2465                              4                             4   \n",
       "2466                              6                             6   \n",
       "2467                              6                             6   \n",
       "\n",
       "      personale_polizia_aggiornato_a personale_amministrativo_aggiornato_al  \n",
       "2463                      2024-09-30                                    NaN  \n",
       "2464                      2024-09-30                                    NaN  \n",
       "2465                      2024-09-30                                    NaN  \n",
       "2466                      2024-09-30                                    NaN  \n",
       "2467                      2024-09-30                                    NaN  \n",
       "\n",
       "[5 rows x 21 columns]"
      ]
     },
     "execution_count": 12,
     "metadata": {},
     "output_type": "execute_result"
    }
   ],
   "source": [
    "combined_data.tail()"
   ]
  },
  {
   "cell_type": "code",
   "execution_count": 13,
   "metadata": {
    "execution": {
     "iopub.execute_input": "2024-10-21T07:00:55.696623Z",
     "iopub.status.busy": "2024-10-21T07:00:55.696089Z",
     "iopub.status.idle": "2024-10-21T07:00:55.713200Z",
     "shell.execute_reply": "2024-10-21T07:00:55.712478Z"
    }
   },
   "outputs": [],
   "source": [
    "combined_data.to_csv('../outputs/clean/institutes.csv', index=False)"
   ]
  }
 ],
 "metadata": {
  "kernelspec": {
   "display_name": "Python 3",
   "language": "python",
   "name": "python3"
  },
  "language_info": {
   "codemirror_mode": {
    "name": "ipython",
    "version": 3
   },
   "file_extension": ".py",
   "mimetype": "text/x-python",
   "name": "python",
   "nbconvert_exporter": "python",
   "pygments_lexer": "ipython3",
   "version": "3.10.15"
  }
 },
 "nbformat": 4,
 "nbformat_minor": 2
}

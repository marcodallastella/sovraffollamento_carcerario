{
 "cells": [
  {
   "cell_type": "markdown",
   "metadata": {},
   "source": [
    "# Scraper institutes\n",
    "This notebook is a monthly scraper used to retrieve information about condition in detention centers in Italy. To do so, it uses the id numbers of the various detention centers to navigate to the dedicated webpages with Selenium, store locally the html code of the page and then parse it using BeautifuSoup. The information is then stored in a pandas dataframe and saved as a csv file."
   ]
  },
  {
   "cell_type": "code",
   "execution_count": 1,
   "metadata": {
    "execution": {
     "iopub.execute_input": "2024-12-16T09:06:54.496873Z",
     "iopub.status.busy": "2024-12-16T09:06:54.496679Z",
     "iopub.status.idle": "2024-12-16T09:06:55.004866Z",
     "shell.execute_reply": "2024-12-16T09:06:55.004159Z"
    }
   },
   "outputs": [],
   "source": [
    "import pandas as pd\n",
    "import requests\n",
    "import datetime\n",
    "from bs4 import BeautifulSoup\n",
    "import asyncio\n",
    "from playwright.async_api import async_playwright\n",
    "from time import sleep\n",
    "from pathlib import Path"
   ]
  },
  {
   "cell_type": "code",
   "execution_count": 2,
   "metadata": {
    "execution": {
     "iopub.execute_input": "2024-12-16T09:06:55.007472Z",
     "iopub.status.busy": "2024-12-16T09:06:55.006984Z",
     "iopub.status.idle": "2024-12-16T09:06:55.013392Z",
     "shell.execute_reply": "2024-12-16T09:06:55.012861Z"
    }
   },
   "outputs": [],
   "source": [
    "# Collect institutes id numbers\n",
    "df_institutes = pd.read_csv(f'../outputs/clean/institutes_info.csv')\n",
    "prison_ids = df_institutes['id_istituto'].tolist()"
   ]
  },
  {
   "cell_type": "code",
   "execution_count": 3,
   "metadata": {
    "execution": {
     "iopub.execute_input": "2024-12-16T09:06:55.015566Z",
     "iopub.status.busy": "2024-12-16T09:06:55.015180Z",
     "iopub.status.idle": "2024-12-16T09:06:55.022719Z",
     "shell.execute_reply": "2024-12-16T09:06:55.022153Z"
    }
   },
   "outputs": [],
   "source": [
    "# Function to grab the html code of the page\n",
    "async def get_html(prison_id):\n",
    "\n",
    "    await page.goto(f\"{BASE_URL}{prison_id}\")\n",
    "    print(\"Fetching \" + f\"{BASE_URL}{prison_id}\")\n",
    "    page_html = await page.content()\n",
    "        \n",
    "    return page_html\n",
    "\n",
    "# Function to extract table data\n",
    "def extract_table_data(h2_text):\n",
    "    # Step 3: Find the specific <h2> tag by its text\n",
    "    h2_tag = soup.find('h2', class_='h2 campoComplessoTitolo', string=h2_text)\n",
    "\n",
    "\n",
    "    # Step 4: Find the table immediately following the <h2> tag\n",
    "    if h2_tag:\n",
    "        table = h2_tag.find_next('table')\n",
    "        \n",
    "        # Step 5: Extract data from the table into a DataFrame\n",
    "        if table:\n",
    "            data_list = []  # List to hold the extracted data\n",
    "            rows = table.find_all('tr')\n",
    "            \n",
    "            # Extract headers from the first row\n",
    "            headers = []\n",
    "            if rows:\n",
    "                header_row = rows[0].find_all('th')\n",
    "                headers = [header.get_text(strip=True) for header in header_row]\n",
    "            \n",
    "            # Extract data from the rest of the rows\n",
    "            for row in rows[1:]:  # Start from the second row\n",
    "                columns = row.find_all(['td'])  # Only data cells\n",
    "                data = [col.get_text(strip=True) for col in columns]\n",
    "                data_list.append(data)  # Add the row data to the list\n",
    "\n",
    "            # Create a DataFrame with headers\n",
    "            df = pd.DataFrame(data_list, columns=headers)\n",
    "\n",
    "            return df\n",
    "        else:\n",
    "            print(\"Table not found after the specified <h2> tag.\")\n",
    "    else:\n",
    "        print(f\"<h2> tag with text '{h2_text}' not found.\")\n",
    "    \n",
    "    return pd.DataFrame()  # Return an empty DataFrame if nothing is found\n",
    "\n",
    "def extract_date(soup, date_text):\n",
    "    # Police staff\n",
    "    target_span= soup.find('h2', string=date_text)\n",
    "    try:\n",
    "        span = target_span.find_next_sibling('span')\n",
    "        date = span.text.strip()\n",
    "    except:\n",
    "        date = 'NA'\n",
    "\n",
    "    return date\n",
    "\n",
    "def extract_info(soup):\n",
    "    institute_name = soup.find('h1', {'class': 'titoloIstituto'}).text.strip()\n",
    "    institute_type = soup.find('h3', {'class': 'titoloIstituto'}).text.strip()\n",
    "    return institute_name, institute_type"
   ]
  },
  {
   "cell_type": "code",
   "execution_count": 4,
   "metadata": {
    "execution": {
     "iopub.execute_input": "2024-12-16T09:06:55.024884Z",
     "iopub.status.busy": "2024-12-16T09:06:55.024492Z",
     "iopub.status.idle": "2024-12-16T09:58:22.230040Z",
     "shell.execute_reply": "2024-12-16T09:58:22.229470Z"
    }
   },
   "outputs": [
    {
     "name": "stdout",
     "output_type": "stream",
     "text": [
      "Attempt number 1 at fetching data for institute id MII179988\n"
     ]
    },
    {
     "name": "stdout",
     "output_type": "stream",
     "text": [
      "Attempt 1 failed for prison id MII179988. Error: Page.goto: Timeout 30000ms exceeded.\n",
      "Call log:\n",
      "  - navigating to \"https://www.giustizia.it/giustizia/it/dettaglio_scheda.page?s=MII179988\", waiting until \"load\"\n",
      "\n",
      "Reinitializing browser...\n"
     ]
    },
    {
     "name": "stdout",
     "output_type": "stream",
     "text": [
      "Attempt number 2 at fetching data for institute id MII179988\n"
     ]
    },
    {
     "name": "stdout",
     "output_type": "stream",
     "text": [
      "Fetching https://www.giustizia.it/giustizia/it/dettaglio_scheda.page?s=MII179988\n",
      "Success!\n",
      "\n"
     ]
    },
    {
     "name": "stdout",
     "output_type": "stream",
     "text": [
      "Attempt number 1 at fetching data for institute id MII172610\n"
     ]
    },
    {
     "name": "stdout",
     "output_type": "stream",
     "text": [
      "Fetching https://www.giustizia.it/giustizia/it/dettaglio_scheda.page?s=MII172610\n",
      "Success!\n",
      "\n"
     ]
    },
    {
     "name": "stdout",
     "output_type": "stream",
     "text": [
      "Attempt number 1 at fetching data for institute id MII172320\n"
     ]
    },
    {
     "name": "stdout",
     "output_type": "stream",
     "text": [
      "Fetching https://www.giustizia.it/giustizia/it/dettaglio_scheda.page?s=MII172320\n",
      "Success!\n",
      "\n"
     ]
    },
    {
     "name": "stdout",
     "output_type": "stream",
     "text": [
      "Attempt number 1 at fetching data for institute id MII173712\n"
     ]
    },
    {
     "name": "stdout",
     "output_type": "stream",
     "text": [
      "Fetching https://www.giustizia.it/giustizia/it/dettaglio_scheda.page?s=MII173712\n",
      "Success!\n",
      "\n"
     ]
    },
    {
     "name": "stdout",
     "output_type": "stream",
     "text": [
      "Attempt number 1 at fetching data for institute id MII173747\n"
     ]
    },
    {
     "name": "stdout",
     "output_type": "stream",
     "text": [
      "Fetching https://www.giustizia.it/giustizia/it/dettaglio_scheda.page?s=MII173747\n",
      "Success!\n",
      "\n"
     ]
    },
    {
     "name": "stdout",
     "output_type": "stream",
     "text": [
      "Attempt number 1 at fetching data for institute id MII177436\n"
     ]
    },
    {
     "name": "stdout",
     "output_type": "stream",
     "text": [
      "Fetching https://www.giustizia.it/giustizia/it/dettaglio_scheda.page?s=MII177436\n",
      "Success!\n",
      "\n"
     ]
    },
    {
     "name": "stdout",
     "output_type": "stream",
     "text": [
      "Attempt number 1 at fetching data for institute id MII178027\n"
     ]
    },
    {
     "name": "stdout",
     "output_type": "stream",
     "text": [
      "Fetching https://www.giustizia.it/giustizia/it/dettaglio_scheda.page?s=MII178027\n",
      "Success!\n",
      "\n"
     ]
    },
    {
     "name": "stdout",
     "output_type": "stream",
     "text": [
      "Attempt number 1 at fetching data for institute id MII178072\n"
     ]
    },
    {
     "name": "stdout",
     "output_type": "stream",
     "text": [
      "Fetching https://www.giustizia.it/giustizia/it/dettaglio_scheda.page?s=MII178072\n",
      "Success!\n",
      "\n"
     ]
    },
    {
     "name": "stdout",
     "output_type": "stream",
     "text": [
      "Attempt number 1 at fetching data for institute id MII178659\n"
     ]
    },
    {
     "name": "stdout",
     "output_type": "stream",
     "text": [
      "Fetching https://www.giustizia.it/giustizia/it/dettaglio_scheda.page?s=MII178659\n",
      "Success!\n",
      "\n"
     ]
    },
    {
     "name": "stdout",
     "output_type": "stream",
     "text": [
      "Attempt number 1 at fetching data for institute id MII182910\n"
     ]
    },
    {
     "name": "stdout",
     "output_type": "stream",
     "text": [
      "Fetching https://www.giustizia.it/giustizia/it/dettaglio_scheda.page?s=MII182910\n",
      "Success!\n",
      "\n"
     ]
    },
    {
     "name": "stdout",
     "output_type": "stream",
     "text": [
      "Attempt number 1 at fetching data for institute id MII181346\n"
     ]
    },
    {
     "name": "stdout",
     "output_type": "stream",
     "text": [
      "Attempt 1 failed for prison id MII181346. Error: Page.goto: Timeout 30000ms exceeded.\n",
      "Call log:\n",
      "  - navigating to \"https://www.giustizia.it/giustizia/it/dettaglio_scheda.page?s=MII181346\", waiting until \"load\"\n",
      "\n",
      "Reinitializing browser...\n"
     ]
    },
    {
     "name": "stdout",
     "output_type": "stream",
     "text": [
      "Attempt number 2 at fetching data for institute id MII181346\n"
     ]
    },
    {
     "name": "stdout",
     "output_type": "stream",
     "text": [
      "Fetching https://www.giustizia.it/giustizia/it/dettaglio_scheda.page?s=MII181346\n",
      "Success!\n",
      "\n"
     ]
    },
    {
     "name": "stdout",
     "output_type": "stream",
     "text": [
      "Attempt number 1 at fetching data for institute id MII181703\n"
     ]
    },
    {
     "name": "stdout",
     "output_type": "stream",
     "text": [
      "Fetching https://www.giustizia.it/giustizia/it/dettaglio_scheda.page?s=MII181703\n",
      "Success!\n",
      "\n"
     ]
    },
    {
     "name": "stdout",
     "output_type": "stream",
     "text": [
      "Attempt number 1 at fetching data for institute id MII179733\n"
     ]
    },
    {
     "name": "stdout",
     "output_type": "stream",
     "text": [
      "Fetching https://www.giustizia.it/giustizia/it/dettaglio_scheda.page?s=MII179733\n",
      "Success!\n",
      "\n"
     ]
    },
    {
     "name": "stdout",
     "output_type": "stream",
     "text": [
      "Attempt number 1 at fetching data for institute id MII173311\n"
     ]
    },
    {
     "name": "stdout",
     "output_type": "stream",
     "text": [
      "Fetching https://www.giustizia.it/giustizia/it/dettaglio_scheda.page?s=MII173311\n",
      "Success!\n",
      "\n"
     ]
    },
    {
     "name": "stdout",
     "output_type": "stream",
     "text": [
      "Attempt number 1 at fetching data for institute id MII173324\n"
     ]
    },
    {
     "name": "stdout",
     "output_type": "stream",
     "text": [
      "Fetching https://www.giustizia.it/giustizia/it/dettaglio_scheda.page?s=MII173324\n",
      "Success!\n",
      "\n"
     ]
    },
    {
     "name": "stdout",
     "output_type": "stream",
     "text": [
      "Attempt number 1 at fetching data for institute id MII179342\n"
     ]
    },
    {
     "name": "stdout",
     "output_type": "stream",
     "text": [
      "Fetching https://www.giustizia.it/giustizia/it/dettaglio_scheda.page?s=MII179342\n",
      "Success!\n",
      "\n"
     ]
    },
    {
     "name": "stdout",
     "output_type": "stream",
     "text": [
      "Attempt number 1 at fetching data for institute id MII179353\n"
     ]
    },
    {
     "name": "stdout",
     "output_type": "stream",
     "text": [
      "Fetching https://www.giustizia.it/giustizia/it/dettaglio_scheda.page?s=MII179353\n",
      "Success!\n",
      "\n"
     ]
    },
    {
     "name": "stdout",
     "output_type": "stream",
     "text": [
      "Attempt number 1 at fetching data for institute id MII180415\n"
     ]
    },
    {
     "name": "stdout",
     "output_type": "stream",
     "text": [
      "Fetching https://www.giustizia.it/giustizia/it/dettaglio_scheda.page?s=MII180415\n",
      "Success!\n",
      "\n"
     ]
    },
    {
     "name": "stdout",
     "output_type": "stream",
     "text": [
      "Attempt number 1 at fetching data for institute id MII181908\n"
     ]
    },
    {
     "name": "stdout",
     "output_type": "stream",
     "text": [
      "Fetching https://www.giustizia.it/giustizia/it/dettaglio_scheda.page?s=MII181908\n",
      "Success!\n",
      "\n"
     ]
    },
    {
     "name": "stdout",
     "output_type": "stream",
     "text": [
      "Attempt number 1 at fetching data for institute id MII159053\n"
     ]
    },
    {
     "name": "stdout",
     "output_type": "stream",
     "text": [
      "Fetching https://www.giustizia.it/giustizia/it/dettaglio_scheda.page?s=MII159053\n",
      "Success!\n",
      "\n"
     ]
    },
    {
     "name": "stdout",
     "output_type": "stream",
     "text": [
      "Attempt number 1 at fetching data for institute id MII172187\n"
     ]
    },
    {
     "name": "stdout",
     "output_type": "stream",
     "text": [
      "Attempt 1 failed for prison id MII172187. Error: Page.goto: Timeout 30000ms exceeded.\n",
      "Call log:\n",
      "  - navigating to \"https://www.giustizia.it/giustizia/it/dettaglio_scheda.page?s=MII172187\", waiting until \"load\"\n",
      "\n",
      "Reinitializing browser...\n"
     ]
    },
    {
     "name": "stdout",
     "output_type": "stream",
     "text": [
      "Attempt number 2 at fetching data for institute id MII172187\n"
     ]
    },
    {
     "name": "stdout",
     "output_type": "stream",
     "text": [
      "Fetching https://www.giustizia.it/giustizia/it/dettaglio_scheda.page?s=MII172187\n",
      "Success!\n",
      "\n"
     ]
    },
    {
     "name": "stdout",
     "output_type": "stream",
     "text": [
      "Attempt number 1 at fetching data for institute id MII173101\n"
     ]
    },
    {
     "name": "stdout",
     "output_type": "stream",
     "text": [
      "Fetching https://www.giustizia.it/giustizia/it/dettaglio_scheda.page?s=MII173101\n",
      "Success!\n",
      "\n"
     ]
    },
    {
     "name": "stdout",
     "output_type": "stream",
     "text": [
      "Attempt number 1 at fetching data for institute id MII173784\n"
     ]
    },
    {
     "name": "stdout",
     "output_type": "stream",
     "text": [
      "Fetching https://www.giustizia.it/giustizia/it/dettaglio_scheda.page?s=MII173784\n",
      "Success!\n",
      "\n"
     ]
    },
    {
     "name": "stdout",
     "output_type": "stream",
     "text": [
      "Attempt number 1 at fetching data for institute id MII172580\n"
     ]
    },
    {
     "name": "stdout",
     "output_type": "stream",
     "text": [
      "Fetching https://www.giustizia.it/giustizia/it/dettaglio_scheda.page?s=MII172580\n",
      "Success!\n",
      "\n"
     ]
    },
    {
     "name": "stdout",
     "output_type": "stream",
     "text": [
      "Attempt number 1 at fetching data for institute id MII176719\n"
     ]
    },
    {
     "name": "stdout",
     "output_type": "stream",
     "text": [
      "Fetching https://www.giustizia.it/giustizia/it/dettaglio_scheda.page?s=MII176719\n",
      "Success!\n",
      "\n"
     ]
    },
    {
     "name": "stdout",
     "output_type": "stream",
     "text": [
      "Attempt number 1 at fetching data for institute id MII179290\n"
     ]
    },
    {
     "name": "stdout",
     "output_type": "stream",
     "text": [
      "Fetching https://www.giustizia.it/giustizia/it/dettaglio_scheda.page?s=MII179290\n",
      "Success!\n",
      "\n"
     ]
    },
    {
     "name": "stdout",
     "output_type": "stream",
     "text": [
      "Attempt number 1 at fetching data for institute id MII180487\n"
     ]
    },
    {
     "name": "stdout",
     "output_type": "stream",
     "text": [
      "Fetching https://www.giustizia.it/giustizia/it/dettaglio_scheda.page?s=MII180487\n",
      "Success!\n",
      "\n"
     ]
    },
    {
     "name": "stdout",
     "output_type": "stream",
     "text": [
      "Attempt number 1 at fetching data for institute id MII179913\n"
     ]
    },
    {
     "name": "stdout",
     "output_type": "stream",
     "text": [
      "Fetching https://www.giustizia.it/giustizia/it/dettaglio_scheda.page?s=MII179913\n",
      "Success!\n",
      "\n"
     ]
    },
    {
     "name": "stdout",
     "output_type": "stream",
     "text": [
      "Attempt number 1 at fetching data for institute id MII180424\n"
     ]
    },
    {
     "name": "stdout",
     "output_type": "stream",
     "text": [
      "Fetching https://www.giustizia.it/giustizia/it/dettaglio_scheda.page?s=MII180424\n",
      "Success!\n",
      "\n"
     ]
    },
    {
     "name": "stdout",
     "output_type": "stream",
     "text": [
      "Attempt number 1 at fetching data for institute id MII159065\n"
     ]
    },
    {
     "name": "stdout",
     "output_type": "stream",
     "text": [
      "Fetching https://www.giustizia.it/giustizia/it/dettaglio_scheda.page?s=MII159065\n",
      "Success!\n",
      "\n"
     ]
    },
    {
     "name": "stdout",
     "output_type": "stream",
     "text": [
      "Attempt number 1 at fetching data for institute id MII173237\n"
     ]
    },
    {
     "name": "stdout",
     "output_type": "stream",
     "text": [
      "Fetching https://www.giustizia.it/giustizia/it/dettaglio_scheda.page?s=MII173237\n",
      "Success!\n",
      "\n"
     ]
    },
    {
     "name": "stdout",
     "output_type": "stream",
     "text": [
      "Attempt number 1 at fetching data for institute id MII174501\n"
     ]
    },
    {
     "name": "stdout",
     "output_type": "stream",
     "text": [
      "Attempt 1 failed for prison id MII174501. Error: Page.goto: Timeout 30000ms exceeded.\n",
      "Call log:\n",
      "  - navigating to \"https://www.giustizia.it/giustizia/it/dettaglio_scheda.page?s=MII174501\", waiting until \"load\"\n",
      "\n",
      "Reinitializing browser...\n"
     ]
    },
    {
     "name": "stdout",
     "output_type": "stream",
     "text": [
      "Attempt number 2 at fetching data for institute id MII174501\n"
     ]
    },
    {
     "name": "stdout",
     "output_type": "stream",
     "text": [
      "Fetching https://www.giustizia.it/giustizia/it/dettaglio_scheda.page?s=MII174501\n",
      "Success!\n",
      "\n"
     ]
    },
    {
     "name": "stdout",
     "output_type": "stream",
     "text": [
      "Attempt number 1 at fetching data for institute id MII181645\n"
     ]
    },
    {
     "name": "stdout",
     "output_type": "stream",
     "text": [
      "Attempt 1 failed for prison id MII181645. Error: Page.goto: Timeout 30000ms exceeded.\n",
      "Call log:\n",
      "  - navigating to \"https://www.giustizia.it/giustizia/it/dettaglio_scheda.page?s=MII181645\", waiting until \"load\"\n",
      "\n",
      "Reinitializing browser...\n"
     ]
    },
    {
     "name": "stdout",
     "output_type": "stream",
     "text": [
      "Attempt number 2 at fetching data for institute id MII181645\n"
     ]
    },
    {
     "name": "stdout",
     "output_type": "stream",
     "text": [
      "Fetching https://www.giustizia.it/giustizia/it/dettaglio_scheda.page?s=MII181645\n",
      "Success!\n",
      "\n"
     ]
    },
    {
     "name": "stdout",
     "output_type": "stream",
     "text": [
      "Attempt number 1 at fetching data for institute id MII176424\n"
     ]
    },
    {
     "name": "stdout",
     "output_type": "stream",
     "text": [
      "Fetching https://www.giustizia.it/giustizia/it/dettaglio_scheda.page?s=MII176424\n",
      "Success!\n",
      "\n"
     ]
    },
    {
     "name": "stdout",
     "output_type": "stream",
     "text": [
      "Attempt number 1 at fetching data for institute id MII181661\n"
     ]
    },
    {
     "name": "stdout",
     "output_type": "stream",
     "text": [
      "Fetching https://www.giustizia.it/giustizia/it/dettaglio_scheda.page?s=MII181661\n",
      "Success!\n",
      "\n"
     ]
    },
    {
     "name": "stdout",
     "output_type": "stream",
     "text": [
      "Attempt number 1 at fetching data for institute id MII181672\n"
     ]
    },
    {
     "name": "stdout",
     "output_type": "stream",
     "text": [
      "Fetching https://www.giustizia.it/giustizia/it/dettaglio_scheda.page?s=MII181672\n",
      "Success!\n",
      "\n"
     ]
    },
    {
     "name": "stdout",
     "output_type": "stream",
     "text": [
      "Attempt number 1 at fetching data for institute id MII179818\n"
     ]
    },
    {
     "name": "stdout",
     "output_type": "stream",
     "text": [
      "Fetching https://www.giustizia.it/giustizia/it/dettaglio_scheda.page?s=MII179818\n",
      "Success!\n",
      "\n"
     ]
    },
    {
     "name": "stdout",
     "output_type": "stream",
     "text": [
      "Attempt number 1 at fetching data for institute id MII181863\n"
     ]
    },
    {
     "name": "stdout",
     "output_type": "stream",
     "text": [
      "Attempt 1 failed for prison id MII181863. Error: Page.goto: Timeout 30000ms exceeded.\n",
      "Call log:\n",
      "  - navigating to \"https://www.giustizia.it/giustizia/it/dettaglio_scheda.page?s=MII181863\", waiting until \"load\"\n",
      "\n",
      "Reinitializing browser...\n"
     ]
    },
    {
     "name": "stdout",
     "output_type": "stream",
     "text": [
      "Attempt number 2 at fetching data for institute id MII181863\n"
     ]
    },
    {
     "name": "stdout",
     "output_type": "stream",
     "text": [
      "Attempt 2 failed for prison id MII181863. Error: Page.goto: Timeout 30000ms exceeded.\n",
      "Call log:\n",
      "  - navigating to \"https://www.giustizia.it/giustizia/it/dettaglio_scheda.page?s=MII181863\", waiting until \"load\"\n",
      "\n",
      "Reinitializing browser...\n"
     ]
    },
    {
     "name": "stdout",
     "output_type": "stream",
     "text": [
      "Attempt number 3 at fetching data for institute id MII181863\n"
     ]
    },
    {
     "name": "stdout",
     "output_type": "stream",
     "text": [
      "Fetching https://www.giustizia.it/giustizia/it/dettaglio_scheda.page?s=MII181863\n",
      "Success!\n",
      "\n"
     ]
    },
    {
     "name": "stdout",
     "output_type": "stream",
     "text": [
      "Attempt number 1 at fetching data for institute id MII181847\n"
     ]
    },
    {
     "name": "stdout",
     "output_type": "stream",
     "text": [
      "Fetching https://www.giustizia.it/giustizia/it/dettaglio_scheda.page?s=MII181847\n",
      "Success!\n",
      "\n"
     ]
    },
    {
     "name": "stdout",
     "output_type": "stream",
     "text": [
      "Attempt number 1 at fetching data for institute id MII181891\n"
     ]
    },
    {
     "name": "stdout",
     "output_type": "stream",
     "text": [
      "Fetching https://www.giustizia.it/giustizia/it/dettaglio_scheda.page?s=MII181891\n",
      "Success!\n",
      "\n"
     ]
    },
    {
     "name": "stdout",
     "output_type": "stream",
     "text": [
      "Attempt number 1 at fetching data for institute id MII182440\n"
     ]
    },
    {
     "name": "stdout",
     "output_type": "stream",
     "text": [
      "Fetching https://www.giustizia.it/giustizia/it/dettaglio_scheda.page?s=MII182440\n",
      "Success!\n",
      "\n"
     ]
    },
    {
     "name": "stdout",
     "output_type": "stream",
     "text": [
      "Attempt number 1 at fetching data for institute id MII173088\n"
     ]
    },
    {
     "name": "stdout",
     "output_type": "stream",
     "text": [
      "Fetching https://www.giustizia.it/giustizia/it/dettaglio_scheda.page?s=MII173088\n",
      "Success!\n",
      "\n"
     ]
    },
    {
     "name": "stdout",
     "output_type": "stream",
     "text": [
      "Attempt number 1 at fetching data for institute id MII157783\n"
     ]
    },
    {
     "name": "stdout",
     "output_type": "stream",
     "text": [
      "Fetching https://www.giustizia.it/giustizia/it/dettaglio_scheda.page?s=MII157783\n",
      "Success!\n",
      "\n"
     ]
    },
    {
     "name": "stdout",
     "output_type": "stream",
     "text": [
      "Attempt number 1 at fetching data for institute id MII173114\n"
     ]
    },
    {
     "name": "stdout",
     "output_type": "stream",
     "text": [
      "Fetching https://www.giustizia.it/giustizia/it/dettaglio_scheda.page?s=MII173114\n",
      "Success!\n",
      "\n"
     ]
    },
    {
     "name": "stdout",
     "output_type": "stream",
     "text": [
      "Attempt number 1 at fetching data for institute id MII173364\n"
     ]
    },
    {
     "name": "stdout",
     "output_type": "stream",
     "text": [
      "Fetching https://www.giustizia.it/giustizia/it/dettaglio_scheda.page?s=MII173364\n",
      "Success!\n",
      "\n"
     ]
    },
    {
     "name": "stdout",
     "output_type": "stream",
     "text": [
      "Attempt number 1 at fetching data for institute id MII159069\n"
     ]
    },
    {
     "name": "stdout",
     "output_type": "stream",
     "text": [
      "Fetching https://www.giustizia.it/giustizia/it/dettaglio_scheda.page?s=MII159069\n",
      "Success!\n",
      "\n"
     ]
    },
    {
     "name": "stdout",
     "output_type": "stream",
     "text": [
      "Attempt number 1 at fetching data for institute id MII173688\n"
     ]
    },
    {
     "name": "stdout",
     "output_type": "stream",
     "text": [
      "Attempt 1 failed for prison id MII173688. Error: Page.goto: Timeout 30000ms exceeded.\n",
      "Call log:\n",
      "  - navigating to \"https://www.giustizia.it/giustizia/it/dettaglio_scheda.page?s=MII173688\", waiting until \"load\"\n",
      "\n",
      "Reinitializing browser...\n"
     ]
    },
    {
     "name": "stdout",
     "output_type": "stream",
     "text": [
      "Attempt number 2 at fetching data for institute id MII173688\n"
     ]
    },
    {
     "name": "stdout",
     "output_type": "stream",
     "text": [
      "Fetching https://www.giustizia.it/giustizia/it/dettaglio_scheda.page?s=MII173688\n",
      "Success!\n",
      "\n"
     ]
    },
    {
     "name": "stdout",
     "output_type": "stream",
     "text": [
      "Attempt number 1 at fetching data for institute id MII173356\n"
     ]
    },
    {
     "name": "stdout",
     "output_type": "stream",
     "text": [
      "Fetching https://www.giustizia.it/giustizia/it/dettaglio_scheda.page?s=MII173356\n",
      "Success!\n",
      "\n"
     ]
    },
    {
     "name": "stdout",
     "output_type": "stream",
     "text": [
      "Attempt number 1 at fetching data for institute id MII176437\n"
     ]
    },
    {
     "name": "stdout",
     "output_type": "stream",
     "text": [
      "Fetching https://www.giustizia.it/giustizia/it/dettaglio_scheda.page?s=MII176437\n",
      "Success!\n",
      "\n"
     ]
    },
    {
     "name": "stdout",
     "output_type": "stream",
     "text": [
      "Attempt number 1 at fetching data for institute id MII173764\n"
     ]
    },
    {
     "name": "stdout",
     "output_type": "stream",
     "text": [
      "Fetching https://www.giustizia.it/giustizia/it/dettaglio_scheda.page?s=MII173764\n",
      "Success!\n",
      "\n"
     ]
    },
    {
     "name": "stdout",
     "output_type": "stream",
     "text": [
      "Attempt number 1 at fetching data for institute id MII181636\n"
     ]
    },
    {
     "name": "stdout",
     "output_type": "stream",
     "text": [
      "Fetching https://www.giustizia.it/giustizia/it/dettaglio_scheda.page?s=MII181636\n",
      "Success!\n",
      "\n"
     ]
    },
    {
     "name": "stdout",
     "output_type": "stream",
     "text": [
      "Attempt number 1 at fetching data for institute id MII172814\n"
     ]
    },
    {
     "name": "stdout",
     "output_type": "stream",
     "text": [
      "Fetching https://www.giustizia.it/giustizia/it/dettaglio_scheda.page?s=MII172814\n",
      "Success!\n",
      "\n"
     ]
    },
    {
     "name": "stdout",
     "output_type": "stream",
     "text": [
      "Attempt number 1 at fetching data for institute id MII176759\n"
     ]
    },
    {
     "name": "stdout",
     "output_type": "stream",
     "text": [
      "Fetching https://www.giustizia.it/giustizia/it/dettaglio_scheda.page?s=MII176759\n",
      "Success!\n",
      "\n"
     ]
    },
    {
     "name": "stdout",
     "output_type": "stream",
     "text": [
      "Attempt number 1 at fetching data for institute id MII176703\n"
     ]
    },
    {
     "name": "stdout",
     "output_type": "stream",
     "text": [
      "Fetching https://www.giustizia.it/giustizia/it/dettaglio_scheda.page?s=MII176703\n",
      "Success!\n",
      "\n"
     ]
    },
    {
     "name": "stdout",
     "output_type": "stream",
     "text": [
      "Attempt number 1 at fetching data for institute id MII177323\n"
     ]
    },
    {
     "name": "stdout",
     "output_type": "stream",
     "text": [
      "Fetching https://www.giustizia.it/giustizia/it/dettaglio_scheda.page?s=MII177323\n",
      "Success!\n",
      "\n"
     ]
    },
    {
     "name": "stdout",
     "output_type": "stream",
     "text": [
      "Attempt number 1 at fetching data for institute id MII176749\n"
     ]
    },
    {
     "name": "stdout",
     "output_type": "stream",
     "text": [
      "Fetching https://www.giustizia.it/giustizia/it/dettaglio_scheda.page?s=MII176749\n",
      "Success!\n",
      "\n"
     ]
    },
    {
     "name": "stdout",
     "output_type": "stream",
     "text": [
      "Attempt number 1 at fetching data for institute id MII176781\n"
     ]
    },
    {
     "name": "stdout",
     "output_type": "stream",
     "text": [
      "Fetching https://www.giustizia.it/giustizia/it/dettaglio_scheda.page?s=MII176781\n",
      "Success!\n",
      "\n"
     ]
    },
    {
     "name": "stdout",
     "output_type": "stream",
     "text": [
      "Attempt number 1 at fetching data for institute id MII179331\n"
     ]
    },
    {
     "name": "stdout",
     "output_type": "stream",
     "text": [
      "Fetching https://www.giustizia.it/giustizia/it/dettaglio_scheda.page?s=MII179331\n",
      "Success!\n",
      "\n"
     ]
    },
    {
     "name": "stdout",
     "output_type": "stream",
     "text": [
      "Attempt number 1 at fetching data for institute id MII176788\n"
     ]
    },
    {
     "name": "stdout",
     "output_type": "stream",
     "text": [
      "Fetching https://www.giustizia.it/giustizia/it/dettaglio_scheda.page?s=MII176788\n",
      "Success!\n",
      "\n"
     ]
    },
    {
     "name": "stdout",
     "output_type": "stream",
     "text": [
      "Attempt number 1 at fetching data for institute id MII169535\n"
     ]
    },
    {
     "name": "stdout",
     "output_type": "stream",
     "text": [
      "Attempt 1 failed for prison id MII169535. Error: Page.goto: Timeout 30000ms exceeded.\n",
      "Call log:\n",
      "  - navigating to \"https://www.giustizia.it/giustizia/it/dettaglio_scheda.page?s=MII169535\", waiting until \"load\"\n",
      "\n",
      "Reinitializing browser...\n"
     ]
    },
    {
     "name": "stdout",
     "output_type": "stream",
     "text": [
      "Attempt number 2 at fetching data for institute id MII169535\n"
     ]
    },
    {
     "name": "stdout",
     "output_type": "stream",
     "text": [
      "Fetching https://www.giustizia.it/giustizia/it/dettaglio_scheda.page?s=MII169535\n",
      "Success!\n",
      "\n"
     ]
    },
    {
     "name": "stdout",
     "output_type": "stream",
     "text": [
      "Attempt number 1 at fetching data for institute id MII180401\n"
     ]
    },
    {
     "name": "stdout",
     "output_type": "stream",
     "text": [
      "Fetching https://www.giustizia.it/giustizia/it/dettaglio_scheda.page?s=MII180401\n",
      "Success!\n",
      "\n"
     ]
    },
    {
     "name": "stdout",
     "output_type": "stream",
     "text": [
      "Attempt number 1 at fetching data for institute id MII180437\n"
     ]
    },
    {
     "name": "stdout",
     "output_type": "stream",
     "text": [
      "Fetching https://www.giustizia.it/giustizia/it/dettaglio_scheda.page?s=MII180437\n",
      "Success!\n",
      "\n"
     ]
    },
    {
     "name": "stdout",
     "output_type": "stream",
     "text": [
      "Attempt number 1 at fetching data for institute id MII180380\n"
     ]
    },
    {
     "name": "stdout",
     "output_type": "stream",
     "text": [
      "Fetching https://www.giustizia.it/giustizia/it/dettaglio_scheda.page?s=MII180380\n",
      "Success!\n",
      "\n"
     ]
    },
    {
     "name": "stdout",
     "output_type": "stream",
     "text": [
      "Attempt number 1 at fetching data for institute id MII180356\n"
     ]
    },
    {
     "name": "stdout",
     "output_type": "stream",
     "text": [
      "Fetching https://www.giustizia.it/giustizia/it/dettaglio_scheda.page?s=MII180356\n",
      "Success!\n",
      "\n"
     ]
    },
    {
     "name": "stdout",
     "output_type": "stream",
     "text": [
      "Attempt number 1 at fetching data for institute id MII180348\n"
     ]
    },
    {
     "name": "stdout",
     "output_type": "stream",
     "text": [
      "Fetching https://www.giustizia.it/giustizia/it/dettaglio_scheda.page?s=MII180348\n",
      "<h2> tag with text 'Capienza e presenze' not found.\n",
      "<h2> tag with text 'Stanze di detenzione' not found.\n",
      "<h2> tag with text 'Personale' not found.\n",
      "Attempt 1 failed for prison id MII180348. Error: 'NoneType' object has no attribute 'text'\n",
      "Reinitializing browser...\n"
     ]
    },
    {
     "name": "stdout",
     "output_type": "stream",
     "text": [
      "Attempt number 2 at fetching data for institute id MII180348\n"
     ]
    },
    {
     "name": "stdout",
     "output_type": "stream",
     "text": [
      "Fetching https://www.giustizia.it/giustizia/it/dettaglio_scheda.page?s=MII180348\n",
      "Success!\n",
      "\n"
     ]
    },
    {
     "name": "stdout",
     "output_type": "stream",
     "text": [
      "Attempt number 1 at fetching data for institute id MII181870\n"
     ]
    },
    {
     "name": "stdout",
     "output_type": "stream",
     "text": [
      "Fetching https://www.giustizia.it/giustizia/it/dettaglio_scheda.page?s=MII181870\n",
      "Success!\n",
      "\n"
     ]
    },
    {
     "name": "stdout",
     "output_type": "stream",
     "text": [
      "Attempt number 1 at fetching data for institute id MII179299\n"
     ]
    },
    {
     "name": "stdout",
     "output_type": "stream",
     "text": [
      "Fetching https://www.giustizia.it/giustizia/it/dettaglio_scheda.page?s=MII179299\n",
      "Success!\n",
      "\n"
     ]
    },
    {
     "name": "stdout",
     "output_type": "stream",
     "text": [
      "Attempt number 1 at fetching data for institute id MII181371\n"
     ]
    },
    {
     "name": "stdout",
     "output_type": "stream",
     "text": [
      "Fetching https://www.giustizia.it/giustizia/it/dettaglio_scheda.page?s=MII181371\n",
      "Success!\n",
      "\n"
     ]
    },
    {
     "name": "stdout",
     "output_type": "stream",
     "text": [
      "Attempt number 1 at fetching data for institute id MII181820\n"
     ]
    },
    {
     "name": "stdout",
     "output_type": "stream",
     "text": [
      "Fetching https://www.giustizia.it/giustizia/it/dettaglio_scheda.page?s=MII181820\n",
      "Success!\n",
      "\n"
     ]
    },
    {
     "name": "stdout",
     "output_type": "stream",
     "text": [
      "Attempt number 1 at fetching data for institute id MII181839\n"
     ]
    },
    {
     "name": "stdout",
     "output_type": "stream",
     "text": [
      "Attempt 1 failed for prison id MII181839. Error: Page.goto: Timeout 30000ms exceeded.\n",
      "Call log:\n",
      "  - navigating to \"https://www.giustizia.it/giustizia/it/dettaglio_scheda.page?s=MII181839\", waiting until \"load\"\n",
      "\n",
      "Reinitializing browser...\n"
     ]
    },
    {
     "name": "stdout",
     "output_type": "stream",
     "text": [
      "Attempt number 2 at fetching data for institute id MII181839\n"
     ]
    },
    {
     "name": "stdout",
     "output_type": "stream",
     "text": [
      "Fetching https://www.giustizia.it/giustizia/it/dettaglio_scheda.page?s=MII181839\n",
      "Success!\n",
      "\n"
     ]
    },
    {
     "name": "stdout",
     "output_type": "stream",
     "text": [
      "Attempt number 1 at fetching data for institute id MII181424\n"
     ]
    },
    {
     "name": "stdout",
     "output_type": "stream",
     "text": [
      "Fetching https://www.giustizia.it/giustizia/it/dettaglio_scheda.page?s=MII181424\n",
      "Success!\n",
      "\n"
     ]
    },
    {
     "name": "stdout",
     "output_type": "stream",
     "text": [
      "Attempt number 1 at fetching data for institute id MII158919\n"
     ]
    },
    {
     "name": "stdout",
     "output_type": "stream",
     "text": [
      "Fetching https://www.giustizia.it/giustizia/it/dettaglio_scheda.page?s=MII158919\n",
      "Success!\n",
      "\n"
     ]
    },
    {
     "name": "stdout",
     "output_type": "stream",
     "text": [
      "Attempt number 1 at fetching data for institute id MII179995\n"
     ]
    },
    {
     "name": "stdout",
     "output_type": "stream",
     "text": [
      "Fetching https://www.giustizia.it/giustizia/it/dettaglio_scheda.page?s=MII179995\n",
      "Success!\n",
      "\n"
     ]
    },
    {
     "name": "stdout",
     "output_type": "stream",
     "text": [
      "Attempt number 1 at fetching data for institute id MII158924\n"
     ]
    },
    {
     "name": "stdout",
     "output_type": "stream",
     "text": [
      "Fetching https://www.giustizia.it/giustizia/it/dettaglio_scheda.page?s=MII158924\n",
      "Success!\n",
      "\n"
     ]
    },
    {
     "name": "stdout",
     "output_type": "stream",
     "text": [
      "Attempt number 1 at fetching data for institute id MII172277\n"
     ]
    },
    {
     "name": "stdout",
     "output_type": "stream",
     "text": [
      "Fetching https://www.giustizia.it/giustizia/it/dettaglio_scheda.page?s=MII172277\n",
      "Success!\n",
      "\n"
     ]
    },
    {
     "name": "stdout",
     "output_type": "stream",
     "text": [
      "Attempt number 1 at fetching data for institute id MII158948\n"
     ]
    },
    {
     "name": "stdout",
     "output_type": "stream",
     "text": [
      "Fetching https://www.giustizia.it/giustizia/it/dettaglio_scheda.page?s=MII158948\n",
      "Success!\n",
      "\n"
     ]
    },
    {
     "name": "stdout",
     "output_type": "stream",
     "text": [
      "Attempt number 1 at fetching data for institute id MII181678\n"
     ]
    },
    {
     "name": "stdout",
     "output_type": "stream",
     "text": [
      "Fetching https://www.giustizia.it/giustizia/it/dettaglio_scheda.page?s=MII181678\n",
      "Success!\n",
      "\n"
     ]
    },
    {
     "name": "stdout",
     "output_type": "stream",
     "text": [
      "Attempt number 1 at fetching data for institute id MII174720\n"
     ]
    },
    {
     "name": "stdout",
     "output_type": "stream",
     "text": [
      "Attempt 1 failed for prison id MII174720. Error: Page.goto: Timeout 30000ms exceeded.\n",
      "Call log:\n",
      "  - navigating to \"https://www.giustizia.it/giustizia/it/dettaglio_scheda.page?s=MII174720\", waiting until \"load\"\n",
      "\n",
      "Reinitializing browser...\n"
     ]
    },
    {
     "name": "stdout",
     "output_type": "stream",
     "text": [
      "Attempt number 2 at fetching data for institute id MII174720\n"
     ]
    },
    {
     "name": "stdout",
     "output_type": "stream",
     "text": [
      "Fetching https://www.giustizia.it/giustizia/it/dettaglio_scheda.page?s=MII174720\n",
      "Success!\n",
      "\n"
     ]
    },
    {
     "name": "stdout",
     "output_type": "stream",
     "text": [
      "Attempt number 1 at fetching data for institute id MII172623\n"
     ]
    },
    {
     "name": "stdout",
     "output_type": "stream",
     "text": [
      "Fetching https://www.giustizia.it/giustizia/it/dettaglio_scheda.page?s=MII172623\n",
      "Success!\n",
      "\n"
     ]
    },
    {
     "name": "stdout",
     "output_type": "stream",
     "text": [
      "Attempt number 1 at fetching data for institute id MII176743\n"
     ]
    },
    {
     "name": "stdout",
     "output_type": "stream",
     "text": [
      "Fetching https://www.giustizia.it/giustizia/it/dettaglio_scheda.page?s=MII176743\n",
      "Success!\n",
      "\n"
     ]
    },
    {
     "name": "stdout",
     "output_type": "stream",
     "text": [
      "Attempt number 1 at fetching data for institute id MII176375\n"
     ]
    },
    {
     "name": "stdout",
     "output_type": "stream",
     "text": [
      "Fetching https://www.giustizia.it/giustizia/it/dettaglio_scheda.page?s=MII176375\n",
      "Success!\n",
      "\n"
     ]
    },
    {
     "name": "stdout",
     "output_type": "stream",
     "text": [
      "Attempt number 1 at fetching data for institute id MII177498\n"
     ]
    },
    {
     "name": "stdout",
     "output_type": "stream",
     "text": [
      "Fetching https://www.giustizia.it/giustizia/it/dettaglio_scheda.page?s=MII177498\n",
      "Success!\n",
      "\n"
     ]
    },
    {
     "name": "stdout",
     "output_type": "stream",
     "text": [
      "Attempt number 1 at fetching data for institute id MII177463\n"
     ]
    },
    {
     "name": "stdout",
     "output_type": "stream",
     "text": [
      "Fetching https://www.giustizia.it/giustizia/it/dettaglio_scheda.page?s=MII177463\n",
      "Success!\n",
      "\n"
     ]
    },
    {
     "name": "stdout",
     "output_type": "stream",
     "text": [
      "Attempt number 1 at fetching data for institute id MII178035\n"
     ]
    },
    {
     "name": "stdout",
     "output_type": "stream",
     "text": [
      "Fetching https://www.giustizia.it/giustizia/it/dettaglio_scheda.page?s=MII178035\n",
      "Success!\n",
      "\n"
     ]
    },
    {
     "name": "stdout",
     "output_type": "stream",
     "text": [
      "Attempt number 1 at fetching data for institute id MII178124\n"
     ]
    },
    {
     "name": "stdout",
     "output_type": "stream",
     "text": [
      "Fetching https://www.giustizia.it/giustizia/it/dettaglio_scheda.page?s=MII178124\n",
      "Success!\n",
      "\n"
     ]
    },
    {
     "name": "stdout",
     "output_type": "stream",
     "text": [
      "Attempt number 1 at fetching data for institute id MII178141\n"
     ]
    },
    {
     "name": "stdout",
     "output_type": "stream",
     "text": [
      "Fetching https://www.giustizia.it/giustizia/it/dettaglio_scheda.page?s=MII178141\n",
      "Success!\n",
      "\n"
     ]
    },
    {
     "name": "stdout",
     "output_type": "stream",
     "text": [
      "Attempt number 1 at fetching data for institute id MII179938\n"
     ]
    },
    {
     "name": "stdout",
     "output_type": "stream",
     "text": [
      "Fetching https://www.giustizia.it/giustizia/it/dettaglio_scheda.page?s=MII179938\n",
      "Success!\n",
      "\n"
     ]
    },
    {
     "name": "stdout",
     "output_type": "stream",
     "text": [
      "Attempt number 1 at fetching data for institute id MII179280\n"
     ]
    },
    {
     "name": "stdout",
     "output_type": "stream",
     "text": [
      "Fetching https://www.giustizia.it/giustizia/it/dettaglio_scheda.page?s=MII179280\n",
      "Success!\n",
      "\n"
     ]
    },
    {
     "name": "stdout",
     "output_type": "stream",
     "text": [
      "Attempt number 1 at fetching data for institute id MII180476\n"
     ]
    },
    {
     "name": "stdout",
     "output_type": "stream",
     "text": [
      "Fetching https://www.giustizia.it/giustizia/it/dettaglio_scheda.page?s=MII180476\n",
      "Success!\n",
      "\n"
     ]
    },
    {
     "name": "stdout",
     "output_type": "stream",
     "text": [
      "Attempt number 1 at fetching data for institute id MII181434\n"
     ]
    },
    {
     "name": "stdout",
     "output_type": "stream",
     "text": [
      "Fetching https://www.giustizia.it/giustizia/it/dettaglio_scheda.page?s=MII181434\n",
      "Success!\n",
      "\n"
     ]
    },
    {
     "name": "stdout",
     "output_type": "stream",
     "text": [
      "Attempt number 1 at fetching data for institute id MII182919\n"
     ]
    },
    {
     "name": "stdout",
     "output_type": "stream",
     "text": [
      "Fetching https://www.giustizia.it/giustizia/it/dettaglio_scheda.page?s=MII182919\n",
      "Success!\n",
      "\n"
     ]
    },
    {
     "name": "stdout",
     "output_type": "stream",
     "text": [
      "Attempt number 1 at fetching data for institute id MII181681\n"
     ]
    },
    {
     "name": "stdout",
     "output_type": "stream",
     "text": [
      "Attempt 1 failed for prison id MII181681. Error: Page.goto: Timeout 30000ms exceeded.\n",
      "Call log:\n",
      "  - navigating to \"https://www.giustizia.it/giustizia/it/dettaglio_scheda.page?s=MII181681\", waiting until \"load\"\n",
      "\n",
      "Reinitializing browser...\n"
     ]
    },
    {
     "name": "stdout",
     "output_type": "stream",
     "text": [
      "Attempt number 2 at fetching data for institute id MII181681\n"
     ]
    },
    {
     "name": "stdout",
     "output_type": "stream",
     "text": [
      "Fetching https://www.giustizia.it/giustizia/it/dettaglio_scheda.page?s=MII181681\n",
      "Success!\n",
      "\n"
     ]
    },
    {
     "name": "stdout",
     "output_type": "stream",
     "text": [
      "Attempt number 1 at fetching data for institute id MII179896\n"
     ]
    },
    {
     "name": "stdout",
     "output_type": "stream",
     "text": [
      "Fetching https://www.giustizia.it/giustizia/it/dettaglio_scheda.page?s=MII179896\n",
      "Success!\n",
      "\n"
     ]
    },
    {
     "name": "stdout",
     "output_type": "stream",
     "text": [
      "Attempt number 1 at fetching data for institute id MII158935\n"
     ]
    },
    {
     "name": "stdout",
     "output_type": "stream",
     "text": [
      "Fetching https://www.giustizia.it/giustizia/it/dettaglio_scheda.page?s=MII158935\n",
      "Success!\n",
      "\n"
     ]
    },
    {
     "name": "stdout",
     "output_type": "stream",
     "text": [
      "Attempt number 1 at fetching data for institute id MII179958\n"
     ]
    },
    {
     "name": "stdout",
     "output_type": "stream",
     "text": [
      "Fetching https://www.giustizia.it/giustizia/it/dettaglio_scheda.page?s=MII179958\n",
      "Success!\n",
      "\n"
     ]
    },
    {
     "name": "stdout",
     "output_type": "stream",
     "text": [
      "Attempt number 1 at fetching data for institute id MII158945\n"
     ]
    },
    {
     "name": "stdout",
     "output_type": "stream",
     "text": [
      "Fetching https://www.giustizia.it/giustizia/it/dettaglio_scheda.page?s=MII158945\n",
      "Success!\n",
      "\n"
     ]
    },
    {
     "name": "stdout",
     "output_type": "stream",
     "text": [
      "Attempt number 1 at fetching data for institute id MII180458\n"
     ]
    },
    {
     "name": "stdout",
     "output_type": "stream",
     "text": [
      "Fetching https://www.giustizia.it/giustizia/it/dettaglio_scheda.page?s=MII180458\n",
      "Success!\n",
      "\n"
     ]
    },
    {
     "name": "stdout",
     "output_type": "stream",
     "text": [
      "Attempt number 1 at fetching data for institute id MII181115\n"
     ]
    },
    {
     "name": "stdout",
     "output_type": "stream",
     "text": [
      "Fetching https://www.giustizia.it/giustizia/it/dettaglio_scheda.page?s=MII181115\n",
      "<h2> tag with text 'Capienza e presenze' not found.\n",
      "<h2> tag with text 'Stanze di detenzione' not found.\n",
      "<h2> tag with text 'Personale' not found.\n",
      "Attempt 1 failed for prison id MII181115. Error: 'NoneType' object has no attribute 'text'\n",
      "Reinitializing browser...\n"
     ]
    },
    {
     "name": "stdout",
     "output_type": "stream",
     "text": [
      "Attempt number 2 at fetching data for institute id MII181115\n"
     ]
    },
    {
     "name": "stdout",
     "output_type": "stream",
     "text": [
      "Fetching https://www.giustizia.it/giustizia/it/dettaglio_scheda.page?s=MII181115\n",
      "Success!\n",
      "\n"
     ]
    },
    {
     "name": "stdout",
     "output_type": "stream",
     "text": [
      "Attempt number 1 at fetching data for institute id MII181358\n"
     ]
    },
    {
     "name": "stdout",
     "output_type": "stream",
     "text": [
      "Fetching https://www.giustizia.it/giustizia/it/dettaglio_scheda.page?s=MII181358\n",
      "Success!\n",
      "\n"
     ]
    },
    {
     "name": "stdout",
     "output_type": "stream",
     "text": [
      "Attempt number 1 at fetching data for institute id MII172835\n"
     ]
    },
    {
     "name": "stdout",
     "output_type": "stream",
     "text": [
      "Attempt 1 failed for prison id MII172835. Error: Page.goto: Timeout 30000ms exceeded.\n",
      "Call log:\n",
      "  - navigating to \"https://www.giustizia.it/giustizia/it/dettaglio_scheda.page?s=MII172835\", waiting until \"load\"\n",
      "\n",
      "Reinitializing browser...\n"
     ]
    },
    {
     "name": "stdout",
     "output_type": "stream",
     "text": [
      "Attempt number 2 at fetching data for institute id MII172835\n"
     ]
    },
    {
     "name": "stdout",
     "output_type": "stream",
     "text": [
      "Fetching https://www.giustizia.it/giustizia/it/dettaglio_scheda.page?s=MII172835\n",
      "Success!\n",
      "\n"
     ]
    },
    {
     "name": "stdout",
     "output_type": "stream",
     "text": [
      "Attempt number 1 at fetching data for institute id MII158910\n"
     ]
    },
    {
     "name": "stdout",
     "output_type": "stream",
     "text": [
      "Fetching https://www.giustizia.it/giustizia/it/dettaglio_scheda.page?s=MII158910\n",
      "Success!\n",
      "\n"
     ]
    },
    {
     "name": "stdout",
     "output_type": "stream",
     "text": [
      "Attempt number 1 at fetching data for institute id MII177118\n"
     ]
    },
    {
     "name": "stdout",
     "output_type": "stream",
     "text": [
      "Fetching https://www.giustizia.it/giustizia/it/dettaglio_scheda.page?s=MII177118\n",
      "Success!\n",
      "\n"
     ]
    },
    {
     "name": "stdout",
     "output_type": "stream",
     "text": [
      "Attempt number 1 at fetching data for institute id MII179224\n"
     ]
    },
    {
     "name": "stdout",
     "output_type": "stream",
     "text": [
      "Fetching https://www.giustizia.it/giustizia/it/dettaglio_scheda.page?s=MII179224\n",
      "Success!\n",
      "\n"
     ]
    },
    {
     "name": "stdout",
     "output_type": "stream",
     "text": [
      "Attempt number 1 at fetching data for institute id MII172222\n"
     ]
    },
    {
     "name": "stdout",
     "output_type": "stream",
     "text": [
      "Fetching https://www.giustizia.it/giustizia/it/dettaglio_scheda.page?s=MII172222\n",
      "Success!\n",
      "\n"
     ]
    },
    {
     "name": "stdout",
     "output_type": "stream",
     "text": [
      "Attempt number 1 at fetching data for institute id MII178003\n"
     ]
    },
    {
     "name": "stdout",
     "output_type": "stream",
     "text": [
      "Fetching https://www.giustizia.it/giustizia/it/dettaglio_scheda.page?s=MII178003\n",
      "Success!\n",
      "\n"
     ]
    },
    {
     "name": "stdout",
     "output_type": "stream",
     "text": [
      "Attempt number 1 at fetching data for institute id MII179274\n"
     ]
    },
    {
     "name": "stdout",
     "output_type": "stream",
     "text": [
      "Fetching https://www.giustizia.it/giustizia/it/dettaglio_scheda.page?s=MII179274\n",
      "Success!\n",
      "\n"
     ]
    },
    {
     "name": "stdout",
     "output_type": "stream",
     "text": [
      "Attempt number 1 at fetching data for institute id MII181385\n"
     ]
    },
    {
     "name": "stdout",
     "output_type": "stream",
     "text": [
      "Fetching https://www.giustizia.it/giustizia/it/dettaglio_scheda.page?s=MII181385\n",
      "Success!\n",
      "\n"
     ]
    },
    {
     "name": "stdout",
     "output_type": "stream",
     "text": [
      "Attempt number 1 at fetching data for institute id MII179965\n"
     ]
    },
    {
     "name": "stdout",
     "output_type": "stream",
     "text": [
      "Fetching https://www.giustizia.it/giustizia/it/dettaglio_scheda.page?s=MII179965\n",
      "Success!\n",
      "\n"
     ]
    },
    {
     "name": "stdout",
     "output_type": "stream",
     "text": [
      "Attempt number 1 at fetching data for institute id MII181109\n"
     ]
    },
    {
     "name": "stdout",
     "output_type": "stream",
     "text": [
      "Fetching https://www.giustizia.it/giustizia/it/dettaglio_scheda.page?s=MII181109\n",
      "Success!\n",
      "\n"
     ]
    },
    {
     "name": "stdout",
     "output_type": "stream",
     "text": [
      "Attempt number 1 at fetching data for institute id MII178666\n"
     ]
    },
    {
     "name": "stdout",
     "output_type": "stream",
     "text": [
      "Fetching https://www.giustizia.it/giustizia/it/dettaglio_scheda.page?s=MII178666\n",
      "Success!\n",
      "\n"
     ]
    },
    {
     "name": "stdout",
     "output_type": "stream",
     "text": [
      "Attempt number 1 at fetching data for institute id MII178672\n"
     ]
    },
    {
     "name": "stdout",
     "output_type": "stream",
     "text": [
      "Attempt 1 failed for prison id MII178672. Error: Page.goto: Timeout 30000ms exceeded.\n",
      "Call log:\n",
      "  - navigating to \"https://www.giustizia.it/giustizia/it/dettaglio_scheda.page?s=MII178672\", waiting until \"load\"\n",
      "\n",
      "Reinitializing browser...\n"
     ]
    },
    {
     "name": "stdout",
     "output_type": "stream",
     "text": [
      "Attempt number 2 at fetching data for institute id MII178672\n"
     ]
    },
    {
     "name": "stdout",
     "output_type": "stream",
     "text": [
      "Fetching https://www.giustizia.it/giustizia/it/dettaglio_scheda.page?s=MII178672\n",
      "Success!\n",
      "\n"
     ]
    },
    {
     "name": "stdout",
     "output_type": "stream",
     "text": [
      "Attempt number 1 at fetching data for institute id MII172592\n"
     ]
    },
    {
     "name": "stdout",
     "output_type": "stream",
     "text": [
      "Fetching https://www.giustizia.it/giustizia/it/dettaglio_scheda.page?s=MII172592\n",
      "Success!\n",
      "\n"
     ]
    },
    {
     "name": "stdout",
     "output_type": "stream",
     "text": [
      "Attempt number 1 at fetching data for institute id MII158895\n"
     ]
    },
    {
     "name": "stdout",
     "output_type": "stream",
     "text": [
      "Fetching https://www.giustizia.it/giustizia/it/dettaglio_scheda.page?s=MII158895\n",
      "Success!\n",
      "\n"
     ]
    },
    {
     "name": "stdout",
     "output_type": "stream",
     "text": [
      "Attempt number 1 at fetching data for institute id MII178501\n"
     ]
    },
    {
     "name": "stdout",
     "output_type": "stream",
     "text": [
      "Fetching https://www.giustizia.it/giustizia/it/dettaglio_scheda.page?s=MII178501\n",
      "Success!\n",
      "\n"
     ]
    },
    {
     "name": "stdout",
     "output_type": "stream",
     "text": [
      "Attempt number 1 at fetching data for institute id MII174825\n"
     ]
    },
    {
     "name": "stdout",
     "output_type": "stream",
     "text": [
      "Fetching https://www.giustizia.it/giustizia/it/dettaglio_scheda.page?s=MII174825\n",
      "Success!\n",
      "\n"
     ]
    },
    {
     "name": "stdout",
     "output_type": "stream",
     "text": [
      "Attempt number 1 at fetching data for institute id MII179932\n"
     ]
    },
    {
     "name": "stdout",
     "output_type": "stream",
     "text": [
      "Fetching https://www.giustizia.it/giustizia/it/dettaglio_scheda.page?s=MII179932\n",
      "Success!\n",
      "\n"
     ]
    },
    {
     "name": "stdout",
     "output_type": "stream",
     "text": [
      "Attempt number 1 at fetching data for institute id MII181407\n"
     ]
    },
    {
     "name": "stdout",
     "output_type": "stream",
     "text": [
      "Fetching https://www.giustizia.it/giustizia/it/dettaglio_scheda.page?s=MII181407\n",
      "Success!\n",
      "\n"
     ]
    },
    {
     "name": "stdout",
     "output_type": "stream",
     "text": [
      "Attempt number 1 at fetching data for institute id MII180465\n"
     ]
    },
    {
     "name": "stdout",
     "output_type": "stream",
     "text": [
      "Fetching https://www.giustizia.it/giustizia/it/dettaglio_scheda.page?s=MII180465\n",
      "Success!\n",
      "\n"
     ]
    },
    {
     "name": "stdout",
     "output_type": "stream",
     "text": [
      "Attempt number 1 at fetching data for institute id MII158944\n"
     ]
    },
    {
     "name": "stdout",
     "output_type": "stream",
     "text": [
      "Fetching https://www.giustizia.it/giustizia/it/dettaglio_scheda.page?s=MII158944\n",
      "Success!\n",
      "\n"
     ]
    },
    {
     "name": "stdout",
     "output_type": "stream",
     "text": [
      "Attempt number 1 at fetching data for institute id MII158941\n"
     ]
    },
    {
     "name": "stdout",
     "output_type": "stream",
     "text": [
      "Fetching https://www.giustizia.it/giustizia/it/dettaglio_scheda.page?s=MII158941\n",
      "Success!\n",
      "\n"
     ]
    },
    {
     "name": "stdout",
     "output_type": "stream",
     "text": [
      "Attempt number 1 at fetching data for institute id MII172011\n"
     ]
    },
    {
     "name": "stdout",
     "output_type": "stream",
     "text": [
      "Fetching https://www.giustizia.it/giustizia/it/dettaglio_scheda.page?s=MII172011\n",
      "Success!\n",
      "\n"
     ]
    },
    {
     "name": "stdout",
     "output_type": "stream",
     "text": [
      "Attempt number 1 at fetching data for institute id MII181392\n"
     ]
    },
    {
     "name": "stdout",
     "output_type": "stream",
     "text": [
      "Attempt 1 failed for prison id MII181392. Error: Page.goto: Timeout 30000ms exceeded.\n",
      "Call log:\n",
      "  - navigating to \"https://www.giustizia.it/giustizia/it/dettaglio_scheda.page?s=MII181392\", waiting until \"load\"\n",
      "\n",
      "Reinitializing browser...\n"
     ]
    },
    {
     "name": "stdout",
     "output_type": "stream",
     "text": [
      "Attempt number 2 at fetching data for institute id MII181392\n"
     ]
    },
    {
     "name": "stdout",
     "output_type": "stream",
     "text": [
      "Fetching https://www.giustizia.it/giustizia/it/dettaglio_scheda.page?s=MII181392\n",
      "Success!\n",
      "\n"
     ]
    },
    {
     "name": "stdout",
     "output_type": "stream",
     "text": [
      "Attempt number 1 at fetching data for institute id MII181918\n"
     ]
    },
    {
     "name": "stdout",
     "output_type": "stream",
     "text": [
      "Fetching https://www.giustizia.it/giustizia/it/dettaglio_scheda.page?s=MII181918\n",
      "Success!\n",
      "\n"
     ]
    },
    {
     "name": "stdout",
     "output_type": "stream",
     "text": [
      "Attempt number 1 at fetching data for institute id MII178085\n"
     ]
    },
    {
     "name": "stdout",
     "output_type": "stream",
     "text": [
      "Fetching https://www.giustizia.it/giustizia/it/dettaglio_scheda.page?s=MII178085\n",
      "Success!\n",
      "\n"
     ]
    },
    {
     "name": "stdout",
     "output_type": "stream",
     "text": [
      "Attempt number 1 at fetching data for institute id MII178115\n"
     ]
    },
    {
     "name": "stdout",
     "output_type": "stream",
     "text": [
      "Fetching https://www.giustizia.it/giustizia/it/dettaglio_scheda.page?s=MII178115\n",
      "Success!\n",
      "\n"
     ]
    },
    {
     "name": "stdout",
     "output_type": "stream",
     "text": [
      "Attempt number 1 at fetching data for institute id MII177420\n"
     ]
    },
    {
     "name": "stdout",
     "output_type": "stream",
     "text": [
      "Fetching https://www.giustizia.it/giustizia/it/dettaglio_scheda.page?s=MII177420\n",
      "Success!\n",
      "\n"
     ]
    },
    {
     "name": "stdout",
     "output_type": "stream",
     "text": [
      "Attempt number 1 at fetching data for institute id MII179830\n"
     ]
    },
    {
     "name": "stdout",
     "output_type": "stream",
     "text": [
      "Fetching https://www.giustizia.it/giustizia/it/dettaglio_scheda.page?s=MII179830\n",
      "Success!\n",
      "\n"
     ]
    },
    {
     "name": "stdout",
     "output_type": "stream",
     "text": [
      "Attempt number 1 at fetching data for institute id MII179945\n"
     ]
    },
    {
     "name": "stdout",
     "output_type": "stream",
     "text": [
      "Fetching https://www.giustizia.it/giustizia/it/dettaglio_scheda.page?s=MII179945\n",
      "Success!\n",
      "\n"
     ]
    },
    {
     "name": "stdout",
     "output_type": "stream",
     "text": [
      "Attempt number 1 at fetching data for institute id MII177346\n"
     ]
    },
    {
     "name": "stdout",
     "output_type": "stream",
     "text": [
      "Fetching https://www.giustizia.it/giustizia/it/dettaglio_scheda.page?s=MII177346\n",
      "Success!\n",
      "\n"
     ]
    },
    {
     "name": "stdout",
     "output_type": "stream",
     "text": [
      "Attempt number 1 at fetching data for institute id MII181440\n"
     ]
    },
    {
     "name": "stdout",
     "output_type": "stream",
     "text": [
      "Fetching https://www.giustizia.it/giustizia/it/dettaglio_scheda.page?s=MII181440\n",
      "Success!\n",
      "\n"
     ]
    },
    {
     "name": "stdout",
     "output_type": "stream",
     "text": [
      "Attempt number 1 at fetching data for institute id MII159314\n"
     ]
    },
    {
     "name": "stdout",
     "output_type": "stream",
     "text": [
      "Fetching https://www.giustizia.it/giustizia/it/dettaglio_scheda.page?s=MII159314\n",
      "Success!\n",
      "\n"
     ]
    },
    {
     "name": "stdout",
     "output_type": "stream",
     "text": [
      "Attempt number 1 at fetching data for institute id MII173006\n"
     ]
    },
    {
     "name": "stdout",
     "output_type": "stream",
     "text": [
      "Fetching https://www.giustizia.it/giustizia/it/dettaglio_scheda.page?s=MII173006\n",
      "Success!\n",
      "\n"
     ]
    },
    {
     "name": "stdout",
     "output_type": "stream",
     "text": [
      "Attempt number 1 at fetching data for institute id MII173259\n"
     ]
    },
    {
     "name": "stdout",
     "output_type": "stream",
     "text": [
      "Attempt 1 failed for prison id MII173259. Error: Page.goto: Timeout 30000ms exceeded.\n",
      "Call log:\n",
      "  - navigating to \"https://www.giustizia.it/giustizia/it/dettaglio_scheda.page?s=MII173259\", waiting until \"load\"\n",
      "\n",
      "Reinitializing browser...\n"
     ]
    },
    {
     "name": "stdout",
     "output_type": "stream",
     "text": [
      "Attempt number 2 at fetching data for institute id MII173259\n"
     ]
    },
    {
     "name": "stdout",
     "output_type": "stream",
     "text": [
      "Attempt 2 failed for prison id MII173259. Error: Page.goto: Timeout 30000ms exceeded.\n",
      "Call log:\n",
      "  - navigating to \"https://www.giustizia.it/giustizia/it/dettaglio_scheda.page?s=MII173259\", waiting until \"load\"\n",
      "\n",
      "Reinitializing browser...\n"
     ]
    },
    {
     "name": "stdout",
     "output_type": "stream",
     "text": [
      "Attempt number 3 at fetching data for institute id MII173259\n"
     ]
    },
    {
     "name": "stdout",
     "output_type": "stream",
     "text": [
      "Fetching https://www.giustizia.it/giustizia/it/dettaglio_scheda.page?s=MII173259\n",
      "Success!\n",
      "\n"
     ]
    },
    {
     "name": "stdout",
     "output_type": "stream",
     "text": [
      "Attempt number 1 at fetching data for institute id MII173301\n"
     ]
    },
    {
     "name": "stdout",
     "output_type": "stream",
     "text": [
      "Fetching https://www.giustizia.it/giustizia/it/dettaglio_scheda.page?s=MII173301\n",
      "Success!\n",
      "\n"
     ]
    },
    {
     "name": "stdout",
     "output_type": "stream",
     "text": [
      "Attempt number 1 at fetching data for institute id MII173813\n"
     ]
    },
    {
     "name": "stdout",
     "output_type": "stream",
     "text": [
      "Fetching https://www.giustizia.it/giustizia/it/dettaglio_scheda.page?s=MII173813\n",
      "Success!\n",
      "\n"
     ]
    },
    {
     "name": "stdout",
     "output_type": "stream",
     "text": [
      "Attempt number 1 at fetching data for institute id MII173994\n"
     ]
    },
    {
     "name": "stdout",
     "output_type": "stream",
     "text": [
      "Fetching https://www.giustizia.it/giustizia/it/dettaglio_scheda.page?s=MII173994\n",
      "Success!\n",
      "\n"
     ]
    },
    {
     "name": "stdout",
     "output_type": "stream",
     "text": [
      "Attempt number 1 at fetching data for institute id MII176451\n"
     ]
    },
    {
     "name": "stdout",
     "output_type": "stream",
     "text": [
      "Fetching https://www.giustizia.it/giustizia/it/dettaglio_scheda.page?s=MII176451\n",
      "Success!\n",
      "\n"
     ]
    },
    {
     "name": "stdout",
     "output_type": "stream",
     "text": [
      "Attempt number 1 at fetching data for institute id MII176714\n"
     ]
    },
    {
     "name": "stdout",
     "output_type": "stream",
     "text": [
      "Fetching https://www.giustizia.it/giustizia/it/dettaglio_scheda.page?s=MII176714\n",
      "Success!\n",
      "\n"
     ]
    },
    {
     "name": "stdout",
     "output_type": "stream",
     "text": [
      "Attempt number 1 at fetching data for institute id MII178681\n"
     ]
    },
    {
     "name": "stdout",
     "output_type": "stream",
     "text": [
      "Fetching https://www.giustizia.it/giustizia/it/dettaglio_scheda.page?s=MII178681\n",
      "Success!\n",
      "\n"
     ]
    },
    {
     "name": "stdout",
     "output_type": "stream",
     "text": [
      "Attempt number 1 at fetching data for institute id MII180451\n"
     ]
    },
    {
     "name": "stdout",
     "output_type": "stream",
     "text": [
      "Fetching https://www.giustizia.it/giustizia/it/dettaglio_scheda.page?s=MII180451\n",
      "Success!\n",
      "\n"
     ]
    },
    {
     "name": "stdout",
     "output_type": "stream",
     "text": [
      "Attempt number 1 at fetching data for institute id MII181401\n"
     ]
    },
    {
     "name": "stdout",
     "output_type": "stream",
     "text": [
      "Fetching https://www.giustizia.it/giustizia/it/dettaglio_scheda.page?s=MII181401\n",
      "Success!\n",
      "\n"
     ]
    },
    {
     "name": "stdout",
     "output_type": "stream",
     "text": [
      "Attempt number 1 at fetching data for institute id MII181625\n"
     ]
    },
    {
     "name": "stdout",
     "output_type": "stream",
     "text": [
      "Attempt 1 failed for prison id MII181625. Error: Page.goto: Timeout 30000ms exceeded.\n",
      "Call log:\n",
      "  - navigating to \"https://www.giustizia.it/giustizia/it/dettaglio_scheda.page?s=MII181625\", waiting until \"load\"\n",
      "\n",
      "Reinitializing browser...\n"
     ]
    },
    {
     "name": "stdout",
     "output_type": "stream",
     "text": [
      "Attempt number 2 at fetching data for institute id MII181625\n"
     ]
    },
    {
     "name": "stdout",
     "output_type": "stream",
     "text": [
      "Fetching https://www.giustizia.it/giustizia/it/dettaglio_scheda.page?s=MII181625\n",
      "Success!\n",
      "\n"
     ]
    },
    {
     "name": "stdout",
     "output_type": "stream",
     "text": [
      "Attempt number 1 at fetching data for institute id MII172332\n"
     ]
    },
    {
     "name": "stdout",
     "output_type": "stream",
     "text": [
      "Fetching https://www.giustizia.it/giustizia/it/dettaglio_scheda.page?s=MII172332\n",
      "Success!\n",
      "\n"
     ]
    },
    {
     "name": "stdout",
     "output_type": "stream",
     "text": [
      "Attempt number 1 at fetching data for institute id MII179876\n"
     ]
    },
    {
     "name": "stdout",
     "output_type": "stream",
     "text": [
      "Fetching https://www.giustizia.it/giustizia/it/dettaglio_scheda.page?s=MII179876\n",
      "Success!\n",
      "\n"
     ]
    },
    {
     "name": "stdout",
     "output_type": "stream",
     "text": [
      "Attempt number 1 at fetching data for institute id MII172208\n"
     ]
    },
    {
     "name": "stdout",
     "output_type": "stream",
     "text": [
      "Fetching https://www.giustizia.it/giustizia/it/dettaglio_scheda.page?s=MII172208\n",
      "Success!\n",
      "\n"
     ]
    },
    {
     "name": "stdout",
     "output_type": "stream",
     "text": [
      "Attempt number 1 at fetching data for institute id MII181417\n"
     ]
    },
    {
     "name": "stdout",
     "output_type": "stream",
     "text": [
      "Fetching https://www.giustizia.it/giustizia/it/dettaglio_scheda.page?s=MII181417\n",
      "Success!\n",
      "\n"
     ]
    },
    {
     "name": "stdout",
     "output_type": "stream",
     "text": [
      "Attempt number 1 at fetching data for institute id MII173063\n"
     ]
    },
    {
     "name": "stdout",
     "output_type": "stream",
     "text": [
      "Fetching https://www.giustizia.it/giustizia/it/dettaglio_scheda.page?s=MII173063\n",
      "Success!\n",
      "\n"
     ]
    },
    {
     "name": "stdout",
     "output_type": "stream",
     "text": [
      "Attempt number 1 at fetching data for institute id MII158901\n"
     ]
    },
    {
     "name": "stdout",
     "output_type": "stream",
     "text": [
      "Fetching https://www.giustizia.it/giustizia/it/dettaglio_scheda.page?s=MII158901\n",
      "Success!\n",
      "\n"
     ]
    },
    {
     "name": "stdout",
     "output_type": "stream",
     "text": [
      "Attempt number 1 at fetching data for institute id MII173341\n"
     ]
    },
    {
     "name": "stdout",
     "output_type": "stream",
     "text": [
      "Fetching https://www.giustizia.it/giustizia/it/dettaglio_scheda.page?s=MII173341\n",
      "Success!\n",
      "\n"
     ]
    },
    {
     "name": "stdout",
     "output_type": "stream",
     "text": [
      "Attempt number 1 at fetching data for institute id MII172344\n"
     ]
    },
    {
     "name": "stdout",
     "output_type": "stream",
     "text": [
      "Fetching https://www.giustizia.it/giustizia/it/dettaglio_scheda.page?s=MII172344\n",
      "Success!\n",
      "\n"
     ]
    },
    {
     "name": "stdout",
     "output_type": "stream",
     "text": [
      "Attempt number 1 at fetching data for institute id MII181691\n"
     ]
    },
    {
     "name": "stdout",
     "output_type": "stream",
     "text": [
      "Fetching https://www.giustizia.it/giustizia/it/dettaglio_scheda.page?s=MII181691\n",
      "Success!\n",
      "\n"
     ]
    },
    {
     "name": "stdout",
     "output_type": "stream",
     "text": [
      "Attempt number 1 at fetching data for institute id MII160204\n"
     ]
    },
    {
     "name": "stdout",
     "output_type": "stream",
     "text": [
      "Fetching https://www.giustizia.it/giustizia/it/dettaglio_scheda.page?s=MII160204\n",
      "Success!\n",
      "\n"
     ]
    },
    {
     "name": "stdout",
     "output_type": "stream",
     "text": [
      "Attempt number 1 at fetching data for institute id MII181934\n"
     ]
    },
    {
     "name": "stdout",
     "output_type": "stream",
     "text": [
      "Fetching https://www.giustizia.it/giustizia/it/dettaglio_scheda.page?s=MII181934\n",
      "Success!\n",
      "\n"
     ]
    },
    {
     "name": "stdout",
     "output_type": "stream",
     "text": [
      "Attempt number 1 at fetching data for institute id MII172827\n"
     ]
    },
    {
     "name": "stdout",
     "output_type": "stream",
     "text": [
      "Attempt 1 failed for prison id MII172827. Error: Page.goto: Timeout 30000ms exceeded.\n",
      "Call log:\n",
      "  - navigating to \"https://www.giustizia.it/giustizia/it/dettaglio_scheda.page?s=MII172827\", waiting until \"load\"\n",
      "\n",
      "Reinitializing browser...\n"
     ]
    },
    {
     "name": "stdout",
     "output_type": "stream",
     "text": [
      "Attempt number 2 at fetching data for institute id MII172827\n"
     ]
    },
    {
     "name": "stdout",
     "output_type": "stream",
     "text": [
      "Fetching https://www.giustizia.it/giustizia/it/dettaglio_scheda.page?s=MII172827\n",
      "Success!\n",
      "\n"
     ]
    },
    {
     "name": "stdout",
     "output_type": "stream",
     "text": [
      "Attempt number 1 at fetching data for institute id MII176771\n"
     ]
    },
    {
     "name": "stdout",
     "output_type": "stream",
     "text": [
      "Fetching https://www.giustizia.it/giustizia/it/dettaglio_scheda.page?s=MII176771\n",
      "Success!\n",
      "\n"
     ]
    },
    {
     "name": "stdout",
     "output_type": "stream",
     "text": [
      "Attempt number 1 at fetching data for institute id MII159060\n"
     ]
    },
    {
     "name": "stdout",
     "output_type": "stream",
     "text": [
      "Fetching https://www.giustizia.it/giustizia/it/dettaglio_scheda.page?s=MII159060\n",
      "Success!\n",
      "\n"
     ]
    },
    {
     "name": "stdout",
     "output_type": "stream",
     "text": [
      "Attempt number 1 at fetching data for institute id MII177134\n"
     ]
    },
    {
     "name": "stdout",
     "output_type": "stream",
     "text": [
      "Fetching https://www.giustizia.it/giustizia/it/dettaglio_scheda.page?s=MII177134\n",
      "Success!\n",
      "\n"
     ]
    },
    {
     "name": "stdout",
     "output_type": "stream",
     "text": [
      "Attempt number 1 at fetching data for institute id MII178700\n"
     ]
    },
    {
     "name": "stdout",
     "output_type": "stream",
     "text": [
      "Fetching https://www.giustizia.it/giustizia/it/dettaglio_scheda.page?s=MII178700\n",
      "Success!\n",
      "\n"
     ]
    },
    {
     "name": "stdout",
     "output_type": "stream",
     "text": [
      "Attempt number 1 at fetching data for institute id MII178148\n"
     ]
    },
    {
     "name": "stdout",
     "output_type": "stream",
     "text": [
      "Fetching https://www.giustizia.it/giustizia/it/dettaglio_scheda.page?s=MII178148\n",
      "Success!\n",
      "\n"
     ]
    },
    {
     "name": "stdout",
     "output_type": "stream",
     "text": [
      "Attempt number 1 at fetching data for institute id MII173285\n"
     ]
    },
    {
     "name": "stdout",
     "output_type": "stream",
     "text": [
      "Fetching https://www.giustizia.it/giustizia/it/dettaglio_scheda.page?s=MII173285\n",
      "Success!\n",
      "\n"
     ]
    },
    {
     "name": "stdout",
     "output_type": "stream",
     "text": [
      "Attempt number 1 at fetching data for institute id MII181079\n"
     ]
    },
    {
     "name": "stdout",
     "output_type": "stream",
     "text": [
      "Fetching https://www.giustizia.it/giustizia/it/dettaglio_scheda.page?s=MII181079\n",
      "Success!\n",
      "\n"
     ]
    },
    {
     "name": "stdout",
     "output_type": "stream",
     "text": [
      "Attempt number 1 at fetching data for institute id MII177384\n"
     ]
    },
    {
     "name": "stdout",
     "output_type": "stream",
     "text": [
      "Fetching https://www.giustizia.it/giustizia/it/dettaglio_scheda.page?s=MII177384\n",
      "Success!\n",
      "\n"
     ]
    },
    {
     "name": "stdout",
     "output_type": "stream",
     "text": [
      "Attempt number 1 at fetching data for institute id MII179324\n"
     ]
    },
    {
     "name": "stdout",
     "output_type": "stream",
     "text": [
      "Fetching https://www.giustizia.it/giustizia/it/dettaglio_scheda.page?s=MII179324\n",
      "Success!\n",
      "\n"
     ]
    },
    {
     "name": "stdout",
     "output_type": "stream",
     "text": [
      "Attempt number 1 at fetching data for institute id MII181091\n"
     ]
    },
    {
     "name": "stdout",
     "output_type": "stream",
     "text": [
      "Attempt 1 failed for prison id MII181091. Error: Page.goto: Timeout 30000ms exceeded.\n",
      "Call log:\n",
      "  - navigating to \"https://www.giustizia.it/giustizia/it/dettaglio_scheda.page?s=MII181091\", waiting until \"load\"\n",
      "\n",
      "Reinitializing browser...\n"
     ]
    },
    {
     "name": "stdout",
     "output_type": "stream",
     "text": [
      "Attempt number 2 at fetching data for institute id MII181091\n"
     ]
    },
    {
     "name": "stdout",
     "output_type": "stream",
     "text": [
      "Fetching https://www.giustizia.it/giustizia/it/dettaglio_scheda.page?s=MII181091\n",
      "Success!\n",
      "\n"
     ]
    },
    {
     "name": "stdout",
     "output_type": "stream",
     "text": [
      "Attempt number 1 at fetching data for institute id MII179781\n"
     ]
    },
    {
     "name": "stdout",
     "output_type": "stream",
     "text": [
      "Fetching https://www.giustizia.it/giustizia/it/dettaglio_scheda.page?s=MII179781\n",
      "Success!\n",
      "\n"
     ]
    },
    {
     "name": "stdout",
     "output_type": "stream",
     "text": [
      "Attempt number 1 at fetching data for institute id MII181880\n"
     ]
    },
    {
     "name": "stdout",
     "output_type": "stream",
     "text": [
      "Fetching https://www.giustizia.it/giustizia/it/dettaglio_scheda.page?s=MII181880\n",
      "Success!\n",
      "\n"
     ]
    },
    {
     "name": "stdout",
     "output_type": "stream",
     "text": [
      "Attempt number 1 at fetching data for institute id MII181924\n"
     ]
    },
    {
     "name": "stdout",
     "output_type": "stream",
     "text": [
      "Fetching https://www.giustizia.it/giustizia/it/dettaglio_scheda.page?s=MII181924\n",
      "Success!\n",
      "\n"
     ]
    },
    {
     "name": "stdout",
     "output_type": "stream",
     "text": [
      "Attempt number 1 at fetching data for institute id MII177996\n"
     ]
    },
    {
     "name": "stdout",
     "output_type": "stream",
     "text": [
      "Fetching https://www.giustizia.it/giustizia/it/dettaglio_scheda.page?s=MII177996\n",
      "Success!\n",
      "\n"
     ]
    },
    {
     "name": "stdout",
     "output_type": "stream",
     "text": [
      "Attempt number 1 at fetching data for institute id MII180370\n"
     ]
    },
    {
     "name": "stdout",
     "output_type": "stream",
     "text": [
      "Fetching https://www.giustizia.it/giustizia/it/dettaglio_scheda.page?s=MII180370\n",
      "Success!\n",
      "\n"
     ]
    },
    {
     "name": "stdout",
     "output_type": "stream",
     "text": [
      "Attempt number 1 at fetching data for institute id MII173265\n"
     ]
    },
    {
     "name": "stdout",
     "output_type": "stream",
     "text": [
      "Fetching https://www.giustizia.it/giustizia/it/dettaglio_scheda.page?s=MII173265\n",
      "Success!\n",
      "\n"
     ]
    },
    {
     "name": "stdout",
     "output_type": "stream",
     "text": [
      "Attempt number 1 at fetching data for institute id MII178045\n"
     ]
    },
    {
     "name": "stdout",
     "output_type": "stream",
     "text": [
      "Fetching https://www.giustizia.it/giustizia/it/dettaglio_scheda.page?s=MII178045\n",
      "Success!\n",
      "\n"
     ]
    },
    {
     "name": "stdout",
     "output_type": "stream",
     "text": [
      "Attempt number 1 at fetching data for institute id MII177332\n"
     ]
    },
    {
     "name": "stdout",
     "output_type": "stream",
     "text": [
      "Attempt 1 failed for prison id MII177332. Error: Page.goto: Timeout 30000ms exceeded.\n",
      "Call log:\n",
      "  - navigating to \"https://www.giustizia.it/giustizia/it/dettaglio_scheda.page?s=MII177332\", waiting until \"load\"\n",
      "\n",
      "Reinitializing browser...\n"
     ]
    },
    {
     "name": "stdout",
     "output_type": "stream",
     "text": [
      "Attempt number 2 at fetching data for institute id MII177332\n"
     ]
    },
    {
     "name": "stdout",
     "output_type": "stream",
     "text": [
      "Attempt 2 failed for prison id MII177332. Error: Page.goto: Timeout 30000ms exceeded.\n",
      "Call log:\n",
      "  - navigating to \"https://www.giustizia.it/giustizia/it/dettaglio_scheda.page?s=MII177332\", waiting until \"load\"\n",
      "\n",
      "Reinitializing browser...\n"
     ]
    },
    {
     "name": "stdout",
     "output_type": "stream",
     "text": [
      "Attempt number 3 at fetching data for institute id MII177332\n"
     ]
    },
    {
     "name": "stdout",
     "output_type": "stream",
     "text": [
      "Fetching https://www.giustizia.it/giustizia/it/dettaglio_scheda.page?s=MII177332\n",
      "<h2> tag with text 'Capienza e presenze' not found.\n",
      "<h2> tag with text 'Stanze di detenzione' not found.\n",
      "<h2> tag with text 'Personale' not found.\n",
      "Attempt 3 failed for prison id MII177332. Error: 'NoneType' object has no attribute 'text'\n",
      "Reinitializing browser...\n"
     ]
    },
    {
     "name": "stdout",
     "output_type": "stream",
     "text": [
      "Attempt number 4 at fetching data for institute id MII177332\n"
     ]
    },
    {
     "name": "stdout",
     "output_type": "stream",
     "text": [
      "Fetching https://www.giustizia.it/giustizia/it/dettaglio_scheda.page?s=MII177332\n",
      "Success!\n",
      "\n"
     ]
    },
    {
     "name": "stdout",
     "output_type": "stream",
     "text": [
      "Attempt number 1 at fetching data for institute id MII179856\n"
     ]
    },
    {
     "name": "stdout",
     "output_type": "stream",
     "text": [
      "Fetching https://www.giustizia.it/giustizia/it/dettaglio_scheda.page?s=MII179856\n",
      "Success!\n",
      "\n"
     ]
    },
    {
     "name": "stdout",
     "output_type": "stream",
     "text": [
      "Attempt number 1 at fetching data for institute id MII177107\n"
     ]
    },
    {
     "name": "stdout",
     "output_type": "stream",
     "text": [
      "Fetching https://www.giustizia.it/giustizia/it/dettaglio_scheda.page?s=MII177107\n",
      "Success!\n",
      "\n"
     ]
    },
    {
     "name": "stdout",
     "output_type": "stream",
     "text": [
      "Attempt number 1 at fetching data for institute id MII179306\n"
     ]
    },
    {
     "name": "stdout",
     "output_type": "stream",
     "text": [
      "Fetching https://www.giustizia.it/giustizia/it/dettaglio_scheda.page?s=MII179306\n",
      "Success!\n",
      "\n"
     ]
    },
    {
     "name": "stdout",
     "output_type": "stream",
     "text": [
      "Attempt number 1 at fetching data for institute id MII180426\n"
     ]
    },
    {
     "name": "stdout",
     "output_type": "stream",
     "text": [
      "Fetching https://www.giustizia.it/giustizia/it/dettaglio_scheda.page?s=MII180426\n",
      "Success!\n",
      "\n"
     ]
    },
    {
     "name": "stdout",
     "output_type": "stream",
     "text": [
      "Attempt number 1 at fetching data for institute id MII181377\n"
     ]
    },
    {
     "name": "stdout",
     "output_type": "stream",
     "text": [
      "Fetching https://www.giustizia.it/giustizia/it/dettaglio_scheda.page?s=MII181377\n",
      "Success!\n",
      "\n"
     ]
    },
    {
     "name": "stdout",
     "output_type": "stream",
     "text": [
      "Attempt number 1 at fetching data for institute id MII176414\n"
     ]
    },
    {
     "name": "stdout",
     "output_type": "stream",
     "text": [
      "Attempt 1 failed for prison id MII176414. Error: Page.goto: Timeout 30000ms exceeded.\n",
      "Call log:\n",
      "  - navigating to \"https://www.giustizia.it/giustizia/it/dettaglio_scheda.page?s=MII176414\", waiting until \"load\"\n",
      "\n",
      "Reinitializing browser...\n"
     ]
    },
    {
     "name": "stdout",
     "output_type": "stream",
     "text": [
      "Attempt number 2 at fetching data for institute id MII176414\n"
     ]
    },
    {
     "name": "stdout",
     "output_type": "stream",
     "text": [
      "Attempt 2 failed for prison id MII176414. Error: Page.goto: Timeout 30000ms exceeded.\n",
      "Call log:\n",
      "  - navigating to \"https://www.giustizia.it/giustizia/it/dettaglio_scheda.page?s=MII176414\", waiting until \"load\"\n",
      "\n",
      "Reinitializing browser...\n"
     ]
    },
    {
     "name": "stdout",
     "output_type": "stream",
     "text": [
      "Attempt number 3 at fetching data for institute id MII176414\n"
     ]
    },
    {
     "name": "stdout",
     "output_type": "stream",
     "text": [
      "Fetching https://www.giustizia.it/giustizia/it/dettaglio_scheda.page?s=MII176414\n",
      "Success!\n",
      "\n"
     ]
    },
    {
     "name": "stdout",
     "output_type": "stream",
     "text": [
      "Attempt number 1 at fetching data for institute id MII179237\n"
     ]
    },
    {
     "name": "stdout",
     "output_type": "stream",
     "text": [
      "Fetching https://www.giustizia.it/giustizia/it/dettaglio_scheda.page?s=MII179237\n",
      "Success!\n",
      "\n"
     ]
    },
    {
     "name": "stdout",
     "output_type": "stream",
     "text": [
      "Attempt number 1 at fetching data for institute id MII152284\n"
     ]
    },
    {
     "name": "stdout",
     "output_type": "stream",
     "text": [
      "Fetching https://www.giustizia.it/giustizia/it/dettaglio_scheda.page?s=MII152284\n",
      "Success!\n",
      "\n"
     ]
    },
    {
     "name": "stdout",
     "output_type": "stream",
     "text": [
      "Attempt number 1 at fetching data for institute id MII182339\n"
     ]
    },
    {
     "name": "stdout",
     "output_type": "stream",
     "text": [
      "Fetching https://www.giustizia.it/giustizia/it/dettaglio_scheda.page?s=MII182339\n",
      "Success!\n",
      "\n"
     ]
    },
    {
     "name": "stdout",
     "output_type": "stream",
     "text": [
      "Attempt number 1 at fetching data for institute id MII180001\n"
     ]
    },
    {
     "name": "stdout",
     "output_type": "stream",
     "text": [
      "Fetching https://www.giustizia.it/giustizia/it/dettaglio_scheda.page?s=MII180001\n",
      "Success!\n",
      "\n"
     ]
    },
    {
     "name": "stdout",
     "output_type": "stream",
     "text": [
      "Attempt number 1 at fetching data for institute id MII174686\n"
     ]
    },
    {
     "name": "stdout",
     "output_type": "stream",
     "text": [
      "Attempt 1 failed for prison id MII174686. Error: Page.goto: Timeout 30000ms exceeded.\n",
      "Call log:\n",
      "  - navigating to \"https://www.giustizia.it/giustizia/it/dettaglio_scheda.page?s=MII174686\", waiting until \"load\"\n",
      "\n",
      "Reinitializing browser...\n"
     ]
    },
    {
     "name": "stdout",
     "output_type": "stream",
     "text": [
      "Attempt number 2 at fetching data for institute id MII174686\n"
     ]
    },
    {
     "name": "stdout",
     "output_type": "stream",
     "text": [
      "Attempt 2 failed for prison id MII174686. Error: Page.goto: Timeout 30000ms exceeded.\n",
      "Call log:\n",
      "  - navigating to \"https://www.giustizia.it/giustizia/it/dettaglio_scheda.page?s=MII174686\", waiting until \"load\"\n",
      "\n",
      "Reinitializing browser...\n"
     ]
    },
    {
     "name": "stdout",
     "output_type": "stream",
     "text": [
      "Attempt number 3 at fetching data for institute id MII174686\n"
     ]
    },
    {
     "name": "stdout",
     "output_type": "stream",
     "text": [
      "Fetching https://www.giustizia.it/giustizia/it/dettaglio_scheda.page?s=MII174686\n",
      "Success!\n",
      "\n"
     ]
    },
    {
     "name": "stdout",
     "output_type": "stream",
     "text": [
      "Attempt number 1 at fetching data for institute id MII179842\n"
     ]
    },
    {
     "name": "stdout",
     "output_type": "stream",
     "text": [
      "Fetching https://www.giustizia.it/giustizia/it/dettaglio_scheda.page?s=MII179842\n",
      "Success!\n",
      "\n"
     ]
    },
    {
     "name": "stdout",
     "output_type": "stream",
     "text": [
      "Attempt number 1 at fetching data for institute id MII172508\n"
     ]
    },
    {
     "name": "stdout",
     "output_type": "stream",
     "text": [
      "Fetching https://www.giustizia.it/giustizia/it/dettaglio_scheda.page?s=MII172508\n",
      "Success!\n",
      "\n"
     ]
    },
    {
     "name": "stdout",
     "output_type": "stream",
     "text": [
      "Attempt number 1 at fetching data for institute id MII179981\n"
     ]
    },
    {
     "name": "stdout",
     "output_type": "stream",
     "text": [
      "Fetching https://www.giustizia.it/giustizia/it/dettaglio_scheda.page?s=MII179981\n",
      "Success!\n",
      "\n"
     ]
    },
    {
     "name": "stdout",
     "output_type": "stream",
     "text": [
      "Attempt number 1 at fetching data for institute id MII179364\n"
     ]
    },
    {
     "name": "stdout",
     "output_type": "stream",
     "text": [
      "Fetching https://www.giustizia.it/giustizia/it/dettaglio_scheda.page?s=MII179364\n",
      "Success!\n",
      "\n"
     ]
    },
    {
     "name": "stdout",
     "output_type": "stream",
     "text": [
      "Attempt number 1 at fetching data for institute id MII176403\n"
     ]
    },
    {
     "name": "stdout",
     "output_type": "stream",
     "text": [
      "Fetching https://www.giustizia.it/giustizia/it/dettaglio_scheda.page?s=MII176403\n",
      "Success!\n",
      "\n"
     ]
    },
    {
     "name": "stdout",
     "output_type": "stream",
     "text": [
      "Attempt number 1 at fetching data for institute id MII178638\n"
     ]
    },
    {
     "name": "stdout",
     "output_type": "stream",
     "text": [
      "Fetching https://www.giustizia.it/giustizia/it/dettaglio_scheda.page?s=MII178638\n",
      "Success!\n",
      "\n"
     ]
    },
    {
     "name": "stdout",
     "output_type": "stream",
     "text": [
      "Attempt number 1 at fetching data for institute id MII181125\n"
     ]
    },
    {
     "name": "stdout",
     "output_type": "stream",
     "text": [
      "Fetching https://www.giustizia.it/giustizia/it/dettaglio_scheda.page?s=MII181125\n",
      "Success!\n",
      "\n"
     ]
    }
   ],
   "source": [
    "BASE_URL = \"https://www.giustizia.it/giustizia/it/dettaglio_scheda.page?s=\"\n",
    "\n",
    "data = []\n",
    "\n",
    "updates = [\n",
    "    'dati aggiornati al ',\n",
    "    'personale polizia penitenziaria aggiornato al',\n",
    "    'personale amministrativo aggiornato al',\n",
    "    'data di aggiornamento spazi detentivi',\n",
    "    ]\n",
    "\n",
    "playwright = await async_playwright().start()\n",
    "browser = await playwright.firefox.launch()\n",
    "context = await browser.new_context(viewport={'width': 1280, 'height': 800})\n",
    "page = await context.new_page()\n",
    "\n",
    "for prison_id in prison_ids:\n",
    "    success = False\n",
    "    for attempt in range(5):\n",
    "        try:\n",
    "            print(f\"Attempt number {attempt+1} at fetching data for institute id {prison_id}\")\n",
    "            html_content = await get_html(prison_id)\n",
    "            soup = BeautifulSoup(html_content, 'html.parser')\n",
    "\n",
    "            capienza_df = extract_table_data('Capienza e presenze')\n",
    "            spazi_df = extract_table_data('Stanze di detenzione')\n",
    "            personale_df = extract_table_data('Personale')\n",
    "\n",
    "            # Combine the DataFrames\n",
    "            merged_df = pd.concat([\n",
    "                capienza_df.reset_index(drop=True), \n",
    "                personale_df.reset_index(drop=True),\n",
    "                spazi_df.reset_index(drop=True)\n",
    "            ], axis=1)\n",
    "\n",
    "            institute_name, institute_type = extract_info(soup)\n",
    "\n",
    "            # Now assign the values to new columns in the DataFrame\n",
    "            merged_df['nome istituto'] = institute_name\n",
    "            merged_df['tipo istituto'] = institute_type\n",
    "\n",
    "            for update in updates:\n",
    "                merged_df[update] = extract_date(soup, update)\n",
    "\n",
    "            merged_df['id istituto'] = prison_id\n",
    "            merged_df.columns = merged_df.columns.str.strip()\n",
    "\n",
    "            data.append(merged_df)\n",
    "\n",
    "            success = True  # Mark as successful\n",
    "            print(\"Success!\")\n",
    "            print()\n",
    "            break\n",
    "\n",
    "        except Exception as e:\n",
    "            print(f\"Attempt {attempt + 1} failed for prison id {prison_id}. Error: {e}\")\n",
    "            if attempt < 4:  # Only reinitialize if not on the last attempt\n",
    "                print(\"Reinitializing browser...\")\n",
    "                await browser.close()\n",
    "                await asyncio.sleep(10)\n",
    "                browser = await playwright.firefox.launch()\n",
    "                context = await browser.new_context(viewport={'width': 1280, 'height': 800})\n",
    "                page = await context.new_page()\n",
    "\n",
    "    if not success:\n",
    "        print(f\"Failed to fetch data for prison id {prison_id} after 5 attempts.\")\n",
    "\n",
    "    await asyncio.sleep(5)  # Use asyncio.sleep for asynchronous sleep\n",
    "\n",
    "await browser.close()\n",
    "\n",
    "# Convert the collected data to a Pandas DataFrame\n",
    "final_df = pd.concat(data, ignore_index=True)\n",
    "\n",
    "# Reorder the DataFrame\n",
    "new_column_order = ['id istituto', 'nome istituto', 'tipo istituto'] + \\\n",
    "                    [col for col in final_df.columns if col not in ['id istituto', 'nome istituto', 'tipo istituto']]\n",
    "final_df = final_df[new_column_order]\n",
    "\n",
    "#Fixing dates\n",
    "for update in (u.strip() for u in updates):\n",
    "    final_df[update] = pd.to_datetime(final_df[update], dayfirst=True, errors='coerce')\n",
    "    final_df[update] = final_df[update].dt.strftime('%Y-%m-%d')"
   ]
  },
  {
   "cell_type": "code",
   "execution_count": 5,
   "metadata": {
    "execution": {
     "iopub.execute_input": "2024-12-16T09:58:22.232517Z",
     "iopub.status.busy": "2024-12-16T09:58:22.232077Z",
     "iopub.status.idle": "2024-12-16T09:58:22.349705Z",
     "shell.execute_reply": "2024-12-16T09:58:22.349104Z"
    }
   },
   "outputs": [],
   "source": [
    "old_data_path = Path('../outputs/clean/institutes.csv')\n",
    "\n",
    "if old_data_path.exists():\n",
    "  old_data = pd.read_csv('../outputs/clean/institutes.csv')\n",
    "  combined_data = pd.concat([old_data, final_df], ignore_index=True)\n",
    "  combined_data = combined_data.drop_duplicates()\n",
    "  combined_data.to_csv('../outputs/clean/institutes.csv', index=False, encoding='UTF-8-sig')\n",
    "\n",
    "else:\n",
    "  final_df = final_df.drop_duplicates(inplace=True)\n",
    "  final_df.to_csv('../outputs/clean/institutes.csv', index=False, encoding='UTF-8-sig')"
   ]
  }
 ],
 "metadata": {
  "kernelspec": {
   "display_name": "Python 3",
   "language": "python",
   "name": "python3"
  },
  "language_info": {
   "codemirror_mode": {
    "name": "ipython",
    "version": 3
   },
   "file_extension": ".py",
   "mimetype": "text/x-python",
   "name": "python",
   "nbconvert_exporter": "python",
   "pygments_lexer": "ipython3",
   "version": "3.10.15"
  }
 },
 "nbformat": 4,
 "nbformat_minor": 2
}

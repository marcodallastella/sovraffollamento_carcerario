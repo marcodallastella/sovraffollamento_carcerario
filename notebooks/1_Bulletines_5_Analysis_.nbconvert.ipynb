{
 "cells": [
  {
   "cell_type": "code",
   "execution_count": 1,
   "metadata": {
    "execution": {
     "iopub.execute_input": "2024-11-15T05:06:31.255574Z",
     "iopub.status.busy": "2024-11-15T05:06:31.255383Z",
     "iopub.status.idle": "2024-11-15T05:06:31.495214Z",
     "shell.execute_reply": "2024-11-15T05:06:31.494475Z"
    }
   },
   "outputs": [],
   "source": [
    "import pandas as pd"
   ]
  },
  {
   "cell_type": "code",
   "execution_count": 2,
   "metadata": {
    "execution": {
     "iopub.execute_input": "2024-11-15T05:06:31.497630Z",
     "iopub.status.busy": "2024-11-15T05:06:31.497368Z",
     "iopub.status.idle": "2024-11-15T05:06:31.515347Z",
     "shell.execute_reply": "2024-11-15T05:06:31.514719Z"
    }
   },
   "outputs": [],
   "source": [
    "#Monthly aggregated data\n",
    "\n",
    "df = pd.read_csv('../outputs/clean/bulletines.csv')"
   ]
  },
  {
   "cell_type": "markdown",
   "metadata": {},
   "source": [
    "## 1. Bulletines totals (monthly aggregated data)"
   ]
  },
  {
   "cell_type": "code",
   "execution_count": 3,
   "metadata": {
    "execution": {
     "iopub.execute_input": "2024-11-15T05:06:31.517769Z",
     "iopub.status.busy": "2024-11-15T05:06:31.517379Z",
     "iopub.status.idle": "2024-11-15T05:06:31.530827Z",
     "shell.execute_reply": "2024-11-15T05:06:31.530148Z"
    }
   },
   "outputs": [
    {
     "data": {
      "text/html": [
       "<div>\n",
       "<style scoped>\n",
       "    .dataframe tbody tr th:only-of-type {\n",
       "        vertical-align: middle;\n",
       "    }\n",
       "\n",
       "    .dataframe tbody tr th {\n",
       "        vertical-align: top;\n",
       "    }\n",
       "\n",
       "    .dataframe thead th {\n",
       "        text-align: right;\n",
       "    }\n",
       "</style>\n",
       "<table border=\"1\" class=\"dataframe\">\n",
       "  <thead>\n",
       "    <tr style=\"text-align: right;\">\n",
       "      <th></th>\n",
       "      <th>Ultimo aggiornamento</th>\n",
       "      <th>Capienza Regolamentare</th>\n",
       "      <th>Detenuti presenti - totale</th>\n",
       "      <th>Detenuti presenti - donne</th>\n",
       "      <th>Detenuti presenti - stranieri</th>\n",
       "    </tr>\n",
       "  </thead>\n",
       "  <tbody>\n",
       "    <tr>\n",
       "      <th>0</th>\n",
       "      <td>2019-01-31</td>\n",
       "      <td>50550</td>\n",
       "      <td>60125</td>\n",
       "      <td>2580</td>\n",
       "      <td>20309</td>\n",
       "    </tr>\n",
       "    <tr>\n",
       "      <th>1</th>\n",
       "      <td>2019-02-28</td>\n",
       "      <td>50522</td>\n",
       "      <td>60348</td>\n",
       "      <td>2623</td>\n",
       "      <td>20325</td>\n",
       "    </tr>\n",
       "    <tr>\n",
       "      <th>2</th>\n",
       "      <td>2019-03-31</td>\n",
       "      <td>50514</td>\n",
       "      <td>60611</td>\n",
       "      <td>2656</td>\n",
       "      <td>20412</td>\n",
       "    </tr>\n",
       "    <tr>\n",
       "      <th>3</th>\n",
       "      <td>2019-04-30</td>\n",
       "      <td>50511</td>\n",
       "      <td>60439</td>\n",
       "      <td>2659</td>\n",
       "      <td>20324</td>\n",
       "    </tr>\n",
       "    <tr>\n",
       "      <th>4</th>\n",
       "      <td>2019-05-31</td>\n",
       "      <td>50528</td>\n",
       "      <td>60476</td>\n",
       "      <td>2648</td>\n",
       "      <td>20277</td>\n",
       "    </tr>\n",
       "  </tbody>\n",
       "</table>\n",
       "</div>"
      ],
      "text/plain": [
       "  Ultimo aggiornamento  Capienza Regolamentare  Detenuti presenti - totale  \\\n",
       "0           2019-01-31                   50550                       60125   \n",
       "1           2019-02-28                   50522                       60348   \n",
       "2           2019-03-31                   50514                       60611   \n",
       "3           2019-04-30                   50511                       60439   \n",
       "4           2019-05-31                   50528                       60476   \n",
       "\n",
       "   Detenuti presenti - donne  Detenuti presenti - stranieri  \n",
       "0                       2580                          20309  \n",
       "1                       2623                          20325  \n",
       "2                       2656                          20412  \n",
       "3                       2659                          20324  \n",
       "4                       2648                          20277  "
      ]
     },
     "execution_count": 3,
     "metadata": {},
     "output_type": "execute_result"
    }
   ],
   "source": [
    "grouped_df = df.groupby('Ultimo aggiornamento').agg({\n",
    "    'Capienza Regolamentare': 'sum',\n",
    "    'Detenuti presenti - totale': 'sum',\n",
    "    'Detenuti presenti - donne': 'sum',\n",
    "    'Detenuti presenti - stranieri': 'sum'\n",
    "}).reset_index()\n",
    "grouped_df.head()"
   ]
  },
  {
   "cell_type": "code",
   "execution_count": 4,
   "metadata": {
    "execution": {
     "iopub.execute_input": "2024-11-15T05:06:31.567441Z",
     "iopub.status.busy": "2024-11-15T05:06:31.566944Z",
     "iopub.status.idle": "2024-11-15T05:06:31.576148Z",
     "shell.execute_reply": "2024-11-15T05:06:31.575572Z"
    }
   },
   "outputs": [
    {
     "data": {
      "text/html": [
       "<div>\n",
       "<style scoped>\n",
       "    .dataframe tbody tr th:only-of-type {\n",
       "        vertical-align: middle;\n",
       "    }\n",
       "\n",
       "    .dataframe tbody tr th {\n",
       "        vertical-align: top;\n",
       "    }\n",
       "\n",
       "    .dataframe thead th {\n",
       "        text-align: right;\n",
       "    }\n",
       "</style>\n",
       "<table border=\"1\" class=\"dataframe\">\n",
       "  <thead>\n",
       "    <tr style=\"text-align: right;\">\n",
       "      <th></th>\n",
       "      <th>Ultimo aggiornamento</th>\n",
       "      <th>Capienza Regolamentare</th>\n",
       "      <th>Detenuti presenti - totale</th>\n",
       "      <th>Detenuti presenti - donne</th>\n",
       "      <th>Detenuti presenti - stranieri</th>\n",
       "      <th>tasso_affollamento</th>\n",
       "    </tr>\n",
       "  </thead>\n",
       "  <tbody>\n",
       "    <tr>\n",
       "      <th>65</th>\n",
       "      <td>2024-06-30</td>\n",
       "      <td>51234</td>\n",
       "      <td>61480</td>\n",
       "      <td>2682</td>\n",
       "      <td>19213</td>\n",
       "      <td>119.9984</td>\n",
       "    </tr>\n",
       "    <tr>\n",
       "      <th>66</th>\n",
       "      <td>2024-07-31</td>\n",
       "      <td>51207</td>\n",
       "      <td>61133</td>\n",
       "      <td>2682</td>\n",
       "      <td>19150</td>\n",
       "      <td>119.3841</td>\n",
       "    </tr>\n",
       "    <tr>\n",
       "      <th>67</th>\n",
       "      <td>2024-08-31</td>\n",
       "      <td>50911</td>\n",
       "      <td>61758</td>\n",
       "      <td>2686</td>\n",
       "      <td>19507</td>\n",
       "      <td>121.3058</td>\n",
       "    </tr>\n",
       "    <tr>\n",
       "      <th>68</th>\n",
       "      <td>2024-09-30</td>\n",
       "      <td>51196</td>\n",
       "      <td>61862</td>\n",
       "      <td>2673</td>\n",
       "      <td>19577</td>\n",
       "      <td>120.8337</td>\n",
       "    </tr>\n",
       "    <tr>\n",
       "      <th>69</th>\n",
       "      <td>2024-10-31</td>\n",
       "      <td>102362</td>\n",
       "      <td>124220</td>\n",
       "      <td>5386</td>\n",
       "      <td>39584</td>\n",
       "      <td>121.3536</td>\n",
       "    </tr>\n",
       "  </tbody>\n",
       "</table>\n",
       "</div>"
      ],
      "text/plain": [
       "   Ultimo aggiornamento  Capienza Regolamentare  Detenuti presenti - totale  \\\n",
       "65           2024-06-30                   51234                       61480   \n",
       "66           2024-07-31                   51207                       61133   \n",
       "67           2024-08-31                   50911                       61758   \n",
       "68           2024-09-30                   51196                       61862   \n",
       "69           2024-10-31                  102362                      124220   \n",
       "\n",
       "    Detenuti presenti - donne  Detenuti presenti - stranieri  \\\n",
       "65                       2682                          19213   \n",
       "66                       2682                          19150   \n",
       "67                       2686                          19507   \n",
       "68                       2673                          19577   \n",
       "69                       5386                          39584   \n",
       "\n",
       "    tasso_affollamento  \n",
       "65            119.9984  \n",
       "66            119.3841  \n",
       "67            121.3058  \n",
       "68            120.8337  \n",
       "69            121.3536  "
      ]
     },
     "execution_count": 4,
     "metadata": {},
     "output_type": "execute_result"
    }
   ],
   "source": [
    "grouped_df['tasso_affollamento'] = round((grouped_df['Detenuti presenti - totale'] / grouped_df['Capienza Regolamentare']) * 100, 4).astype(float)\n",
    "\n",
    "grouped_df.tail()"
   ]
  },
  {
   "cell_type": "code",
   "execution_count": 5,
   "metadata": {
    "execution": {
     "iopub.execute_input": "2024-11-15T05:06:31.578198Z",
     "iopub.status.busy": "2024-11-15T05:06:31.577815Z",
     "iopub.status.idle": "2024-11-15T05:06:31.581964Z",
     "shell.execute_reply": "2024-11-15T05:06:31.581469Z"
    }
   },
   "outputs": [],
   "source": [
    "grouped_df.to_csv('../outputs/viz/bulletines_totals.csv', index=False, encoding='UTF-8')"
   ]
  }
 ],
 "metadata": {
  "kernelspec": {
   "display_name": "Python 3",
   "language": "python",
   "name": "python3"
  },
  "language_info": {
   "codemirror_mode": {
    "name": "ipython",
    "version": 3
   },
   "file_extension": ".py",
   "mimetype": "text/x-python",
   "name": "python",
   "nbconvert_exporter": "python",
   "pygments_lexer": "ipython3",
   "version": "3.10.15"
  }
 },
 "nbformat": 4,
 "nbformat_minor": 2
}

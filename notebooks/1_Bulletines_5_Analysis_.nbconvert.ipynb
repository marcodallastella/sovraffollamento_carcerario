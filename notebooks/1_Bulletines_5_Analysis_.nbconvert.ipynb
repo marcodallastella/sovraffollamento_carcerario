{
 "cells": [
  {
   "cell_type": "code",
   "execution_count": 1,
   "metadata": {
    "execution": {
     "iopub.execute_input": "2025-09-15T05:07:34.151767Z",
     "iopub.status.busy": "2025-09-15T05:07:34.151481Z",
     "iopub.status.idle": "2025-09-15T05:07:34.410570Z",
     "shell.execute_reply": "2025-09-15T05:07:34.409956Z"
    }
   },
   "outputs": [],
   "source": [
    "import pandas as pd"
   ]
  },
  {
   "cell_type": "code",
   "execution_count": 2,
   "metadata": {
    "execution": {
     "iopub.execute_input": "2025-09-15T05:07:34.412946Z",
     "iopub.status.busy": "2025-09-15T05:07:34.412652Z",
     "iopub.status.idle": "2025-09-15T05:07:34.430528Z",
     "shell.execute_reply": "2025-09-15T05:07:34.429955Z"
    }
   },
   "outputs": [],
   "source": [
    "#Monthly aggregated data\n",
    "\n",
    "df = pd.read_csv('../outputs/clean/bulletines.csv')"
   ]
  },
  {
   "cell_type": "markdown",
   "metadata": {},
   "source": [
    "## 1. Bulletines totals (monthly aggregated data)"
   ]
  },
  {
   "cell_type": "code",
   "execution_count": 3,
   "metadata": {
    "execution": {
     "iopub.execute_input": "2025-09-15T05:07:34.432750Z",
     "iopub.status.busy": "2025-09-15T05:07:34.432555Z",
     "iopub.status.idle": "2025-09-15T05:07:34.446004Z",
     "shell.execute_reply": "2025-09-15T05:07:34.445339Z"
    }
   },
   "outputs": [
    {
     "data": {
      "text/html": [
       "<div>\n",
       "<style scoped>\n",
       "    .dataframe tbody tr th:only-of-type {\n",
       "        vertical-align: middle;\n",
       "    }\n",
       "\n",
       "    .dataframe tbody tr th {\n",
       "        vertical-align: top;\n",
       "    }\n",
       "\n",
       "    .dataframe thead th {\n",
       "        text-align: right;\n",
       "    }\n",
       "</style>\n",
       "<table border=\"1\" class=\"dataframe\">\n",
       "  <thead>\n",
       "    <tr style=\"text-align: right;\">\n",
       "      <th></th>\n",
       "      <th>Ultimo aggiornamento</th>\n",
       "      <th>Capienza Regolamentare</th>\n",
       "      <th>Detenuti presenti - totale</th>\n",
       "      <th>Detenuti presenti - donne</th>\n",
       "      <th>Detenuti presenti - stranieri</th>\n",
       "    </tr>\n",
       "  </thead>\n",
       "  <tbody>\n",
       "    <tr>\n",
       "      <th>0</th>\n",
       "      <td>2019-01-31</td>\n",
       "      <td>50550</td>\n",
       "      <td>60125</td>\n",
       "      <td>2580</td>\n",
       "      <td>20309</td>\n",
       "    </tr>\n",
       "    <tr>\n",
       "      <th>1</th>\n",
       "      <td>2019-02-28</td>\n",
       "      <td>50522</td>\n",
       "      <td>60348</td>\n",
       "      <td>2623</td>\n",
       "      <td>20325</td>\n",
       "    </tr>\n",
       "    <tr>\n",
       "      <th>2</th>\n",
       "      <td>2019-03-31</td>\n",
       "      <td>50514</td>\n",
       "      <td>60611</td>\n",
       "      <td>2656</td>\n",
       "      <td>20412</td>\n",
       "    </tr>\n",
       "    <tr>\n",
       "      <th>3</th>\n",
       "      <td>2019-04-30</td>\n",
       "      <td>50511</td>\n",
       "      <td>60439</td>\n",
       "      <td>2659</td>\n",
       "      <td>20324</td>\n",
       "    </tr>\n",
       "    <tr>\n",
       "      <th>4</th>\n",
       "      <td>2019-05-31</td>\n",
       "      <td>50528</td>\n",
       "      <td>60476</td>\n",
       "      <td>2648</td>\n",
       "      <td>20277</td>\n",
       "    </tr>\n",
       "  </tbody>\n",
       "</table>\n",
       "</div>"
      ],
      "text/plain": [
       "  Ultimo aggiornamento  Capienza Regolamentare  Detenuti presenti - totale  \\\n",
       "0           2019-01-31                   50550                       60125   \n",
       "1           2019-02-28                   50522                       60348   \n",
       "2           2019-03-31                   50514                       60611   \n",
       "3           2019-04-30                   50511                       60439   \n",
       "4           2019-05-31                   50528                       60476   \n",
       "\n",
       "   Detenuti presenti - donne  Detenuti presenti - stranieri  \n",
       "0                       2580                          20309  \n",
       "1                       2623                          20325  \n",
       "2                       2656                          20412  \n",
       "3                       2659                          20324  \n",
       "4                       2648                          20277  "
      ]
     },
     "execution_count": 3,
     "metadata": {},
     "output_type": "execute_result"
    }
   ],
   "source": [
    "grouped_df = df.groupby('Ultimo aggiornamento').agg({\n",
    "    'Capienza Regolamentare': 'sum',\n",
    "    'Detenuti presenti - totale': 'sum',\n",
    "    'Detenuti presenti - donne': 'sum',\n",
    "    'Detenuti presenti - stranieri': 'sum'\n",
    "}).reset_index()\n",
    "grouped_df.head()"
   ]
  },
  {
   "cell_type": "code",
   "execution_count": 4,
   "metadata": {
    "execution": {
     "iopub.execute_input": "2025-09-15T05:07:34.482656Z",
     "iopub.status.busy": "2025-09-15T05:07:34.482373Z",
     "iopub.status.idle": "2025-09-15T05:07:34.491883Z",
     "shell.execute_reply": "2025-09-15T05:07:34.491216Z"
    }
   },
   "outputs": [
    {
     "data": {
      "text/html": [
       "<div>\n",
       "<style scoped>\n",
       "    .dataframe tbody tr th:only-of-type {\n",
       "        vertical-align: middle;\n",
       "    }\n",
       "\n",
       "    .dataframe tbody tr th {\n",
       "        vertical-align: top;\n",
       "    }\n",
       "\n",
       "    .dataframe thead th {\n",
       "        text-align: right;\n",
       "    }\n",
       "</style>\n",
       "<table border=\"1\" class=\"dataframe\">\n",
       "  <thead>\n",
       "    <tr style=\"text-align: right;\">\n",
       "      <th></th>\n",
       "      <th>Ultimo aggiornamento</th>\n",
       "      <th>Capienza Regolamentare</th>\n",
       "      <th>Detenuti presenti - totale</th>\n",
       "      <th>Detenuti presenti - donne</th>\n",
       "      <th>Detenuti presenti - stranieri</th>\n",
       "      <th>tasso_affollamento</th>\n",
       "    </tr>\n",
       "  </thead>\n",
       "  <tbody>\n",
       "    <tr>\n",
       "      <th>68</th>\n",
       "      <td>2024-09-30</td>\n",
       "      <td>51196</td>\n",
       "      <td>61862</td>\n",
       "      <td>2673</td>\n",
       "      <td>19577</td>\n",
       "      <td>120.8337</td>\n",
       "    </tr>\n",
       "    <tr>\n",
       "      <th>69</th>\n",
       "      <td>2024-10-31</td>\n",
       "      <td>102362</td>\n",
       "      <td>124220</td>\n",
       "      <td>5386</td>\n",
       "      <td>39584</td>\n",
       "      <td>121.3536</td>\n",
       "    </tr>\n",
       "    <tr>\n",
       "      <th>70</th>\n",
       "      <td>2024-11-30</td>\n",
       "      <td>51165</td>\n",
       "      <td>62427</td>\n",
       "      <td>2737</td>\n",
       "      <td>19953</td>\n",
       "      <td>122.0111</td>\n",
       "    </tr>\n",
       "    <tr>\n",
       "      <th>71</th>\n",
       "      <td>2024-12-31</td>\n",
       "      <td>51312</td>\n",
       "      <td>61861</td>\n",
       "      <td>2698</td>\n",
       "      <td>19694</td>\n",
       "      <td>120.5585</td>\n",
       "    </tr>\n",
       "    <tr>\n",
       "      <th>72</th>\n",
       "      <td>2025-01-31</td>\n",
       "      <td>51300</td>\n",
       "      <td>61916</td>\n",
       "      <td>2718</td>\n",
       "      <td>19622</td>\n",
       "      <td>120.6940</td>\n",
       "    </tr>\n",
       "  </tbody>\n",
       "</table>\n",
       "</div>"
      ],
      "text/plain": [
       "   Ultimo aggiornamento  Capienza Regolamentare  Detenuti presenti - totale  \\\n",
       "68           2024-09-30                   51196                       61862   \n",
       "69           2024-10-31                  102362                      124220   \n",
       "70           2024-11-30                   51165                       62427   \n",
       "71           2024-12-31                   51312                       61861   \n",
       "72           2025-01-31                   51300                       61916   \n",
       "\n",
       "    Detenuti presenti - donne  Detenuti presenti - stranieri  \\\n",
       "68                       2673                          19577   \n",
       "69                       5386                          39584   \n",
       "70                       2737                          19953   \n",
       "71                       2698                          19694   \n",
       "72                       2718                          19622   \n",
       "\n",
       "    tasso_affollamento  \n",
       "68            120.8337  \n",
       "69            121.3536  \n",
       "70            122.0111  \n",
       "71            120.5585  \n",
       "72            120.6940  "
      ]
     },
     "execution_count": 4,
     "metadata": {},
     "output_type": "execute_result"
    }
   ],
   "source": [
    "grouped_df['tasso_affollamento'] = round((grouped_df['Detenuti presenti - totale'] / grouped_df['Capienza Regolamentare']) * 100, 4).astype(float)\n",
    "\n",
    "grouped_df.tail()"
   ]
  },
  {
   "cell_type": "code",
   "execution_count": 5,
   "metadata": {
    "execution": {
     "iopub.execute_input": "2025-09-15T05:07:34.493793Z",
     "iopub.status.busy": "2025-09-15T05:07:34.493605Z",
     "iopub.status.idle": "2025-09-15T05:07:34.498055Z",
     "shell.execute_reply": "2025-09-15T05:07:34.497364Z"
    }
   },
   "outputs": [],
   "source": [
    "grouped_df.to_csv('../outputs/viz/bulletines_totals.csv', index=False, encoding='UTF-8')"
   ]
  }
 ],
 "metadata": {
  "kernelspec": {
   "display_name": "Python 3",
   "language": "python",
   "name": "python3"
  },
  "language_info": {
   "codemirror_mode": {
    "name": "ipython",
    "version": 3
   },
   "file_extension": ".py",
   "mimetype": "text/x-python",
   "name": "python",
   "nbconvert_exporter": "python",
   "pygments_lexer": "ipython3",
   "version": "3.10.18"
  }
 },
 "nbformat": 4,
 "nbformat_minor": 2
}

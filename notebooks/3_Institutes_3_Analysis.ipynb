{
 "cells": [
  {
   "cell_type": "code",
   "execution_count": null,
   "metadata": {},
   "outputs": [],
   "source": [
    "import pandas as pd\n",
    "import numpy as np"
   ]
  },
  {
   "cell_type": "markdown",
   "metadata": {},
   "source": [
    "## Institutes"
   ]
  },
  {
   "cell_type": "code",
   "execution_count": null,
   "metadata": {},
   "outputs": [],
   "source": [
    "df = pd.read_csv('../outputs/clean/institutes.csv')\n",
    "df = df.drop_duplicates()\n",
    "df.head()"
   ]
  },
  {
   "cell_type": "markdown",
   "metadata": {},
   "source": [
    "## Most recent data"
   ]
  },
  {
   "cell_type": "code",
   "execution_count": null,
   "metadata": {},
   "outputs": [],
   "source": [
    "# Get the most recent update\n",
    "df['dati aggiornati al'] = pd.to_datetime(df['dati aggiornati al'], format='%Y-%m-%d')\n",
    "df_most_recent = df.loc[df.groupby('id istituto')['dati aggiornati al'].idxmax()]\n",
    "\n",
    "# Adding columns for places available and overcrowding index\n",
    "df_most_recent['posti disponibili'] = df_most_recent['posti regolamentari'] - df_most_recent['posti non disponibili']\n",
    "df_most_recent['tasso di affollamento'] = round(((df_most_recent['totale detenuti'] / df_most_recent['posti disponibili'])*100),0)"
   ]
  },
  {
   "cell_type": "code",
   "execution_count": null,
   "metadata": {},
   "outputs": [],
   "source": [
    "df_most_recent.value_counts(['dati aggiornati al'])"
   ]
  },
  {
   "cell_type": "code",
   "execution_count": null,
   "metadata": {},
   "outputs": [],
   "source": [
    "df_most_recent.columns"
   ]
  },
  {
   "cell_type": "code",
   "execution_count": null,
   "metadata": {},
   "outputs": [],
   "source": [
    "# Adding institutes' information for mapping the institutes\n",
    "# Read institutes' csv\n",
    "\n",
    "df_info = pd.read_csv('../outputs/clean/institutes_info.csv')\n",
    "df_info = df_info.rename(columns={'id_istituto': 'id istituto'})\n",
    "\n",
    "merged_df = pd.merge(df_most_recent, df_info, on='id istituto')\n",
    "\n",
    "# Adding additional columns\n",
    "merged_df['posti disponibili'] = merged_df['posti regolamentari'] - merged_df['posti non disponibili']\n",
    "\n",
    "merged_df['tasso di affollamento'] = round((merged_df['totale detenuti'] / merged_df['posti disponibili']) * 100, 0)\n",
    "\n",
    "\n",
    "# Keep only relevant columns\n",
    "df_filtered = merged_df[\n",
    "  [\n",
    "    'id istituto',\n",
    "    'nome istituto',\n",
    "    'tasso di affollamento',\n",
    "    'indirizzo',\n",
    "    'tipo istituto',\n",
    "   'posti regolamentari',\n",
    "    'posti non disponibili',\n",
    "    'posti disponibili',\n",
    "    'totale detenuti',\n",
    "    'dati aggiornati al',\n",
    "    'polizia penitenziaria - previsti',\n",
    "    'polizia penitenziaria - effettivi',\n",
    "    'personale polizia penitenziaria aggiornato al',\n",
    "    'amministrativi - effettivi',\n",
    "    'amministrativi - previsti',\n",
    "    'personale amministrativo aggiornato al',\n",
    "    'numero complessivo',\n",
    "    'numero non disponibili',\n",
    "    'doccia',\n",
    "    'bidet',\n",
    "    'portatori di handicap',\n",
    "    'servizi igienici con porta',\n",
    "    'accensione luce autonoma',\n",
    "    'prese elettriche',\n",
    "    'data di aggiornamento spazi detentivi',\n",
    "    'latitudine',\n",
    "    'longitude'\n",
    "    ]\n",
    "    ]\n",
    "\n",
    "df_filtered.head(2)"
   ]
  },
  {
   "cell_type": "code",
   "execution_count": null,
   "metadata": {},
   "outputs": [],
   "source": [
    "df_filtered['scheda istituto'] = '<a href=\"https://www.giustizia.it/giustizia/page/it/dettaglio_scheda_istituto_penitenziario?s=' + df_filtered['id istituto'] + '\">Vai alla scheda istituto</a>'\n",
    "\n",
    "\n",
    "df_filtered.head()"
   ]
  },
  {
   "cell_type": "code",
   "execution_count": 29,
   "metadata": {},
   "outputs": [],
   "source": [
    "# Create a copy first to avoid the warning\n",
    "df_filtered = df_filtered.copy()\n",
    "\n",
    "# Calculate metrics using loc for proper assignment\n",
    "df_filtered.loc[:, 'stanze_disponibili'] = df_filtered['numero complessivo'] - df_filtered['numero non disponibili']\n",
    "\n",
    "# Create list of columns to process\n",
    "metrics = {\n",
    "    'detenuti_stanza': lambda x: (x['totale detenuti'] / x['stanze_disponibili']).round(2),\n",
    "    'polizia_pers': lambda x:  (x['totale detenuti'] / x['polizia penitenziaria - effettivi']).round(2),\n",
    "    'doccia_pers': lambda x:  (x['totale detenuti'] / x['doccia']).round(2),\n",
    "    'bidet_pers': lambda x:  (x['totale detenuti'] / x['bidet']).round(2),\n",
    "    'servizi_pers': lambda x:  (x['totale detenuti'] / x['servizi igienici con porta']).round(2),\n",
    "    'luci_pers': lambda x:  (x['totale detenuti'] / x['accensione luce autonoma']).round(2),\n",
    "    'prese_pers': lambda x: (x['totale detenuti'] / x['prese elettriche']).round(2)\n",
    "}\n",
    "\n",
    "# Apply calculations\n",
    "for col, func in metrics.items():\n",
    "    df_filtered.loc[:, col] = func(df_filtered).replace([np.inf, -np.inf], np.nan)"
   ]
  },
  {
   "cell_type": "code",
   "execution_count": 30,
   "metadata": {},
   "outputs": [
    {
     "data": {
      "text/html": [
       "<div>\n",
       "<style scoped>\n",
       "    .dataframe tbody tr th:only-of-type {\n",
       "        vertical-align: middle;\n",
       "    }\n",
       "\n",
       "    .dataframe tbody tr th {\n",
       "        vertical-align: top;\n",
       "    }\n",
       "\n",
       "    .dataframe thead th {\n",
       "        text-align: right;\n",
       "    }\n",
       "</style>\n",
       "<table border=\"1\" class=\"dataframe\">\n",
       "  <thead>\n",
       "    <tr style=\"text-align: right;\">\n",
       "      <th></th>\n",
       "      <th>id istituto</th>\n",
       "      <th>nome istituto</th>\n",
       "      <th>tasso di affollamento</th>\n",
       "      <th>indirizzo</th>\n",
       "      <th>tipo istituto</th>\n",
       "      <th>posti regolamentari</th>\n",
       "      <th>posti non disponibili</th>\n",
       "      <th>posti disponibili</th>\n",
       "      <th>totale detenuti</th>\n",
       "      <th>dati aggiornati al</th>\n",
       "      <th>...</th>\n",
       "      <th>longitude</th>\n",
       "      <th>scheda istituto</th>\n",
       "      <th>stanze_disponibili</th>\n",
       "      <th>detenuti_stanza</th>\n",
       "      <th>polizia_pers</th>\n",
       "      <th>doccia_pers</th>\n",
       "      <th>bidet_pers</th>\n",
       "      <th>servizi_pers</th>\n",
       "      <th>luci_pers</th>\n",
       "      <th>prese_pers</th>\n",
       "    </tr>\n",
       "  </thead>\n",
       "  <tbody>\n",
       "    <tr>\n",
       "      <th>180</th>\n",
       "      <td>MII181880</td>\n",
       "      <td>Vercelli</td>\n",
       "      <td>168.0</td>\n",
       "      <td>Strada Vicinale del Rollone n.19 - 13100 Vercelli</td>\n",
       "      <td>Casa circondariale</td>\n",
       "      <td>230</td>\n",
       "      <td>43</td>\n",
       "      <td>187</td>\n",
       "      <td>315</td>\n",
       "      <td>2024-11-12</td>\n",
       "      <td>...</td>\n",
       "      <td>8.429095</td>\n",
       "      <td>&lt;a href=\"https://www.giustizia.it/giustizia/pa...</td>\n",
       "      <td>159.0</td>\n",
       "      <td>1.98</td>\n",
       "      <td>2.02</td>\n",
       "      <td>22.50</td>\n",
       "      <td>16.58</td>\n",
       "      <td>1.63</td>\n",
       "      <td>1.63</td>\n",
       "      <td>1.63</td>\n",
       "    </tr>\n",
       "    <tr>\n",
       "      <th>27</th>\n",
       "      <td>MII172508</td>\n",
       "      <td>Bologna</td>\n",
       "      <td>175.0</td>\n",
       "      <td>Via del Gomito n. 2 - 40127 Bologna</td>\n",
       "      <td>Casa circondariale - Rocco D'Amato</td>\n",
       "      <td>503</td>\n",
       "      <td>23</td>\n",
       "      <td>480</td>\n",
       "      <td>842</td>\n",
       "      <td>2024-11-12</td>\n",
       "      <td>...</td>\n",
       "      <td>11.343035</td>\n",
       "      <td>&lt;a href=\"https://www.giustizia.it/giustizia/pa...</td>\n",
       "      <td>438.0</td>\n",
       "      <td>1.92</td>\n",
       "      <td>1.93</td>\n",
       "      <td>6.48</td>\n",
       "      <td>14.52</td>\n",
       "      <td>1.89</td>\n",
       "      <td>9.46</td>\n",
       "      <td>56.13</td>\n",
       "    </tr>\n",
       "    <tr>\n",
       "      <th>19</th>\n",
       "      <td>MII172011</td>\n",
       "      <td>Avellino</td>\n",
       "      <td>109.0</td>\n",
       "      <td>Frazione Bellizzi Irpino - Contrada Sant'Oronz...</td>\n",
       "      <td>Casa circondariale - Antimo Graziano Bellizzi</td>\n",
       "      <td>500</td>\n",
       "      <td>24</td>\n",
       "      <td>476</td>\n",
       "      <td>521</td>\n",
       "      <td>2024-11-12</td>\n",
       "      <td>...</td>\n",
       "      <td>14.788876</td>\n",
       "      <td>&lt;a href=\"https://www.giustizia.it/giustizia/pa...</td>\n",
       "      <td>199.0</td>\n",
       "      <td>2.62</td>\n",
       "      <td>1.79</td>\n",
       "      <td>2.79</td>\n",
       "      <td>8.54</td>\n",
       "      <td>2.48</td>\n",
       "      <td>6.35</td>\n",
       "      <td>6.20</td>\n",
       "    </tr>\n",
       "    <tr>\n",
       "      <th>166</th>\n",
       "      <td>MII181625</td>\n",
       "      <td>Trapani</td>\n",
       "      <td>108.0</td>\n",
       "      <td>Via Madonna di Fatima n.222 - 91016 Trapani</td>\n",
       "      <td>Casa circondariale - Pietro Cerulli</td>\n",
       "      <td>555</td>\n",
       "      <td>58</td>\n",
       "      <td>497</td>\n",
       "      <td>539</td>\n",
       "      <td>2024-11-12</td>\n",
       "      <td>...</td>\n",
       "      <td>12.543748</td>\n",
       "      <td>&lt;a href=\"https://www.giustizia.it/giustizia/pa...</td>\n",
       "      <td>201.0</td>\n",
       "      <td>2.68</td>\n",
       "      <td>2.23</td>\n",
       "      <td>3.39</td>\n",
       "      <td>7.59</td>\n",
       "      <td>2.63</td>\n",
       "      <td>3.27</td>\n",
       "      <td>2.88</td>\n",
       "    </tr>\n",
       "  </tbody>\n",
       "</table>\n",
       "<p>4 rows × 36 columns</p>\n",
       "</div>"
      ],
      "text/plain": [
       "    id istituto nome istituto  tasso di affollamento  \\\n",
       "180   MII181880      Vercelli                  168.0   \n",
       "27    MII172508       Bologna                  175.0   \n",
       "19    MII172011      Avellino                  109.0   \n",
       "166   MII181625       Trapani                  108.0   \n",
       "\n",
       "                                             indirizzo  \\\n",
       "180  Strada Vicinale del Rollone n.19 - 13100 Vercelli   \n",
       "27                 Via del Gomito n. 2 - 40127 Bologna   \n",
       "19   Frazione Bellizzi Irpino - Contrada Sant'Oronz...   \n",
       "166        Via Madonna di Fatima n.222 - 91016 Trapani   \n",
       "\n",
       "                                     tipo istituto  posti regolamentari  \\\n",
       "180                             Casa circondariale                  230   \n",
       "27              Casa circondariale - Rocco D'Amato                  503   \n",
       "19   Casa circondariale - Antimo Graziano Bellizzi                  500   \n",
       "166            Casa circondariale - Pietro Cerulli                  555   \n",
       "\n",
       "     posti non disponibili  posti disponibili  totale detenuti  \\\n",
       "180                     43                187              315   \n",
       "27                      23                480              842   \n",
       "19                      24                476              521   \n",
       "166                     58                497              539   \n",
       "\n",
       "    dati aggiornati al  ...  longitude  \\\n",
       "180         2024-11-12  ...   8.429095   \n",
       "27          2024-11-12  ...  11.343035   \n",
       "19          2024-11-12  ...  14.788876   \n",
       "166         2024-11-12  ...  12.543748   \n",
       "\n",
       "                                       scheda istituto stanze_disponibili  \\\n",
       "180  <a href=\"https://www.giustizia.it/giustizia/pa...              159.0   \n",
       "27   <a href=\"https://www.giustizia.it/giustizia/pa...              438.0   \n",
       "19   <a href=\"https://www.giustizia.it/giustizia/pa...              199.0   \n",
       "166  <a href=\"https://www.giustizia.it/giustizia/pa...              201.0   \n",
       "\n",
       "     detenuti_stanza  polizia_pers doccia_pers  bidet_pers  servizi_pers  \\\n",
       "180             1.98          2.02       22.50       16.58          1.63   \n",
       "27              1.92          1.93        6.48       14.52          1.89   \n",
       "19              2.62          1.79        2.79        8.54          2.48   \n",
       "166             2.68          2.23        3.39        7.59          2.63   \n",
       "\n",
       "     luci_pers  prese_pers  \n",
       "180       1.63        1.63  \n",
       "27        9.46       56.13  \n",
       "19        6.35        6.20  \n",
       "166       3.27        2.88  \n",
       "\n",
       "[4 rows x 36 columns]"
      ]
     },
     "execution_count": 30,
     "metadata": {},
     "output_type": "execute_result"
    }
   ],
   "source": [
    "df_filtered.sample(4)"
   ]
  },
  {
   "cell_type": "code",
   "execution_count": 31,
   "metadata": {},
   "outputs": [],
   "source": [
    "# Saving csv\n",
    "df_filtered.to_csv('../outputs/viz/institutes_most_recent.csv', index=False, encoding='UTF-8-sig')"
   ]
  },
  {
   "cell_type": "markdown",
   "metadata": {},
   "source": [
    "## 1. Totals"
   ]
  },
  {
   "cell_type": "code",
   "execution_count": null,
   "metadata": {},
   "outputs": [],
   "source": [
    "grouped_df = df.groupby('dati aggiornati al').sum(numeric_only=True).reset_index()\n",
    "grouped_df"
   ]
  },
  {
   "cell_type": "code",
   "execution_count": null,
   "metadata": {},
   "outputs": [],
   "source": [
    "grouped_df['posti disponibili'] = (grouped_df['posti regolamentari'] - grouped_df['posti non disponibili']).round(0)\n",
    "grouped_df['tasso di affollamento'] = (grouped_df['totale detenuti'] / grouped_df['posti disponibili'] * 100).round(4).astype(float)\n",
    "\n",
    "grouped_df.head()\n"
   ]
  },
  {
   "cell_type": "code",
   "execution_count": null,
   "metadata": {},
   "outputs": [],
   "source": [
    "grouped_df = grouped_df[['dati aggiornati al', 'posti regolamentari', 'posti non disponibili', 'posti disponibili', 'totale detenuti', 'tasso di affollamento']]\n",
    "# grouped_df['posti disponibili'] = grouped_df['posti regolamentari'] - grouped_df['posti non disponibili']\n",
    "# grouped_df['tasso_affollamento'] = round((grouped_df['posti_occupati'] / grouped_df['posti_disponibili'])*100,4).astype(float)\n",
    "grouped_df.head()\n"
   ]
  },
  {
   "cell_type": "code",
   "execution_count": null,
   "metadata": {},
   "outputs": [],
   "source": [
    "grouped_df.tail(2)"
   ]
  },
  {
   "cell_type": "code",
   "execution_count": null,
   "metadata": {},
   "outputs": [],
   "source": [
    "grouped_df.to_csv('../outputs/viz/institutes_totals.csv', index=False)"
   ]
  },
  {
   "cell_type": "markdown",
   "metadata": {},
   "source": [
    "## Personale"
   ]
  },
  {
   "cell_type": "code",
   "execution_count": null,
   "metadata": {},
   "outputs": [],
   "source": [
    "df = pd.read_csv('../outputs/viz/institutes_most_recent.csv')\n",
    "df.columns"
   ]
  },
  {
   "cell_type": "code",
   "execution_count": null,
   "metadata": {},
   "outputs": [],
   "source": [
    "df = pd.read_csv('../outputs/viz/institutes_most_recent.csv')\n",
    "\n",
    "\n",
    "df_polizia = df[['nome istituto', 'totale detenuti', 'tasso di affollamento', 'polizia penitenziaria - previsti', 'polizia penitenziaria - effettivi', 'personale polizia penitenziaria aggiornato al', 'dati aggiornati al']]\n",
    "\n",
    "df_polizia['polizia penitenziaria - mancante'] = df_polizia['polizia penitenziaria - previsti'] - df_polizia['polizia penitenziaria - effettivi']\n",
    "\n",
    "df_polizia.head(2)"
   ]
  },
  {
   "cell_type": "code",
   "execution_count": null,
   "metadata": {},
   "outputs": [],
   "source": [
    "df_polizia['polizia penitenziaria - mancante percentuale'] = round(df_polizia['polizia penitenziaria - mancante'] / df_polizia['polizia penitenziaria - previsti']*100,2)\n",
    "df_polizia.head(2)\n"
   ]
  },
  {
   "cell_type": "code",
   "execution_count": null,
   "metadata": {},
   "outputs": [],
   "source": [
    "df_polizia_clean = df_polizia[df_polizia['totale detenuti'] != 0]\n",
    "df_polizia_clean.sort_values('polizia penitenziaria - mancante percentuale', ascending=False).head(2)"
   ]
  },
  {
   "cell_type": "code",
   "execution_count": null,
   "metadata": {},
   "outputs": [],
   "source": [
    "critical_prisons = df_polizia_clean[(df_polizia_clean['tasso di affollamento'] > 120) & (df_polizia_clean['polizia penitenziaria - mancante percentuale'] > 20)].reset_index(drop=True)\n",
    "critical_prisons"
   ]
  },
  {
   "cell_type": "code",
   "execution_count": null,
   "metadata": {},
   "outputs": [],
   "source": [
    "critical_prisons.to_csv('../outputs/viz/institutes_critical.csv', index=False, encoding='UTF-8-sig')"
   ]
  },
  {
   "cell_type": "markdown",
   "metadata": {},
   "source": [
    "### Tasso Reale"
   ]
  },
  {
   "cell_type": "code",
   "execution_count": null,
   "metadata": {},
   "outputs": [],
   "source": [
    "df1 = pd.read_csv('../outputs/viz/bulletines_totals.csv')\n",
    "df2 = pd.read_csv('../outputs/viz/institutes_totals.csv')"
   ]
  },
  {
   "cell_type": "code",
   "execution_count": null,
   "metadata": {},
   "outputs": [],
   "source": [
    "df2.tail(2)"
   ]
  },
  {
   "cell_type": "code",
   "execution_count": null,
   "metadata": {},
   "outputs": [],
   "source": [
    "# Renaming columns for clarity and merging on a unified date column\n",
    "df1.rename(columns={'Ultimo aggiornamento': 'Date', 'tasso_affollamento': 'tasso_affollamento_ufficiale'}, inplace=True)\n",
    "df2.rename(columns={'dati aggiornati al': 'Date', 'tasso di affollamento': 'tasso_affollamento_reale'}, inplace=True)"
   ]
  },
  {
   "cell_type": "code",
   "execution_count": null,
   "metadata": {},
   "outputs": [],
   "source": [
    "# Converting the Date columns to datetime for consistency\n",
    "df1['Date'] = pd.to_datetime(df1['Date'])\n",
    "df2['Date'] = pd.to_datetime(df2['Date'])"
   ]
  },
  {
   "cell_type": "code",
   "execution_count": null,
   "metadata": {},
   "outputs": [],
   "source": [
    "df2.tail(2)"
   ]
  },
  {
   "cell_type": "code",
   "execution_count": null,
   "metadata": {},
   "outputs": [],
   "source": [
    "merged_df = pd.merge(df1[['Date', 'tasso_affollamento_ufficiale']], \n",
    "                     df2[['Date', 'tasso_affollamento_reale']], \n",
    "                     on='Date', \n",
    "                     how='outer')\n",
    "merged_df.sort_values(by='Date', inplace=True)\n",
    "\n",
    "merged_df.tail(2)"
   ]
  },
  {
   "cell_type": "code",
   "execution_count": null,
   "metadata": {},
   "outputs": [],
   "source": [
    "filtered_df = merged_df[merged_df['Date'] > '2024-08-01']\n",
    "filtered_df.tail(2)\n"
   ]
  },
  {
   "cell_type": "code",
   "execution_count": null,
   "metadata": {},
   "outputs": [],
   "source": [
    "# Apply linear interpolation for missing values\n",
    "filtered_df['tasso_affollamento_ufficiale (interpolated)'] = round((filtered_df['tasso_affollamento_ufficiale'].interpolate(method='linear')),4)\n",
    "filtered_df['tasso_affollamento_reale (interpolated)'] = round((filtered_df['tasso_affollamento_reale'].interpolate(method='linear')),4)\n",
    "\n",
    "filtered_df.tail(2)\n"
   ]
  },
  {
   "cell_type": "code",
   "execution_count": null,
   "metadata": {},
   "outputs": [],
   "source": [
    "filtered_df.to_csv('../outputs/viz/tasso_affollamento.csv', index=False)"
   ]
  },
  {
   "cell_type": "code",
   "execution_count": null,
   "metadata": {},
   "outputs": [],
   "source": [
    "df_reale = filtered_df[['Date', 'tasso_affollamento_reale']]\n",
    "df_reale = df_reale[df_reale['tasso_affollamento_reale'].notna()]\n",
    "df_reale.head(2)"
   ]
  },
  {
   "cell_type": "code",
   "execution_count": null,
   "metadata": {},
   "outputs": [],
   "source": [
    "df_reale.to_csv('../outputs/viz/tasso_reale.csv', index=False)"
   ]
  }
 ],
 "metadata": {
  "kernelspec": {
   "display_name": "Python 3",
   "language": "python",
   "name": "python3"
  },
  "language_info": {
   "codemirror_mode": {
    "name": "ipython",
    "version": 3
   },
   "file_extension": ".py",
   "mimetype": "text/x-python",
   "name": "python",
   "nbconvert_exporter": "python",
   "pygments_lexer": "ipython3",
   "version": "3.10.11"
  }
 },
 "nbformat": 4,
 "nbformat_minor": 2
}

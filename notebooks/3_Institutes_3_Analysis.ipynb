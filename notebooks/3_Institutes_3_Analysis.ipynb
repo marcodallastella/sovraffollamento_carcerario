{
 "cells": [
  {
   "cell_type": "code",
   "execution_count": 27,
   "metadata": {},
   "outputs": [],
   "source": [
    "import pandas as pd"
   ]
  },
  {
   "cell_type": "markdown",
   "metadata": {},
   "source": [
    "## Institutes"
   ]
  },
  {
   "cell_type": "code",
   "execution_count": 28,
   "metadata": {},
   "outputs": [
    {
     "data": {
      "text/html": [
       "<div>\n",
       "<style scoped>\n",
       "    .dataframe tbody tr th:only-of-type {\n",
       "        vertical-align: middle;\n",
       "    }\n",
       "\n",
       "    .dataframe tbody tr th {\n",
       "        vertical-align: top;\n",
       "    }\n",
       "\n",
       "    .dataframe thead th {\n",
       "        text-align: right;\n",
       "    }\n",
       "</style>\n",
       "<table border=\"1\" class=\"dataframe\">\n",
       "  <thead>\n",
       "    <tr style=\"text-align: right;\">\n",
       "      <th></th>\n",
       "      <th>id istituto</th>\n",
       "      <th>nome istituto</th>\n",
       "      <th>tipo istituto</th>\n",
       "      <th>posti regolamentari</th>\n",
       "      <th>posti non disponibili</th>\n",
       "      <th>totale detenuti</th>\n",
       "      <th>polizia penitenziaria - effettivi</th>\n",
       "      <th>polizia penitenziaria - previsti</th>\n",
       "      <th>amministrativi - effettivi</th>\n",
       "      <th>amministrativi - previsti</th>\n",
       "      <th>...</th>\n",
       "      <th>doccia</th>\n",
       "      <th>bidet</th>\n",
       "      <th>portatori di handicap</th>\n",
       "      <th>servizi igienici con porta</th>\n",
       "      <th>accensione luce autonoma</th>\n",
       "      <th>prese elettriche</th>\n",
       "      <th>dati aggiornati al</th>\n",
       "      <th>personale polizia penitenziaria aggiornato al</th>\n",
       "      <th>personale amministrativo aggiornato al</th>\n",
       "      <th>data di aggiornamento spazi detentivi</th>\n",
       "    </tr>\n",
       "  </thead>\n",
       "  <tbody>\n",
       "    <tr>\n",
       "      <th>0</th>\n",
       "      <td>MII179988</td>\n",
       "      <td>Reggio Calabria Arghillà</td>\n",
       "      <td>Casa circondariale</td>\n",
       "      <td>294</td>\n",
       "      <td>1</td>\n",
       "      <td>326</td>\n",
       "      <td>135</td>\n",
       "      <td>164</td>\n",
       "      <td>12</td>\n",
       "      <td>32</td>\n",
       "      <td>...</td>\n",
       "      <td>85.0</td>\n",
       "      <td>0.0</td>\n",
       "      <td>3.0</td>\n",
       "      <td>85.0</td>\n",
       "      <td>85.0</td>\n",
       "      <td>85.0</td>\n",
       "      <td>2024-10-20</td>\n",
       "      <td>2024-09-30</td>\n",
       "      <td>2024-09-30</td>\n",
       "      <td>2024-10-20</td>\n",
       "    </tr>\n",
       "    <tr>\n",
       "      <th>1</th>\n",
       "      <td>MII172610</td>\n",
       "      <td>Brescia Verziano</td>\n",
       "      <td>Casa di reclusione</td>\n",
       "      <td>71</td>\n",
       "      <td>1</td>\n",
       "      <td>115</td>\n",
       "      <td>77</td>\n",
       "      <td>95</td>\n",
       "      <td>2</td>\n",
       "      <td>0</td>\n",
       "      <td>...</td>\n",
       "      <td>71.0</td>\n",
       "      <td>0.0</td>\n",
       "      <td>0.0</td>\n",
       "      <td>71.0</td>\n",
       "      <td>10.0</td>\n",
       "      <td>71.0</td>\n",
       "      <td>2024-10-20</td>\n",
       "      <td>2024-09-30</td>\n",
       "      <td>2024-09-30</td>\n",
       "      <td>2024-10-20</td>\n",
       "    </tr>\n",
       "    <tr>\n",
       "      <th>2</th>\n",
       "      <td>MII172320</td>\n",
       "      <td>Busto Arsizio</td>\n",
       "      <td>Casa circondariale</td>\n",
       "      <td>240</td>\n",
       "      <td>14</td>\n",
       "      <td>438</td>\n",
       "      <td>184</td>\n",
       "      <td>190</td>\n",
       "      <td>15</td>\n",
       "      <td>21</td>\n",
       "      <td>...</td>\n",
       "      <td>154.0</td>\n",
       "      <td>170.0</td>\n",
       "      <td>0.0</td>\n",
       "      <td>177.0</td>\n",
       "      <td>177.0</td>\n",
       "      <td>176.0</td>\n",
       "      <td>2024-10-20</td>\n",
       "      <td>2024-09-30</td>\n",
       "      <td>2024-09-30</td>\n",
       "      <td>2024-10-20</td>\n",
       "    </tr>\n",
       "    <tr>\n",
       "      <th>3</th>\n",
       "      <td>MII173712</td>\n",
       "      <td>Como</td>\n",
       "      <td>Casa circondariale</td>\n",
       "      <td>226</td>\n",
       "      <td>1</td>\n",
       "      <td>430</td>\n",
       "      <td>198</td>\n",
       "      <td>216</td>\n",
       "      <td>17</td>\n",
       "      <td>23</td>\n",
       "      <td>...</td>\n",
       "      <td>55.0</td>\n",
       "      <td>177.0</td>\n",
       "      <td>0.0</td>\n",
       "      <td>200.0</td>\n",
       "      <td>4.0</td>\n",
       "      <td>4.0</td>\n",
       "      <td>2024-10-20</td>\n",
       "      <td>2024-09-30</td>\n",
       "      <td>2024-09-30</td>\n",
       "      <td>2024-10-20</td>\n",
       "    </tr>\n",
       "    <tr>\n",
       "      <th>4</th>\n",
       "      <td>MII173747</td>\n",
       "      <td>Cremona</td>\n",
       "      <td>Casa circondariale</td>\n",
       "      <td>394</td>\n",
       "      <td>10</td>\n",
       "      <td>599</td>\n",
       "      <td>177</td>\n",
       "      <td>202</td>\n",
       "      <td>17</td>\n",
       "      <td>23</td>\n",
       "      <td>...</td>\n",
       "      <td>68.0</td>\n",
       "      <td>216.0</td>\n",
       "      <td>4.0</td>\n",
       "      <td>252.0</td>\n",
       "      <td>77.0</td>\n",
       "      <td>77.0</td>\n",
       "      <td>2024-10-20</td>\n",
       "      <td>2024-09-30</td>\n",
       "      <td>2024-09-30</td>\n",
       "      <td>2024-10-20</td>\n",
       "    </tr>\n",
       "  </tbody>\n",
       "</table>\n",
       "<p>5 rows × 24 columns</p>\n",
       "</div>"
      ],
      "text/plain": [
       "  id istituto             nome istituto       tipo istituto  \\\n",
       "0   MII179988  Reggio Calabria Arghillà  Casa circondariale   \n",
       "1   MII172610          Brescia Verziano  Casa di reclusione   \n",
       "2   MII172320             Busto Arsizio  Casa circondariale   \n",
       "3   MII173712                      Como  Casa circondariale   \n",
       "4   MII173747                   Cremona  Casa circondariale   \n",
       "\n",
       "   posti regolamentari  posti non disponibili  totale detenuti  \\\n",
       "0                  294                      1              326   \n",
       "1                   71                      1              115   \n",
       "2                  240                     14              438   \n",
       "3                  226                      1              430   \n",
       "4                  394                     10              599   \n",
       "\n",
       "   polizia penitenziaria - effettivi  polizia penitenziaria - previsti  \\\n",
       "0                                135                               164   \n",
       "1                                 77                                95   \n",
       "2                                184                               190   \n",
       "3                                198                               216   \n",
       "4                                177                               202   \n",
       "\n",
       "   amministrativi - effettivi  amministrativi - previsti  ...  doccia  bidet  \\\n",
       "0                          12                         32  ...    85.0    0.0   \n",
       "1                           2                          0  ...    71.0    0.0   \n",
       "2                          15                         21  ...   154.0  170.0   \n",
       "3                          17                         23  ...    55.0  177.0   \n",
       "4                          17                         23  ...    68.0  216.0   \n",
       "\n",
       "   portatori di handicap  servizi igienici con porta  \\\n",
       "0                    3.0                        85.0   \n",
       "1                    0.0                        71.0   \n",
       "2                    0.0                       177.0   \n",
       "3                    0.0                       200.0   \n",
       "4                    4.0                       252.0   \n",
       "\n",
       "   accensione luce autonoma  prese elettriche  dati aggiornati al  \\\n",
       "0                      85.0              85.0          2024-10-20   \n",
       "1                      10.0              71.0          2024-10-20   \n",
       "2                     177.0             176.0          2024-10-20   \n",
       "3                       4.0               4.0          2024-10-20   \n",
       "4                      77.0              77.0          2024-10-20   \n",
       "\n",
       "   personale polizia penitenziaria aggiornato al  \\\n",
       "0                                     2024-09-30   \n",
       "1                                     2024-09-30   \n",
       "2                                     2024-09-30   \n",
       "3                                     2024-09-30   \n",
       "4                                     2024-09-30   \n",
       "\n",
       "   personale amministrativo aggiornato al  \\\n",
       "0                              2024-09-30   \n",
       "1                              2024-09-30   \n",
       "2                              2024-09-30   \n",
       "3                              2024-09-30   \n",
       "4                              2024-09-30   \n",
       "\n",
       "   data di aggiornamento spazi detentivi  \n",
       "0                             2024-10-20  \n",
       "1                             2024-10-20  \n",
       "2                             2024-10-20  \n",
       "3                             2024-10-20  \n",
       "4                             2024-10-20  \n",
       "\n",
       "[5 rows x 24 columns]"
      ]
     },
     "execution_count": 28,
     "metadata": {},
     "output_type": "execute_result"
    }
   ],
   "source": [
    "df = pd.read_csv('../outputs/clean/institutes.csv')\n",
    "df.head()"
   ]
  },
  {
   "cell_type": "markdown",
   "metadata": {},
   "source": [
    "## Most recent data"
   ]
  },
  {
   "cell_type": "code",
   "execution_count": 29,
   "metadata": {},
   "outputs": [
    {
     "ename": "KeyError",
     "evalue": "'posti_aggiornati_al'",
     "output_type": "error",
     "traceback": [
      "\u001b[0;31m---------------------------------------------------------------------------\u001b[0m",
      "\u001b[0;31mKeyError\u001b[0m                                  Traceback (most recent call last)",
      "File \u001b[0;32m~/.pyenv/versions/3.10.11/lib/python3.10/site-packages/pandas/core/indexes/base.py:3802\u001b[0m, in \u001b[0;36mIndex.get_loc\u001b[0;34m(self, key, method, tolerance)\u001b[0m\n\u001b[1;32m   3801\u001b[0m \u001b[38;5;28;01mtry\u001b[39;00m:\n\u001b[0;32m-> 3802\u001b[0m     \u001b[38;5;28;01mreturn\u001b[39;00m \u001b[38;5;28;43mself\u001b[39;49m\u001b[38;5;241;43m.\u001b[39;49m\u001b[43m_engine\u001b[49m\u001b[38;5;241;43m.\u001b[39;49m\u001b[43mget_loc\u001b[49m\u001b[43m(\u001b[49m\u001b[43mcasted_key\u001b[49m\u001b[43m)\u001b[49m\n\u001b[1;32m   3803\u001b[0m \u001b[38;5;28;01mexcept\u001b[39;00m \u001b[38;5;167;01mKeyError\u001b[39;00m \u001b[38;5;28;01mas\u001b[39;00m err:\n",
      "File \u001b[0;32m~/.pyenv/versions/3.10.11/lib/python3.10/site-packages/pandas/_libs/index.pyx:138\u001b[0m, in \u001b[0;36mpandas._libs.index.IndexEngine.get_loc\u001b[0;34m()\u001b[0m\n",
      "File \u001b[0;32m~/.pyenv/versions/3.10.11/lib/python3.10/site-packages/pandas/_libs/index.pyx:165\u001b[0m, in \u001b[0;36mpandas._libs.index.IndexEngine.get_loc\u001b[0;34m()\u001b[0m\n",
      "File \u001b[0;32mpandas/_libs/hashtable_class_helper.pxi:5745\u001b[0m, in \u001b[0;36mpandas._libs.hashtable.PyObjectHashTable.get_item\u001b[0;34m()\u001b[0m\n",
      "File \u001b[0;32mpandas/_libs/hashtable_class_helper.pxi:5753\u001b[0m, in \u001b[0;36mpandas._libs.hashtable.PyObjectHashTable.get_item\u001b[0;34m()\u001b[0m\n",
      "\u001b[0;31mKeyError\u001b[0m: 'posti_aggiornati_al'",
      "\nThe above exception was the direct cause of the following exception:\n",
      "\u001b[0;31mKeyError\u001b[0m                                  Traceback (most recent call last)",
      "Cell \u001b[0;32mIn[29], line 2\u001b[0m\n\u001b[1;32m      1\u001b[0m \u001b[38;5;66;03m# Get the most recent update\u001b[39;00m\n\u001b[0;32m----> 2\u001b[0m df[\u001b[38;5;124m'\u001b[39m\u001b[38;5;124mposti_aggiornati_al\u001b[39m\u001b[38;5;124m'\u001b[39m] \u001b[38;5;241m=\u001b[39m pd\u001b[38;5;241m.\u001b[39mto_datetime(\u001b[43mdf\u001b[49m\u001b[43m[\u001b[49m\u001b[38;5;124;43m'\u001b[39;49m\u001b[38;5;124;43mposti_aggiornati_al\u001b[39;49m\u001b[38;5;124;43m'\u001b[39;49m\u001b[43m]\u001b[49m, \u001b[38;5;28mformat\u001b[39m\u001b[38;5;241m=\u001b[39m\u001b[38;5;124m'\u001b[39m\u001b[38;5;124m%\u001b[39m\u001b[38;5;124mY-\u001b[39m\u001b[38;5;124m%\u001b[39m\u001b[38;5;124mm-\u001b[39m\u001b[38;5;132;01m%d\u001b[39;00m\u001b[38;5;124m'\u001b[39m)\n\u001b[1;32m      3\u001b[0m df_most_recent \u001b[38;5;241m=\u001b[39m df\u001b[38;5;241m.\u001b[39mloc[df\u001b[38;5;241m.\u001b[39mgroupby(\u001b[38;5;124m'\u001b[39m\u001b[38;5;124mid\u001b[39m\u001b[38;5;124m'\u001b[39m)[\u001b[38;5;124m'\u001b[39m\u001b[38;5;124mposti_aggiornati_al\u001b[39m\u001b[38;5;124m'\u001b[39m]\u001b[38;5;241m.\u001b[39midxmax()]\n\u001b[1;32m      5\u001b[0m \u001b[38;5;66;03m# Adding columns for places available and overcrowding index\u001b[39;00m\n",
      "File \u001b[0;32m~/.pyenv/versions/3.10.11/lib/python3.10/site-packages/pandas/core/frame.py:3807\u001b[0m, in \u001b[0;36mDataFrame.__getitem__\u001b[0;34m(self, key)\u001b[0m\n\u001b[1;32m   3805\u001b[0m \u001b[38;5;28;01mif\u001b[39;00m \u001b[38;5;28mself\u001b[39m\u001b[38;5;241m.\u001b[39mcolumns\u001b[38;5;241m.\u001b[39mnlevels \u001b[38;5;241m>\u001b[39m \u001b[38;5;241m1\u001b[39m:\n\u001b[1;32m   3806\u001b[0m     \u001b[38;5;28;01mreturn\u001b[39;00m \u001b[38;5;28mself\u001b[39m\u001b[38;5;241m.\u001b[39m_getitem_multilevel(key)\n\u001b[0;32m-> 3807\u001b[0m indexer \u001b[38;5;241m=\u001b[39m \u001b[38;5;28;43mself\u001b[39;49m\u001b[38;5;241;43m.\u001b[39;49m\u001b[43mcolumns\u001b[49m\u001b[38;5;241;43m.\u001b[39;49m\u001b[43mget_loc\u001b[49m\u001b[43m(\u001b[49m\u001b[43mkey\u001b[49m\u001b[43m)\u001b[49m\n\u001b[1;32m   3808\u001b[0m \u001b[38;5;28;01mif\u001b[39;00m is_integer(indexer):\n\u001b[1;32m   3809\u001b[0m     indexer \u001b[38;5;241m=\u001b[39m [indexer]\n",
      "File \u001b[0;32m~/.pyenv/versions/3.10.11/lib/python3.10/site-packages/pandas/core/indexes/base.py:3804\u001b[0m, in \u001b[0;36mIndex.get_loc\u001b[0;34m(self, key, method, tolerance)\u001b[0m\n\u001b[1;32m   3802\u001b[0m     \u001b[38;5;28;01mreturn\u001b[39;00m \u001b[38;5;28mself\u001b[39m\u001b[38;5;241m.\u001b[39m_engine\u001b[38;5;241m.\u001b[39mget_loc(casted_key)\n\u001b[1;32m   3803\u001b[0m \u001b[38;5;28;01mexcept\u001b[39;00m \u001b[38;5;167;01mKeyError\u001b[39;00m \u001b[38;5;28;01mas\u001b[39;00m err:\n\u001b[0;32m-> 3804\u001b[0m     \u001b[38;5;28;01mraise\u001b[39;00m \u001b[38;5;167;01mKeyError\u001b[39;00m(key) \u001b[38;5;28;01mfrom\u001b[39;00m \u001b[38;5;21;01merr\u001b[39;00m\n\u001b[1;32m   3805\u001b[0m \u001b[38;5;28;01mexcept\u001b[39;00m \u001b[38;5;167;01mTypeError\u001b[39;00m:\n\u001b[1;32m   3806\u001b[0m     \u001b[38;5;66;03m# If we have a listlike key, _check_indexing_error will raise\u001b[39;00m\n\u001b[1;32m   3807\u001b[0m     \u001b[38;5;66;03m#  InvalidIndexError. Otherwise we fall through and re-raise\u001b[39;00m\n\u001b[1;32m   3808\u001b[0m     \u001b[38;5;66;03m#  the TypeError.\u001b[39;00m\n\u001b[1;32m   3809\u001b[0m     \u001b[38;5;28mself\u001b[39m\u001b[38;5;241m.\u001b[39m_check_indexing_error(key)\n",
      "\u001b[0;31mKeyError\u001b[0m: 'posti_aggiornati_al'"
     ]
    }
   ],
   "source": [
    "# Get the most recent update\n",
    "df['posti_aggiornati_al'] = pd.to_datetime(df['posti_aggiornati_al'], format='%Y-%m-%d')\n",
    "df_most_recent = df.loc[df.groupby('id')['posti_aggiornati_al'].idxmax()]\n",
    "\n",
    "# Adding columns for places available and overcrowding index\n",
    "df_most_recent['posti_reali'] = df_most_recent['posti_regolamentari'] - df_most_recent['posti_non_disponibili']\n",
    "df_most_recent['tasso_sovraffollamento'] = round(((df_most_recent['posti_occupati'] / df_most_recent['posti_reali'])*100),0)"
   ]
  },
  {
   "cell_type": "code",
   "execution_count": null,
   "metadata": {},
   "outputs": [],
   "source": [
    "df_most_recent.value_counts(['posti_aggiornati_al'])"
   ]
  },
  {
   "cell_type": "code",
   "execution_count": null,
   "metadata": {},
   "outputs": [],
   "source": [
    "# Adding institutes' information for mapping the institutes\n",
    "# Read institutes' csv\n",
    "\n",
    "df_info = pd.read_csv('../outputs/clean/institutes_info.csv')\n",
    "df_info = df_info.rename(columns={'id_istituto': 'id'})\n",
    "\n",
    "merged_df = pd.merge(df_most_recent, df_info, on='id')\n",
    "\n",
    "# Adding additional columns\n",
    "merged_df['posti_reali'] = merged_df['posti_regolamentari'] - merged_df['posti_non_disponibili']\n",
    "\n",
    "merged_df['tasso_affollamento'] = round((merged_df['posti_occupati'] / merged_df['posti_reali']) * 100, 0)\n",
    "\n",
    "\n",
    "# Keep only relevant columns\n",
    "df_filtered = merged_df[\n",
    "  [\n",
    "    'id',\n",
    "    'nome',\n",
    "    'tasso_affollamento',\n",
    "    'indirizzo',\n",
    "    'tipo',\n",
    "   'posti_regolamentari',\n",
    "    'posti_non_disponibili',\n",
    "    'posti_reali',\n",
    "    'posti_occupati',\n",
    "    'posti_aggiornati_al',\n",
    "    'personale_polizia_previsti',\n",
    "    'personale_polizia_effettivi',\n",
    "    'personale_polizia_aggiornato_a',\n",
    "    'personale_amministrativi_previsti',\n",
    "    'personale_amministrativi_effettivi',\n",
    "    'personale_amministrativo_aggiornato_al',\n",
    "    'latitudine',\n",
    "    'longitude'\n",
    "    ]\n",
    "    ]\n",
    "\n",
    "df_filtered.head()"
   ]
  },
  {
   "cell_type": "code",
   "execution_count": null,
   "metadata": {},
   "outputs": [],
   "source": [
    "df_filtered.head()"
   ]
  },
  {
   "cell_type": "code",
   "execution_count": null,
   "metadata": {},
   "outputs": [],
   "source": [
    "df_filtered['scheda_istituto'] = '<a href=\"https://www.giustizia.it/giustizia/page/it/dettaglio_scheda_istituto_penitenziario?s=' + df_filtered['id'] + '\">Vai alla scheda istituto.</a>'\n",
    "\n",
    "\n",
    "df_filtered.head()"
   ]
  },
  {
   "cell_type": "code",
   "execution_count": 8,
   "metadata": {},
   "outputs": [],
   "source": [
    "# df_filtered['personale_polizia_mancanti'] = df_filtered['personale_polizia_previsti'] - df_filtered['personale_polizia_effettivi']\n",
    "# df_filtered['personale_polizia_mancanti_perc'] = round(df_filtered['personale_polizia_mancanti'] / df_filtered['personale_polizia_previsti'] * 100, 2)\n",
    "\n",
    "# df_filtered.sort_values('personale_polizia_mancanti_perc', ascending=False)"
   ]
  },
  {
   "cell_type": "code",
   "execution_count": 9,
   "metadata": {},
   "outputs": [],
   "source": [
    "# Saving csv\n",
    "df_filtered.to_csv('../outputs/viz/institutes_most_recent.csv', index=False, encoding='UTF-8-sig')"
   ]
  },
  {
   "cell_type": "markdown",
   "metadata": {},
   "source": [
    "## 1. Totals"
   ]
  },
  {
   "cell_type": "code",
   "execution_count": null,
   "metadata": {},
   "outputs": [],
   "source": [
    "grouped_df = df.groupby('posti_aggiornati_al').sum(numeric_only=True).reset_index()\n",
    "grouped_df"
   ]
  },
  {
   "cell_type": "code",
   "execution_count": null,
   "metadata": {},
   "outputs": [],
   "source": [
    "grouped_df['posti_reali'] = (grouped_df['posti_regolamentari'] - grouped_df['posti_non_disponibili']).round(0)\n",
    "grouped_df['tasso_sovraffollamento'] = ((grouped_df['posti_occupati'] / grouped_df['posti_reali']))*100\n",
    "\n",
    "grouped_df.head()\n"
   ]
  },
  {
   "cell_type": "code",
   "execution_count": null,
   "metadata": {},
   "outputs": [],
   "source": [
    "grouped_df = grouped_df[['posti_aggiornati_al', 'posti_regolamentari', 'posti_non_disponibili', 'posti_occupati']]\n",
    "grouped_df['posti_disponibili'] = grouped_df['posti_regolamentari'] - grouped_df['posti_non_disponibili']\n",
    "grouped_df['tasso_affollamento'] = round((grouped_df['posti_occupati'] / grouped_df['posti_disponibili'])*100,4).astype(float)\n",
    "grouped_df.head()\n"
   ]
  },
  {
   "cell_type": "code",
   "execution_count": 13,
   "metadata": {},
   "outputs": [],
   "source": [
    "grouped_df.to_csv('../outputs/viz/institutes_totals.csv', index=False)"
   ]
  },
  {
   "cell_type": "code",
   "execution_count": null,
   "metadata": {},
   "outputs": [],
   "source": []
  },
  {
   "cell_type": "markdown",
   "metadata": {},
   "source": [
    "## Personale"
   ]
  },
  {
   "cell_type": "code",
   "execution_count": null,
   "metadata": {},
   "outputs": [],
   "source": [
    "df = pd.read_csv('../outputs/viz/institutes_most_recent.csv')\n",
    "\n",
    "\n",
    "df_polizia = df[['nome', 'posti_occupati', 'tasso_affollamento', 'personale_polizia_previsti', 'personale_polizia_effettivi', 'personale_polizia_aggiornato_a', 'posti_aggiornati_al']]\n",
    "\n",
    "df_polizia['personale_polizia_mancanti'] = df_polizia['personale_polizia_previsti'] - df_polizia['personale_polizia_effettivi']\n",
    "\n",
    "df_polizia.head(2)"
   ]
  },
  {
   "cell_type": "code",
   "execution_count": null,
   "metadata": {},
   "outputs": [],
   "source": [
    "df_polizia['personale_polizia_mancanti_perceent'] = round(df_polizia['personale_polizia_mancanti'] / df_polizia['personale_polizia_previsti']*100,2)\n",
    "df_polizia.head(2)\n"
   ]
  },
  {
   "cell_type": "code",
   "execution_count": null,
   "metadata": {},
   "outputs": [],
   "source": [
    "df_polizia_clean = df_polizia[df_polizia['posti_occupati'] != 0]\n",
    "df_polizia_clean.sort_values('personale_polizia_mancanti_perceent', ascending=False).head(2)"
   ]
  },
  {
   "cell_type": "code",
   "execution_count": null,
   "metadata": {},
   "outputs": [],
   "source": [
    "critical_prisons = df_polizia_clean[(df_polizia_clean['tasso_affollamento'] > 120) & (df_polizia_clean['personale_polizia_mancanti_perceent'] > 20)].reset_index(drop=True)\n",
    "critical_prisons"
   ]
  },
  {
   "cell_type": "code",
   "execution_count": 18,
   "metadata": {},
   "outputs": [],
   "source": [
    "critical_prisons.to_csv('../outputs/viz/institutes_critical.csv', index=False, encoding='UTF-8-sig')"
   ]
  },
  {
   "cell_type": "markdown",
   "metadata": {},
   "source": [
    "### Tasso Reale"
   ]
  },
  {
   "cell_type": "code",
   "execution_count": 19,
   "metadata": {},
   "outputs": [],
   "source": [
    "df1 = pd.read_csv('../outputs/viz/bulletines_totals.csv')\n",
    "df2 = pd.read_csv('../outputs/viz/institutes_totals.csv')"
   ]
  },
  {
   "cell_type": "code",
   "execution_count": 20,
   "metadata": {},
   "outputs": [],
   "source": [
    "# Renaming columns for clarity and merging on a unified date column\n",
    "df1.rename(columns={'Ultimo aggiornamento': 'Date', 'tasso_affollamento': 'tasso_affollamento_ufficiale'}, inplace=True)\n",
    "df2.rename(columns={'posti_aggiornati_al': 'Date', 'tasso_affollamento': 'tasso_affollamento_reale'}, inplace=True)"
   ]
  },
  {
   "cell_type": "code",
   "execution_count": 21,
   "metadata": {},
   "outputs": [],
   "source": [
    "# Converting the Date columns to datetime for consistency\n",
    "df1['Date'] = pd.to_datetime(df1['Date'])\n",
    "df2['Date'] = pd.to_datetime(df2['Date'])"
   ]
  },
  {
   "cell_type": "code",
   "execution_count": null,
   "metadata": {},
   "outputs": [],
   "source": [
    "df2.tail(2)"
   ]
  },
  {
   "cell_type": "code",
   "execution_count": null,
   "metadata": {},
   "outputs": [],
   "source": [
    "merged_df = pd.merge(df1[['Date', 'tasso_affollamento_ufficiale']], \n",
    "                     df2[['Date', 'tasso_affollamento_reale']], \n",
    "                     on='Date', \n",
    "                     how='outer')\n",
    "merged_df.sort_values(by='Date', inplace=True)\n",
    "\n",
    "merged_df.tail(2)"
   ]
  },
  {
   "cell_type": "code",
   "execution_count": null,
   "metadata": {},
   "outputs": [],
   "source": [
    "filtered_df = merged_df[merged_df['Date'] > '2024-08-01']\n",
    "filtered_df.tail(2)\n"
   ]
  },
  {
   "cell_type": "code",
   "execution_count": null,
   "metadata": {},
   "outputs": [],
   "source": [
    "# Apply linear interpolation for missing values\n",
    "filtered_df['tasso_affollamento_ufficiale (interpolated)'] = round((filtered_df['tasso_affollamento_ufficiale'].interpolate(method='linear')),4)\n",
    "filtered_df['tasso_affollamento_reale (interpolated)'] = round((filtered_df['tasso_affollamento_reale'].interpolate(method='linear')),4)\n",
    "\n",
    "filtered_df.tail(2)\n"
   ]
  },
  {
   "cell_type": "code",
   "execution_count": 26,
   "metadata": {},
   "outputs": [],
   "source": [
    "filtered_df.to_csv('../outputs/viz/tasso_affollamento.csv', index=False)"
   ]
  }
 ],
 "metadata": {
  "kernelspec": {
   "display_name": "Python 3",
   "language": "python",
   "name": "python3"
  },
  "language_info": {
   "codemirror_mode": {
    "name": "ipython",
    "version": 3
   },
   "file_extension": ".py",
   "mimetype": "text/x-python",
   "name": "python",
   "nbconvert_exporter": "python",
   "pygments_lexer": "ipython3",
   "version": "3.10.11"
  }
 },
 "nbformat": 4,
 "nbformat_minor": 2
}

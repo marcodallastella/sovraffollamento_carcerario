{
 "cells": [
  {
   "cell_type": "markdown",
   "metadata": {},
   "source": [
    "# Scraper institutes\n",
    "\n",
    "This notebook is a scraper used to retrieve generic information about detention centers in Italy (such as name, code, address, geographic coordinates). To do so, it uses the information stored at the webpage https://www.giustizia.it/giustizia/page/it/istituti_penitenziari. Because the information is loaded as javascript, we first use Selenium to save the code and then we use BeautifulSoup tand RegEx to parse the information."
   ]
  },
  {
   "cell_type": "code",
   "execution_count": 1,
   "metadata": {},
   "outputs": [],
   "source": [
    "from playwright.async_api import async_playwright\n",
    "from bs4 import BeautifulSoup\n",
    "import pandas as pd\n",
    "import re\n",
    "import html\n",
    "import datetime"
   ]
  },
  {
   "cell_type": "code",
   "execution_count": null,
   "metadata": {},
   "outputs": [],
   "source": [
    "# \"Hey, open up a browser\"\n",
    "# playwright = await async_playwright().start()\n",
    "# browser = await playwright.chromium.launch(headless=False)\n",
    "playwright = await async_playwright().start()\n",
    "browser = await playwright.firefox.launch()\n",
    "context = await browser.new_context(viewport={'width': 1280, 'height': 800})\n",
    "\n",
    "# Create a new browser window\n",
    "page = await context.new_page()\n",
    "\n",
    "# Tell it to go to this page\n",
    "print(\"Going to page...\")\n",
    "await page.goto(\"https://www.giustizia.it/giustizia/page/it/istituti_penitenziari\", timeout=60000)\n",
    "\n",
    "html_content = await page.content()\n",
    "print(\"Got html content of the page, closing the browser and parsing it with BeautifulSoup\")\n",
    "await browser.close()\n",
    "\n",
    "# Parsing the code with BeautifuSoup and RegEx\n",
    "doc = BeautifulSoup(html_content)\n",
    "# Find all institute marks\n",
    "marks = re.findall(r\"marker\\.codiceIstituto.*?push\", str(doc), re.DOTALL)\n",
    "institutes_info = []\n",
    "n = 0\n",
    "\n",
    "for mark in marks:\n",
    "    try:\n",
    "        codice_istituto = re.search(r\"marker\\.codiceIstituto\\s*=\\s*\\\"(.*?)\\\";\", mark).group(1)\n",
    "        print(codice_istituto)\n",
    "        title = re.search(r\"marker\\.title\\s*=\\s*\\\"(.*?)\\\";\", mark).group(1)\n",
    "        title = html.unescape(title)\n",
    "        print(title)\n",
    "        tipo = re.search(r\"marker\\.tipo\\s*=\\s*\\\"(.*?)\\\";\", mark).group(1)\n",
    "        lat = re.search(r\"marker\\.lat\\s*=\\s*(.*?);\", mark).group(1)\n",
    "        lon = re.search(r\"marker\\.lon\\s*=\\s*(.*?);\", mark).group(1)\n",
    "        provv_id = re.search(r\"marker\\.provv\\s*=\\s*{id:\\s*(\\d+),\", mark).group(1)\n",
    "        provv_name = re.search(r\"marker\\.provv\\s*=\\s*{id:\\s*\\d+,\\s*name:\\s*\\\"(.*?)\\\"}\", mark).group(1)\n",
    "        indirizzo = re.search(r\"marker\\.indirizzo\\s*=\\s*\\\"(.*?)\\\";\", mark).group(1)\n",
    "        telefono = re.search(r\"marker\\.telefono\\s*=\\s*\\\"(.*?)\\\";\", mark).group(1)\n",
    "        mii = re.search(r\"marker\\.mii\\s*=\\s*\\'(.*?)\\'\", mark).group(1)\n",
    "\n",
    "\n",
    "        institute_info = {\n",
    "            \"id_istituto\": mii,\n",
    "            \"codice_istituto\" : codice_istituto,\n",
    "            \"nome_istituto\" : title,\n",
    "            \"tipo_istituto\" : tipo,\n",
    "            \"latitudine\" : lat,\n",
    "            \"longitude\" : lon,\n",
    "            \"id_provveditorato\" : provv_id,\n",
    "            \"nome_provveditorato\" : provv_name,\n",
    "            \"indirizzo\" : indirizzo,\n",
    "            \"telefono\" : telefono\n",
    "        }\n",
    "\n",
    "        institutes_info.append(institute_info)\n",
    "        print(f\"mark scraped number {n}\")\n",
    "        n += 1\n",
    "        print(\"####\")\n",
    "\n",
    "    except AttributeError:\n",
    "        continue\n",
    "    \n",
    "print(\"Job finished, saving data to df\")\n",
    "df = pd.DataFrame(institutes_info)"
   ]
  },
  {
   "cell_type": "code",
   "execution_count": null,
   "metadata": {},
   "outputs": [],
   "source": [
    "df.head()"
   ]
  },
  {
   "cell_type": "markdown",
   "metadata": {},
   "source": [
    "## Some (very basic) cleaning"
   ]
  },
  {
   "cell_type": "code",
   "execution_count": null,
   "metadata": {},
   "outputs": [],
   "source": [
    "df['tipo_istituto'].value_counts()"
   ]
  },
  {
   "cell_type": "code",
   "execution_count": 6,
   "metadata": {},
   "outputs": [],
   "source": [
    "# Cleaning institute names\n",
    "df['tipo_istituto'] = df['tipo_istituto'].str.strip()\n",
    "df['tipo_istituto'] = df['tipo_istituto'].str.replace(\"-$\", \"\", regex=True).str.strip()"
   ]
  },
  {
   "cell_type": "code",
   "execution_count": null,
   "metadata": {},
   "outputs": [],
   "source": [
    "df['tipo_istituto'].value_counts()"
   ]
  },
  {
   "cell_type": "code",
   "execution_count": 8,
   "metadata": {},
   "outputs": [],
   "source": [
    "df.to_csv(f'../outputs/clean/institutes_info.csv', index=False)"
   ]
  }
 ],
 "metadata": {
  "kernelspec": {
   "display_name": "Python 3",
   "language": "python",
   "name": "python3"
  },
  "language_info": {
   "codemirror_mode": {
    "name": "ipython",
    "version": 3
   },
   "file_extension": ".py",
   "mimetype": "text/x-python",
   "name": "python",
   "nbconvert_exporter": "python",
   "pygments_lexer": "ipython3",
   "version": "3.10.11"
  }
 },
 "nbformat": 4,
 "nbformat_minor": 2
}
